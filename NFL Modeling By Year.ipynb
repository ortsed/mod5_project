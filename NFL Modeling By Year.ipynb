{
 "cells": [
  {
   "cell_type": "markdown",
   "metadata": {},
   "source": [
    "# Data importing and cleaning"
   ]
  },
  {
   "cell_type": "code",
   "execution_count": 194,
   "metadata": {
    "ExecuteTime": {
     "end_time": "2019-07-03T20:08:47.813486Z",
     "start_time": "2019-07-03T20:08:47.805579Z"
    }
   },
   "outputs": [],
   "source": [
    "import pandas as pd\n",
    "import numpy as np\n",
    "from patsy import dmatrices\n",
    "from sklearn.model_selection import train_test_split\n",
    "from sklearn.ensemble import RandomForestClassifier\n",
    "from sklearn.metrics import accuracy_score\n",
    "from sklearn.model_selection import GridSearchCV\n",
    "from sklearn.ensemble import RandomForestRegressor"
   ]
  },
  {
   "cell_type": "code",
   "execution_count": 172,
   "metadata": {
    "ExecuteTime": {
     "end_time": "2019-07-03T20:03:22.771575Z",
     "start_time": "2019-07-03T20:03:22.740560Z"
    }
   },
   "outputs": [],
   "source": [
    "pd.set_option('display.max_columns', 500)"
   ]
  },
  {
   "cell_type": "code",
   "execution_count": 177,
   "metadata": {
    "ExecuteTime": {
     "end_time": "2019-07-03T20:04:01.779860Z",
     "start_time": "2019-07-03T20:04:01.691812Z"
    }
   },
   "outputs": [],
   "source": [
    "df = pd.read_csv(\"data/data_cumulative.csv\")"
   ]
  },
  {
   "cell_type": "code",
   "execution_count": 178,
   "metadata": {
    "ExecuteTime": {
     "end_time": "2019-07-03T20:04:03.912158Z",
     "start_time": "2019-07-03T20:04:03.903444Z"
    }
   },
   "outputs": [],
   "source": [
    "df = df.drop(columns=\"Unnamed: 0\")"
   ]
  },
  {
   "cell_type": "code",
   "execution_count": 179,
   "metadata": {
    "ExecuteTime": {
     "end_time": "2019-07-03T20:04:05.904877Z",
     "start_time": "2019-07-03T20:04:05.831748Z"
    }
   },
   "outputs": [
    {
     "data": {
      "text/html": [
       "<div>\n",
       "<style scoped>\n",
       "    .dataframe tbody tr th:only-of-type {\n",
       "        vertical-align: middle;\n",
       "    }\n",
       "\n",
       "    .dataframe tbody tr th {\n",
       "        vertical-align: top;\n",
       "    }\n",
       "\n",
       "    .dataframe thead th {\n",
       "        text-align: right;\n",
       "    }\n",
       "</style>\n",
       "<table border=\"1\" class=\"dataframe\">\n",
       "  <thead>\n",
       "    <tr style=\"text-align: right;\">\n",
       "      <th></th>\n",
       "      <th>schedule_date</th>\n",
       "      <th>schedule_season</th>\n",
       "      <th>schedule_week</th>\n",
       "      <th>schedule_playoff</th>\n",
       "      <th>team_home</th>\n",
       "      <th>score_home</th>\n",
       "      <th>score_away</th>\n",
       "      <th>team_away</th>\n",
       "      <th>team_favorite_id</th>\n",
       "      <th>spread_favorite</th>\n",
       "      <th>over_under_line</th>\n",
       "      <th>stadium</th>\n",
       "      <th>stadium_neutral</th>\n",
       "      <th>weather_temperature</th>\n",
       "      <th>weather_wind_mph</th>\n",
       "      <th>weather_humidity</th>\n",
       "      <th>weather_detail</th>\n",
       "      <th>team_home_id</th>\n",
       "      <th>team_away_id</th>\n",
       "      <th>team_underdog_id</th>\n",
       "      <th>total_score</th>\n",
       "      <th>over_under_result</th>\n",
       "      <th>actual_spread</th>\n",
       "      <th>spread_result</th>\n",
       "      <th>game_winner_id</th>\n",
       "      <th>game_id_h</th>\n",
       "      <th>game_id_a</th>\n",
       "      <th>stadium_name</th>\n",
       "      <th>stadium_type</th>\n",
       "      <th>stadium_weather_type</th>\n",
       "      <th>stadium_surface</th>\n",
       "      <th>LATITUDE</th>\n",
       "      <th>LONGITUDE</th>\n",
       "      <th>ELEVATION</th>\n",
       "      <th>h_game_id_team</th>\n",
       "      <th>h_travel_distance</th>\n",
       "      <th>h_season_wins</th>\n",
       "      <th>h_season_losses</th>\n",
       "      <th>h_season_ties</th>\n",
       "      <th>h_season_pct</th>\n",
       "      <th>h_days_last_game</th>\n",
       "      <th>h_avg_season_score</th>\n",
       "      <th>a_game_id_team</th>\n",
       "      <th>a_travel_distance</th>\n",
       "      <th>a_season_wins</th>\n",
       "      <th>a_season_losses</th>\n",
       "      <th>a_season_ties</th>\n",
       "      <th>a_season_pct</th>\n",
       "      <th>a_days_last_game</th>\n",
       "      <th>a_avg_season_score</th>\n",
       "    </tr>\n",
       "  </thead>\n",
       "  <tbody>\n",
       "    <tr>\n",
       "      <th>0</th>\n",
       "      <td>2011-09-08</td>\n",
       "      <td>2011</td>\n",
       "      <td>1</td>\n",
       "      <td>False</td>\n",
       "      <td>Green Bay Packers</td>\n",
       "      <td>42</td>\n",
       "      <td>34</td>\n",
       "      <td>New Orleans Saints</td>\n",
       "      <td>GB</td>\n",
       "      <td>-5.0</td>\n",
       "      <td>48.0</td>\n",
       "      <td>Lambeau Field</td>\n",
       "      <td>False</td>\n",
       "      <td>68.0</td>\n",
       "      <td>5.0</td>\n",
       "      <td>67.0</td>\n",
       "      <td>Fair</td>\n",
       "      <td>GB</td>\n",
       "      <td>NO</td>\n",
       "      <td>NO</td>\n",
       "      <td>76</td>\n",
       "      <td>over</td>\n",
       "      <td>-8</td>\n",
       "      <td>favorite</td>\n",
       "      <td>GB</td>\n",
       "      <td>2011-1-GB</td>\n",
       "      <td>2011-1-NO</td>\n",
       "      <td>Lambeau Field</td>\n",
       "      <td>outdoor</td>\n",
       "      <td>cold</td>\n",
       "      <td>Grass</td>\n",
       "      <td>44.4794</td>\n",
       "      <td>-88.1366</td>\n",
       "      <td>209.4</td>\n",
       "      <td>2011-1-GB</td>\n",
       "      <td>0.0</td>\n",
       "      <td>0.0</td>\n",
       "      <td>0.0</td>\n",
       "      <td>0.0</td>\n",
       "      <td>0.5</td>\n",
       "      <td>250.0</td>\n",
       "      <td>22.5</td>\n",
       "      <td>2011-1-NO</td>\n",
       "      <td>0.0</td>\n",
       "      <td>0.0</td>\n",
       "      <td>0.0</td>\n",
       "      <td>0.0</td>\n",
       "      <td>0.5</td>\n",
       "      <td>250.0</td>\n",
       "      <td>22.5</td>\n",
       "    </tr>\n",
       "    <tr>\n",
       "      <th>1</th>\n",
       "      <td>2011-09-11</td>\n",
       "      <td>2011</td>\n",
       "      <td>1</td>\n",
       "      <td>False</td>\n",
       "      <td>Arizona Cardinals</td>\n",
       "      <td>28</td>\n",
       "      <td>21</td>\n",
       "      <td>Carolina Panthers</td>\n",
       "      <td>ARI</td>\n",
       "      <td>-7.0</td>\n",
       "      <td>37.5</td>\n",
       "      <td>University of Phoenix Stadium</td>\n",
       "      <td>False</td>\n",
       "      <td>72.0</td>\n",
       "      <td>0.0</td>\n",
       "      <td>NaN</td>\n",
       "      <td>DOME</td>\n",
       "      <td>ARI</td>\n",
       "      <td>CAR</td>\n",
       "      <td>CAR</td>\n",
       "      <td>49</td>\n",
       "      <td>over</td>\n",
       "      <td>-7</td>\n",
       "      <td>push</td>\n",
       "      <td>ARI</td>\n",
       "      <td>2011-1-ARI</td>\n",
       "      <td>2011-1-CAR</td>\n",
       "      <td>University of Phoenix Stadium</td>\n",
       "      <td>retractable</td>\n",
       "      <td>dome</td>\n",
       "      <td>Grass</td>\n",
       "      <td>33.4552</td>\n",
       "      <td>-111.9316</td>\n",
       "      <td>375.2</td>\n",
       "      <td>2011-1-ARI</td>\n",
       "      <td>0.0</td>\n",
       "      <td>0.0</td>\n",
       "      <td>0.0</td>\n",
       "      <td>0.0</td>\n",
       "      <td>0.5</td>\n",
       "      <td>250.0</td>\n",
       "      <td>22.5</td>\n",
       "      <td>2011-1-CAR</td>\n",
       "      <td>0.0</td>\n",
       "      <td>0.0</td>\n",
       "      <td>0.0</td>\n",
       "      <td>0.0</td>\n",
       "      <td>0.5</td>\n",
       "      <td>250.0</td>\n",
       "      <td>22.5</td>\n",
       "    </tr>\n",
       "  </tbody>\n",
       "</table>\n",
       "</div>"
      ],
      "text/plain": [
       "  schedule_date  schedule_season  schedule_week  schedule_playoff  \\\n",
       "0    2011-09-08             2011              1             False   \n",
       "1    2011-09-11             2011              1             False   \n",
       "\n",
       "           team_home  score_home  score_away           team_away  \\\n",
       "0  Green Bay Packers          42          34  New Orleans Saints   \n",
       "1  Arizona Cardinals          28          21   Carolina Panthers   \n",
       "\n",
       "  team_favorite_id  spread_favorite  over_under_line  \\\n",
       "0               GB             -5.0             48.0   \n",
       "1              ARI             -7.0             37.5   \n",
       "\n",
       "                         stadium  stadium_neutral  weather_temperature  \\\n",
       "0                  Lambeau Field            False                 68.0   \n",
       "1  University of Phoenix Stadium            False                 72.0   \n",
       "\n",
       "   weather_wind_mph  weather_humidity weather_detail team_home_id  \\\n",
       "0               5.0              67.0           Fair           GB   \n",
       "1               0.0               NaN           DOME          ARI   \n",
       "\n",
       "  team_away_id team_underdog_id  total_score over_under_result  actual_spread  \\\n",
       "0           NO               NO           76              over             -8   \n",
       "1          CAR              CAR           49              over             -7   \n",
       "\n",
       "  spread_result game_winner_id   game_id_h   game_id_a  \\\n",
       "0      favorite             GB   2011-1-GB   2011-1-NO   \n",
       "1          push            ARI  2011-1-ARI  2011-1-CAR   \n",
       "\n",
       "                    stadium_name stadium_type stadium_weather_type  \\\n",
       "0                  Lambeau Field      outdoor                 cold   \n",
       "1  University of Phoenix Stadium  retractable                 dome   \n",
       "\n",
       "  stadium_surface  LATITUDE  LONGITUDE  ELEVATION h_game_id_team  \\\n",
       "0           Grass   44.4794   -88.1366      209.4      2011-1-GB   \n",
       "1           Grass   33.4552  -111.9316      375.2     2011-1-ARI   \n",
       "\n",
       "   h_travel_distance  h_season_wins  h_season_losses  h_season_ties  \\\n",
       "0                0.0            0.0              0.0            0.0   \n",
       "1                0.0            0.0              0.0            0.0   \n",
       "\n",
       "   h_season_pct  h_days_last_game  h_avg_season_score a_game_id_team  \\\n",
       "0           0.5             250.0                22.5      2011-1-NO   \n",
       "1           0.5             250.0                22.5     2011-1-CAR   \n",
       "\n",
       "   a_travel_distance  a_season_wins  a_season_losses  a_season_ties  \\\n",
       "0                0.0            0.0              0.0            0.0   \n",
       "1                0.0            0.0              0.0            0.0   \n",
       "\n",
       "   a_season_pct  a_days_last_game  a_avg_season_score  \n",
       "0           0.5             250.0                22.5  \n",
       "1           0.5             250.0                22.5  "
      ]
     },
     "execution_count": 179,
     "metadata": {},
     "output_type": "execute_result"
    }
   ],
   "source": [
    "df.head(2)"
   ]
  },
  {
   "cell_type": "code",
   "execution_count": 183,
   "metadata": {
    "ExecuteTime": {
     "end_time": "2019-07-03T20:07:14.604911Z",
     "start_time": "2019-07-03T20:07:14.406111Z"
    }
   },
   "outputs": [],
   "source": [
    "df[\"home_win\"] = df.apply(lambda x: x[\"game_winner_id\"] == x[\"team_home_id\"], axis=1)"
   ]
  },
  {
   "cell_type": "markdown",
   "metadata": {
    "heading_collapsed": true
   },
   "source": [
    "# Define X, y"
   ]
  },
  {
   "cell_type": "code",
   "execution_count": 184,
   "metadata": {
    "ExecuteTime": {
     "end_time": "2019-07-03T20:07:18.062691Z",
     "start_time": "2019-07-03T20:07:17.895842Z"
    },
    "hidden": true
   },
   "outputs": [],
   "source": [
    "y, X = dmatrices('home_win ~ schedule_season + a_season_pct + h_season_pct + C(team_favorite_id) \\\n",
    "                         + a_avg_season_score + h_avg_season_score \\\n",
    "                         + C(team_underdog_id) + schedule_week + ELEVATION \\\n",
    "                         + weather_detail + h_travel_distance + a_travel_distance + h_days_last_game + a_days_last_game', \n",
    "                         df, return_type = \"dataframe\" )"
   ]
  },
  {
   "cell_type": "code",
   "execution_count": 185,
   "metadata": {
    "ExecuteTime": {
     "end_time": "2019-07-03T20:07:21.064060Z",
     "start_time": "2019-07-03T20:07:20.876727Z"
    },
    "hidden": true,
    "scrolled": true
   },
   "outputs": [
    {
     "data": {
      "text/html": [
       "<div>\n",
       "<style scoped>\n",
       "    .dataframe tbody tr th:only-of-type {\n",
       "        vertical-align: middle;\n",
       "    }\n",
       "\n",
       "    .dataframe tbody tr th {\n",
       "        vertical-align: top;\n",
       "    }\n",
       "\n",
       "    .dataframe thead th {\n",
       "        text-align: right;\n",
       "    }\n",
       "</style>\n",
       "<table border=\"1\" class=\"dataframe\">\n",
       "  <thead>\n",
       "    <tr style=\"text-align: right;\">\n",
       "      <th></th>\n",
       "      <th>Intercept</th>\n",
       "      <th>C(team_favorite_id)[T.ATL]</th>\n",
       "      <th>C(team_favorite_id)[T.BAL]</th>\n",
       "      <th>C(team_favorite_id)[T.BUF]</th>\n",
       "      <th>C(team_favorite_id)[T.CAR]</th>\n",
       "      <th>C(team_favorite_id)[T.CHI]</th>\n",
       "      <th>C(team_favorite_id)[T.CIN]</th>\n",
       "      <th>C(team_favorite_id)[T.CLE]</th>\n",
       "      <th>C(team_favorite_id)[T.DAL]</th>\n",
       "      <th>C(team_favorite_id)[T.DEN]</th>\n",
       "      <th>C(team_favorite_id)[T.DET]</th>\n",
       "      <th>C(team_favorite_id)[T.GB]</th>\n",
       "      <th>C(team_favorite_id)[T.HOU]</th>\n",
       "      <th>C(team_favorite_id)[T.IND]</th>\n",
       "      <th>C(team_favorite_id)[T.JAX]</th>\n",
       "      <th>C(team_favorite_id)[T.KC]</th>\n",
       "      <th>C(team_favorite_id)[T.LAC]</th>\n",
       "      <th>C(team_favorite_id)[T.LAR]</th>\n",
       "      <th>C(team_favorite_id)[T.MIA]</th>\n",
       "      <th>C(team_favorite_id)[T.MIN]</th>\n",
       "      <th>C(team_favorite_id)[T.NE]</th>\n",
       "      <th>C(team_favorite_id)[T.NO]</th>\n",
       "      <th>C(team_favorite_id)[T.NYG]</th>\n",
       "      <th>C(team_favorite_id)[T.NYJ]</th>\n",
       "      <th>C(team_favorite_id)[T.OAK]</th>\n",
       "      <th>C(team_favorite_id)[T.PHI]</th>\n",
       "      <th>C(team_favorite_id)[T.PICK]</th>\n",
       "      <th>C(team_favorite_id)[T.PIT]</th>\n",
       "      <th>C(team_favorite_id)[T.SEA]</th>\n",
       "      <th>C(team_favorite_id)[T.SF]</th>\n",
       "      <th>C(team_favorite_id)[T.TB]</th>\n",
       "      <th>C(team_favorite_id)[T.TEN]</th>\n",
       "      <th>C(team_favorite_id)[T.WAS]</th>\n",
       "      <th>C(team_underdog_id)[T.ATL]</th>\n",
       "      <th>C(team_underdog_id)[T.BAL]</th>\n",
       "      <th>C(team_underdog_id)[T.BUF]</th>\n",
       "      <th>C(team_underdog_id)[T.CAR]</th>\n",
       "      <th>C(team_underdog_id)[T.CHI]</th>\n",
       "      <th>C(team_underdog_id)[T.CIN]</th>\n",
       "      <th>C(team_underdog_id)[T.CLE]</th>\n",
       "      <th>C(team_underdog_id)[T.DAL]</th>\n",
       "      <th>C(team_underdog_id)[T.DEN]</th>\n",
       "      <th>C(team_underdog_id)[T.DET]</th>\n",
       "      <th>C(team_underdog_id)[T.GB]</th>\n",
       "      <th>C(team_underdog_id)[T.HOU]</th>\n",
       "      <th>C(team_underdog_id)[T.IND]</th>\n",
       "      <th>C(team_underdog_id)[T.JAX]</th>\n",
       "      <th>C(team_underdog_id)[T.KC]</th>\n",
       "      <th>C(team_underdog_id)[T.LAC]</th>\n",
       "      <th>C(team_underdog_id)[T.LAR]</th>\n",
       "      <th>C(team_underdog_id)[T.MIA]</th>\n",
       "      <th>C(team_underdog_id)[T.MIN]</th>\n",
       "      <th>C(team_underdog_id)[T.NE]</th>\n",
       "      <th>C(team_underdog_id)[T.NO]</th>\n",
       "      <th>C(team_underdog_id)[T.NYG]</th>\n",
       "      <th>C(team_underdog_id)[T.NYJ]</th>\n",
       "      <th>C(team_underdog_id)[T.OAK]</th>\n",
       "      <th>C(team_underdog_id)[T.PHI]</th>\n",
       "      <th>C(team_underdog_id)[T.PICK]</th>\n",
       "      <th>C(team_underdog_id)[T.PIT]</th>\n",
       "      <th>C(team_underdog_id)[T.SEA]</th>\n",
       "      <th>C(team_underdog_id)[T.SF]</th>\n",
       "      <th>C(team_underdog_id)[T.TB]</th>\n",
       "      <th>C(team_underdog_id)[T.TEN]</th>\n",
       "      <th>C(team_underdog_id)[T.WAS]</th>\n",
       "      <th>weather_detail[T.DOME (Open Roof)]</th>\n",
       "      <th>weather_detail[T.Fair]</th>\n",
       "      <th>weather_detail[T.Fog]</th>\n",
       "      <th>weather_detail[T.Rain]</th>\n",
       "      <th>weather_detail[T.Rain | Fog]</th>\n",
       "      <th>weather_detail[T.Snow]</th>\n",
       "      <th>weather_detail[T.Snow | Fog]</th>\n",
       "      <th>weather_detail[T.Snow | Freezing Rain]</th>\n",
       "      <th>schedule_season</th>\n",
       "      <th>a_season_pct</th>\n",
       "      <th>h_season_pct</th>\n",
       "      <th>a_avg_season_score</th>\n",
       "      <th>h_avg_season_score</th>\n",
       "      <th>schedule_week</th>\n",
       "      <th>ELEVATION</th>\n",
       "      <th>h_travel_distance</th>\n",
       "      <th>a_travel_distance</th>\n",
       "      <th>h_days_last_game</th>\n",
       "      <th>a_days_last_game</th>\n",
       "    </tr>\n",
       "  </thead>\n",
       "  <tbody>\n",
       "    <tr>\n",
       "      <th>2131</th>\n",
       "      <td>1.0</td>\n",
       "      <td>0.0</td>\n",
       "      <td>0.0</td>\n",
       "      <td>0.0</td>\n",
       "      <td>0.0</td>\n",
       "      <td>0.0</td>\n",
       "      <td>0.0</td>\n",
       "      <td>0.0</td>\n",
       "      <td>0.0</td>\n",
       "      <td>0.0</td>\n",
       "      <td>0.0</td>\n",
       "      <td>0.0</td>\n",
       "      <td>0.0</td>\n",
       "      <td>0.0</td>\n",
       "      <td>0.0</td>\n",
       "      <td>0.0</td>\n",
       "      <td>0.0</td>\n",
       "      <td>0.0</td>\n",
       "      <td>0.0</td>\n",
       "      <td>0.0</td>\n",
       "      <td>0.0</td>\n",
       "      <td>1.0</td>\n",
       "      <td>0.0</td>\n",
       "      <td>0.0</td>\n",
       "      <td>0.0</td>\n",
       "      <td>0.0</td>\n",
       "      <td>0.0</td>\n",
       "      <td>0.0</td>\n",
       "      <td>0.0</td>\n",
       "      <td>0.0</td>\n",
       "      <td>0.0</td>\n",
       "      <td>0.0</td>\n",
       "      <td>0.0</td>\n",
       "      <td>0.0</td>\n",
       "      <td>0.0</td>\n",
       "      <td>0.0</td>\n",
       "      <td>0.0</td>\n",
       "      <td>0.0</td>\n",
       "      <td>0.0</td>\n",
       "      <td>0.0</td>\n",
       "      <td>0.0</td>\n",
       "      <td>0.0</td>\n",
       "      <td>0.0</td>\n",
       "      <td>0.0</td>\n",
       "      <td>0.0</td>\n",
       "      <td>0.0</td>\n",
       "      <td>0.0</td>\n",
       "      <td>0.0</td>\n",
       "      <td>0.0</td>\n",
       "      <td>0.0</td>\n",
       "      <td>0.0</td>\n",
       "      <td>0.0</td>\n",
       "      <td>0.0</td>\n",
       "      <td>0.0</td>\n",
       "      <td>0.0</td>\n",
       "      <td>0.0</td>\n",
       "      <td>0.0</td>\n",
       "      <td>1.0</td>\n",
       "      <td>0.0</td>\n",
       "      <td>0.0</td>\n",
       "      <td>0.0</td>\n",
       "      <td>0.0</td>\n",
       "      <td>0.0</td>\n",
       "      <td>0.0</td>\n",
       "      <td>0.0</td>\n",
       "      <td>0.0</td>\n",
       "      <td>0.0</td>\n",
       "      <td>0.0</td>\n",
       "      <td>0.0</td>\n",
       "      <td>0.0</td>\n",
       "      <td>0.0</td>\n",
       "      <td>0.0</td>\n",
       "      <td>0.0</td>\n",
       "      <td>2018.0</td>\n",
       "      <td>0.588235</td>\n",
       "      <td>0.812500</td>\n",
       "      <td>22.529412</td>\n",
       "      <td>31.500000</td>\n",
       "      <td>19.0</td>\n",
       "      <td>32.0</td>\n",
       "      <td>0.000000</td>\n",
       "      <td>1339.496163</td>\n",
       "      <td>14.0</td>\n",
       "      <td>7.0</td>\n",
       "    </tr>\n",
       "    <tr>\n",
       "      <th>2132</th>\n",
       "      <td>1.0</td>\n",
       "      <td>0.0</td>\n",
       "      <td>0.0</td>\n",
       "      <td>0.0</td>\n",
       "      <td>0.0</td>\n",
       "      <td>0.0</td>\n",
       "      <td>0.0</td>\n",
       "      <td>0.0</td>\n",
       "      <td>0.0</td>\n",
       "      <td>0.0</td>\n",
       "      <td>0.0</td>\n",
       "      <td>0.0</td>\n",
       "      <td>0.0</td>\n",
       "      <td>0.0</td>\n",
       "      <td>0.0</td>\n",
       "      <td>0.0</td>\n",
       "      <td>0.0</td>\n",
       "      <td>0.0</td>\n",
       "      <td>0.0</td>\n",
       "      <td>0.0</td>\n",
       "      <td>1.0</td>\n",
       "      <td>0.0</td>\n",
       "      <td>0.0</td>\n",
       "      <td>0.0</td>\n",
       "      <td>0.0</td>\n",
       "      <td>0.0</td>\n",
       "      <td>0.0</td>\n",
       "      <td>0.0</td>\n",
       "      <td>0.0</td>\n",
       "      <td>0.0</td>\n",
       "      <td>0.0</td>\n",
       "      <td>0.0</td>\n",
       "      <td>0.0</td>\n",
       "      <td>0.0</td>\n",
       "      <td>0.0</td>\n",
       "      <td>0.0</td>\n",
       "      <td>0.0</td>\n",
       "      <td>0.0</td>\n",
       "      <td>0.0</td>\n",
       "      <td>0.0</td>\n",
       "      <td>0.0</td>\n",
       "      <td>0.0</td>\n",
       "      <td>0.0</td>\n",
       "      <td>0.0</td>\n",
       "      <td>0.0</td>\n",
       "      <td>0.0</td>\n",
       "      <td>0.0</td>\n",
       "      <td>0.0</td>\n",
       "      <td>1.0</td>\n",
       "      <td>0.0</td>\n",
       "      <td>0.0</td>\n",
       "      <td>0.0</td>\n",
       "      <td>0.0</td>\n",
       "      <td>0.0</td>\n",
       "      <td>0.0</td>\n",
       "      <td>0.0</td>\n",
       "      <td>0.0</td>\n",
       "      <td>0.0</td>\n",
       "      <td>0.0</td>\n",
       "      <td>0.0</td>\n",
       "      <td>0.0</td>\n",
       "      <td>0.0</td>\n",
       "      <td>0.0</td>\n",
       "      <td>0.0</td>\n",
       "      <td>0.0</td>\n",
       "      <td>0.0</td>\n",
       "      <td>1.0</td>\n",
       "      <td>0.0</td>\n",
       "      <td>0.0</td>\n",
       "      <td>0.0</td>\n",
       "      <td>0.0</td>\n",
       "      <td>0.0</td>\n",
       "      <td>0.0</td>\n",
       "      <td>2018.0</td>\n",
       "      <td>0.764706</td>\n",
       "      <td>0.687500</td>\n",
       "      <td>26.529412</td>\n",
       "      <td>27.250000</td>\n",
       "      <td>19.0</td>\n",
       "      <td>24.4</td>\n",
       "      <td>0.000000</td>\n",
       "      <td>576.751879</td>\n",
       "      <td>14.0</td>\n",
       "      <td>7.0</td>\n",
       "    </tr>\n",
       "    <tr>\n",
       "      <th>2133</th>\n",
       "      <td>1.0</td>\n",
       "      <td>0.0</td>\n",
       "      <td>0.0</td>\n",
       "      <td>0.0</td>\n",
       "      <td>0.0</td>\n",
       "      <td>0.0</td>\n",
       "      <td>0.0</td>\n",
       "      <td>0.0</td>\n",
       "      <td>0.0</td>\n",
       "      <td>0.0</td>\n",
       "      <td>0.0</td>\n",
       "      <td>0.0</td>\n",
       "      <td>0.0</td>\n",
       "      <td>0.0</td>\n",
       "      <td>0.0</td>\n",
       "      <td>0.0</td>\n",
       "      <td>0.0</td>\n",
       "      <td>0.0</td>\n",
       "      <td>0.0</td>\n",
       "      <td>0.0</td>\n",
       "      <td>0.0</td>\n",
       "      <td>1.0</td>\n",
       "      <td>0.0</td>\n",
       "      <td>0.0</td>\n",
       "      <td>0.0</td>\n",
       "      <td>0.0</td>\n",
       "      <td>0.0</td>\n",
       "      <td>0.0</td>\n",
       "      <td>0.0</td>\n",
       "      <td>0.0</td>\n",
       "      <td>0.0</td>\n",
       "      <td>0.0</td>\n",
       "      <td>0.0</td>\n",
       "      <td>0.0</td>\n",
       "      <td>0.0</td>\n",
       "      <td>0.0</td>\n",
       "      <td>0.0</td>\n",
       "      <td>0.0</td>\n",
       "      <td>0.0</td>\n",
       "      <td>0.0</td>\n",
       "      <td>0.0</td>\n",
       "      <td>0.0</td>\n",
       "      <td>0.0</td>\n",
       "      <td>0.0</td>\n",
       "      <td>0.0</td>\n",
       "      <td>0.0</td>\n",
       "      <td>0.0</td>\n",
       "      <td>0.0</td>\n",
       "      <td>0.0</td>\n",
       "      <td>1.0</td>\n",
       "      <td>0.0</td>\n",
       "      <td>0.0</td>\n",
       "      <td>0.0</td>\n",
       "      <td>0.0</td>\n",
       "      <td>0.0</td>\n",
       "      <td>0.0</td>\n",
       "      <td>0.0</td>\n",
       "      <td>0.0</td>\n",
       "      <td>0.0</td>\n",
       "      <td>0.0</td>\n",
       "      <td>0.0</td>\n",
       "      <td>0.0</td>\n",
       "      <td>0.0</td>\n",
       "      <td>0.0</td>\n",
       "      <td>0.0</td>\n",
       "      <td>0.0</td>\n",
       "      <td>0.0</td>\n",
       "      <td>0.0</td>\n",
       "      <td>0.0</td>\n",
       "      <td>0.0</td>\n",
       "      <td>0.0</td>\n",
       "      <td>0.0</td>\n",
       "      <td>0.0</td>\n",
       "      <td>2018.0</td>\n",
       "      <td>0.823529</td>\n",
       "      <td>0.823529</td>\n",
       "      <td>32.764706</td>\n",
       "      <td>30.823529</td>\n",
       "      <td>20.0</td>\n",
       "      <td>32.0</td>\n",
       "      <td>0.000000</td>\n",
       "      <td>2703.956221</td>\n",
       "      <td>7.0</td>\n",
       "      <td>8.0</td>\n",
       "    </tr>\n",
       "    <tr>\n",
       "      <th>2134</th>\n",
       "      <td>1.0</td>\n",
       "      <td>0.0</td>\n",
       "      <td>0.0</td>\n",
       "      <td>0.0</td>\n",
       "      <td>0.0</td>\n",
       "      <td>0.0</td>\n",
       "      <td>0.0</td>\n",
       "      <td>0.0</td>\n",
       "      <td>0.0</td>\n",
       "      <td>0.0</td>\n",
       "      <td>0.0</td>\n",
       "      <td>0.0</td>\n",
       "      <td>0.0</td>\n",
       "      <td>0.0</td>\n",
       "      <td>0.0</td>\n",
       "      <td>1.0</td>\n",
       "      <td>0.0</td>\n",
       "      <td>0.0</td>\n",
       "      <td>0.0</td>\n",
       "      <td>0.0</td>\n",
       "      <td>0.0</td>\n",
       "      <td>0.0</td>\n",
       "      <td>0.0</td>\n",
       "      <td>0.0</td>\n",
       "      <td>0.0</td>\n",
       "      <td>0.0</td>\n",
       "      <td>0.0</td>\n",
       "      <td>0.0</td>\n",
       "      <td>0.0</td>\n",
       "      <td>0.0</td>\n",
       "      <td>0.0</td>\n",
       "      <td>0.0</td>\n",
       "      <td>0.0</td>\n",
       "      <td>0.0</td>\n",
       "      <td>0.0</td>\n",
       "      <td>0.0</td>\n",
       "      <td>0.0</td>\n",
       "      <td>0.0</td>\n",
       "      <td>0.0</td>\n",
       "      <td>0.0</td>\n",
       "      <td>0.0</td>\n",
       "      <td>0.0</td>\n",
       "      <td>0.0</td>\n",
       "      <td>0.0</td>\n",
       "      <td>0.0</td>\n",
       "      <td>0.0</td>\n",
       "      <td>0.0</td>\n",
       "      <td>0.0</td>\n",
       "      <td>0.0</td>\n",
       "      <td>0.0</td>\n",
       "      <td>0.0</td>\n",
       "      <td>0.0</td>\n",
       "      <td>1.0</td>\n",
       "      <td>0.0</td>\n",
       "      <td>0.0</td>\n",
       "      <td>0.0</td>\n",
       "      <td>0.0</td>\n",
       "      <td>0.0</td>\n",
       "      <td>0.0</td>\n",
       "      <td>0.0</td>\n",
       "      <td>0.0</td>\n",
       "      <td>0.0</td>\n",
       "      <td>0.0</td>\n",
       "      <td>0.0</td>\n",
       "      <td>0.0</td>\n",
       "      <td>0.0</td>\n",
       "      <td>1.0</td>\n",
       "      <td>0.0</td>\n",
       "      <td>0.0</td>\n",
       "      <td>0.0</td>\n",
       "      <td>0.0</td>\n",
       "      <td>0.0</td>\n",
       "      <td>0.0</td>\n",
       "      <td>2018.0</td>\n",
       "      <td>0.705882</td>\n",
       "      <td>0.764706</td>\n",
       "      <td>28.058824</td>\n",
       "      <td>35.058824</td>\n",
       "      <td>20.0</td>\n",
       "      <td>264.9</td>\n",
       "      <td>0.000000</td>\n",
       "      <td>2009.546077</td>\n",
       "      <td>8.0</td>\n",
       "      <td>7.0</td>\n",
       "    </tr>\n",
       "    <tr>\n",
       "      <th>2135</th>\n",
       "      <td>1.0</td>\n",
       "      <td>0.0</td>\n",
       "      <td>0.0</td>\n",
       "      <td>0.0</td>\n",
       "      <td>0.0</td>\n",
       "      <td>0.0</td>\n",
       "      <td>0.0</td>\n",
       "      <td>0.0</td>\n",
       "      <td>0.0</td>\n",
       "      <td>0.0</td>\n",
       "      <td>0.0</td>\n",
       "      <td>0.0</td>\n",
       "      <td>0.0</td>\n",
       "      <td>0.0</td>\n",
       "      <td>0.0</td>\n",
       "      <td>0.0</td>\n",
       "      <td>0.0</td>\n",
       "      <td>0.0</td>\n",
       "      <td>0.0</td>\n",
       "      <td>0.0</td>\n",
       "      <td>1.0</td>\n",
       "      <td>0.0</td>\n",
       "      <td>0.0</td>\n",
       "      <td>0.0</td>\n",
       "      <td>0.0</td>\n",
       "      <td>0.0</td>\n",
       "      <td>0.0</td>\n",
       "      <td>0.0</td>\n",
       "      <td>0.0</td>\n",
       "      <td>0.0</td>\n",
       "      <td>0.0</td>\n",
       "      <td>0.0</td>\n",
       "      <td>0.0</td>\n",
       "      <td>0.0</td>\n",
       "      <td>0.0</td>\n",
       "      <td>0.0</td>\n",
       "      <td>0.0</td>\n",
       "      <td>0.0</td>\n",
       "      <td>0.0</td>\n",
       "      <td>0.0</td>\n",
       "      <td>0.0</td>\n",
       "      <td>0.0</td>\n",
       "      <td>0.0</td>\n",
       "      <td>0.0</td>\n",
       "      <td>0.0</td>\n",
       "      <td>0.0</td>\n",
       "      <td>0.0</td>\n",
       "      <td>0.0</td>\n",
       "      <td>0.0</td>\n",
       "      <td>1.0</td>\n",
       "      <td>0.0</td>\n",
       "      <td>0.0</td>\n",
       "      <td>0.0</td>\n",
       "      <td>0.0</td>\n",
       "      <td>0.0</td>\n",
       "      <td>0.0</td>\n",
       "      <td>0.0</td>\n",
       "      <td>0.0</td>\n",
       "      <td>0.0</td>\n",
       "      <td>0.0</td>\n",
       "      <td>0.0</td>\n",
       "      <td>0.0</td>\n",
       "      <td>0.0</td>\n",
       "      <td>0.0</td>\n",
       "      <td>0.0</td>\n",
       "      <td>0.0</td>\n",
       "      <td>0.0</td>\n",
       "      <td>0.0</td>\n",
       "      <td>0.0</td>\n",
       "      <td>0.0</td>\n",
       "      <td>0.0</td>\n",
       "      <td>0.0</td>\n",
       "      <td>0.0</td>\n",
       "      <td>2018.0</td>\n",
       "      <td>0.833333</td>\n",
       "      <td>0.722222</td>\n",
       "      <td>32.388889</td>\n",
       "      <td>28.555556</td>\n",
       "      <td>21.0</td>\n",
       "      <td>309.0</td>\n",
       "      <td>1078.812466</td>\n",
       "      <td>683.109522</td>\n",
       "      <td>14.0</td>\n",
       "      <td>14.0</td>\n",
       "    </tr>\n",
       "  </tbody>\n",
       "</table>\n",
       "</div>"
      ],
      "text/plain": [
       "      Intercept  C(team_favorite_id)[T.ATL]  C(team_favorite_id)[T.BAL]  \\\n",
       "2131        1.0                         0.0                         0.0   \n",
       "2132        1.0                         0.0                         0.0   \n",
       "2133        1.0                         0.0                         0.0   \n",
       "2134        1.0                         0.0                         0.0   \n",
       "2135        1.0                         0.0                         0.0   \n",
       "\n",
       "      C(team_favorite_id)[T.BUF]  C(team_favorite_id)[T.CAR]  \\\n",
       "2131                         0.0                         0.0   \n",
       "2132                         0.0                         0.0   \n",
       "2133                         0.0                         0.0   \n",
       "2134                         0.0                         0.0   \n",
       "2135                         0.0                         0.0   \n",
       "\n",
       "      C(team_favorite_id)[T.CHI]  C(team_favorite_id)[T.CIN]  \\\n",
       "2131                         0.0                         0.0   \n",
       "2132                         0.0                         0.0   \n",
       "2133                         0.0                         0.0   \n",
       "2134                         0.0                         0.0   \n",
       "2135                         0.0                         0.0   \n",
       "\n",
       "      C(team_favorite_id)[T.CLE]  C(team_favorite_id)[T.DAL]  \\\n",
       "2131                         0.0                         0.0   \n",
       "2132                         0.0                         0.0   \n",
       "2133                         0.0                         0.0   \n",
       "2134                         0.0                         0.0   \n",
       "2135                         0.0                         0.0   \n",
       "\n",
       "      C(team_favorite_id)[T.DEN]  C(team_favorite_id)[T.DET]  \\\n",
       "2131                         0.0                         0.0   \n",
       "2132                         0.0                         0.0   \n",
       "2133                         0.0                         0.0   \n",
       "2134                         0.0                         0.0   \n",
       "2135                         0.0                         0.0   \n",
       "\n",
       "      C(team_favorite_id)[T.GB]  C(team_favorite_id)[T.HOU]  \\\n",
       "2131                        0.0                         0.0   \n",
       "2132                        0.0                         0.0   \n",
       "2133                        0.0                         0.0   \n",
       "2134                        0.0                         0.0   \n",
       "2135                        0.0                         0.0   \n",
       "\n",
       "      C(team_favorite_id)[T.IND]  C(team_favorite_id)[T.JAX]  \\\n",
       "2131                         0.0                         0.0   \n",
       "2132                         0.0                         0.0   \n",
       "2133                         0.0                         0.0   \n",
       "2134                         0.0                         0.0   \n",
       "2135                         0.0                         0.0   \n",
       "\n",
       "      C(team_favorite_id)[T.KC]  C(team_favorite_id)[T.LAC]  \\\n",
       "2131                        0.0                         0.0   \n",
       "2132                        0.0                         0.0   \n",
       "2133                        0.0                         0.0   \n",
       "2134                        1.0                         0.0   \n",
       "2135                        0.0                         0.0   \n",
       "\n",
       "      C(team_favorite_id)[T.LAR]  C(team_favorite_id)[T.MIA]  \\\n",
       "2131                         0.0                         0.0   \n",
       "2132                         0.0                         0.0   \n",
       "2133                         0.0                         0.0   \n",
       "2134                         0.0                         0.0   \n",
       "2135                         0.0                         0.0   \n",
       "\n",
       "      C(team_favorite_id)[T.MIN]  C(team_favorite_id)[T.NE]  \\\n",
       "2131                         0.0                        0.0   \n",
       "2132                         0.0                        1.0   \n",
       "2133                         0.0                        0.0   \n",
       "2134                         0.0                        0.0   \n",
       "2135                         0.0                        1.0   \n",
       "\n",
       "      C(team_favorite_id)[T.NO]  C(team_favorite_id)[T.NYG]  \\\n",
       "2131                        1.0                         0.0   \n",
       "2132                        0.0                         0.0   \n",
       "2133                        1.0                         0.0   \n",
       "2134                        0.0                         0.0   \n",
       "2135                        0.0                         0.0   \n",
       "\n",
       "      C(team_favorite_id)[T.NYJ]  C(team_favorite_id)[T.OAK]  \\\n",
       "2131                         0.0                         0.0   \n",
       "2132                         0.0                         0.0   \n",
       "2133                         0.0                         0.0   \n",
       "2134                         0.0                         0.0   \n",
       "2135                         0.0                         0.0   \n",
       "\n",
       "      C(team_favorite_id)[T.PHI]  C(team_favorite_id)[T.PICK]  \\\n",
       "2131                         0.0                          0.0   \n",
       "2132                         0.0                          0.0   \n",
       "2133                         0.0                          0.0   \n",
       "2134                         0.0                          0.0   \n",
       "2135                         0.0                          0.0   \n",
       "\n",
       "      C(team_favorite_id)[T.PIT]  C(team_favorite_id)[T.SEA]  \\\n",
       "2131                         0.0                         0.0   \n",
       "2132                         0.0                         0.0   \n",
       "2133                         0.0                         0.0   \n",
       "2134                         0.0                         0.0   \n",
       "2135                         0.0                         0.0   \n",
       "\n",
       "      C(team_favorite_id)[T.SF]  C(team_favorite_id)[T.TB]  \\\n",
       "2131                        0.0                        0.0   \n",
       "2132                        0.0                        0.0   \n",
       "2133                        0.0                        0.0   \n",
       "2134                        0.0                        0.0   \n",
       "2135                        0.0                        0.0   \n",
       "\n",
       "      C(team_favorite_id)[T.TEN]  C(team_favorite_id)[T.WAS]  \\\n",
       "2131                         0.0                         0.0   \n",
       "2132                         0.0                         0.0   \n",
       "2133                         0.0                         0.0   \n",
       "2134                         0.0                         0.0   \n",
       "2135                         0.0                         0.0   \n",
       "\n",
       "      C(team_underdog_id)[T.ATL]  C(team_underdog_id)[T.BAL]  \\\n",
       "2131                         0.0                         0.0   \n",
       "2132                         0.0                         0.0   \n",
       "2133                         0.0                         0.0   \n",
       "2134                         0.0                         0.0   \n",
       "2135                         0.0                         0.0   \n",
       "\n",
       "      C(team_underdog_id)[T.BUF]  C(team_underdog_id)[T.CAR]  \\\n",
       "2131                         0.0                         0.0   \n",
       "2132                         0.0                         0.0   \n",
       "2133                         0.0                         0.0   \n",
       "2134                         0.0                         0.0   \n",
       "2135                         0.0                         0.0   \n",
       "\n",
       "      C(team_underdog_id)[T.CHI]  C(team_underdog_id)[T.CIN]  \\\n",
       "2131                         0.0                         0.0   \n",
       "2132                         0.0                         0.0   \n",
       "2133                         0.0                         0.0   \n",
       "2134                         0.0                         0.0   \n",
       "2135                         0.0                         0.0   \n",
       "\n",
       "      C(team_underdog_id)[T.CLE]  C(team_underdog_id)[T.DAL]  \\\n",
       "2131                         0.0                         0.0   \n",
       "2132                         0.0                         0.0   \n",
       "2133                         0.0                         0.0   \n",
       "2134                         0.0                         0.0   \n",
       "2135                         0.0                         0.0   \n",
       "\n",
       "      C(team_underdog_id)[T.DEN]  C(team_underdog_id)[T.DET]  \\\n",
       "2131                         0.0                         0.0   \n",
       "2132                         0.0                         0.0   \n",
       "2133                         0.0                         0.0   \n",
       "2134                         0.0                         0.0   \n",
       "2135                         0.0                         0.0   \n",
       "\n",
       "      C(team_underdog_id)[T.GB]  C(team_underdog_id)[T.HOU]  \\\n",
       "2131                        0.0                         0.0   \n",
       "2132                        0.0                         0.0   \n",
       "2133                        0.0                         0.0   \n",
       "2134                        0.0                         0.0   \n",
       "2135                        0.0                         0.0   \n",
       "\n",
       "      C(team_underdog_id)[T.IND]  C(team_underdog_id)[T.JAX]  \\\n",
       "2131                         0.0                         0.0   \n",
       "2132                         0.0                         0.0   \n",
       "2133                         0.0                         0.0   \n",
       "2134                         0.0                         0.0   \n",
       "2135                         0.0                         0.0   \n",
       "\n",
       "      C(team_underdog_id)[T.KC]  C(team_underdog_id)[T.LAC]  \\\n",
       "2131                        0.0                         0.0   \n",
       "2132                        0.0                         1.0   \n",
       "2133                        0.0                         0.0   \n",
       "2134                        0.0                         0.0   \n",
       "2135                        0.0                         0.0   \n",
       "\n",
       "      C(team_underdog_id)[T.LAR]  C(team_underdog_id)[T.MIA]  \\\n",
       "2131                         0.0                         0.0   \n",
       "2132                         0.0                         0.0   \n",
       "2133                         1.0                         0.0   \n",
       "2134                         0.0                         0.0   \n",
       "2135                         1.0                         0.0   \n",
       "\n",
       "      C(team_underdog_id)[T.MIN]  C(team_underdog_id)[T.NE]  \\\n",
       "2131                         0.0                        0.0   \n",
       "2132                         0.0                        0.0   \n",
       "2133                         0.0                        0.0   \n",
       "2134                         0.0                        1.0   \n",
       "2135                         0.0                        0.0   \n",
       "\n",
       "      C(team_underdog_id)[T.NO]  C(team_underdog_id)[T.NYG]  \\\n",
       "2131                        0.0                         0.0   \n",
       "2132                        0.0                         0.0   \n",
       "2133                        0.0                         0.0   \n",
       "2134                        0.0                         0.0   \n",
       "2135                        0.0                         0.0   \n",
       "\n",
       "      C(team_underdog_id)[T.NYJ]  C(team_underdog_id)[T.OAK]  \\\n",
       "2131                         0.0                         0.0   \n",
       "2132                         0.0                         0.0   \n",
       "2133                         0.0                         0.0   \n",
       "2134                         0.0                         0.0   \n",
       "2135                         0.0                         0.0   \n",
       "\n",
       "      C(team_underdog_id)[T.PHI]  C(team_underdog_id)[T.PICK]  \\\n",
       "2131                         1.0                          0.0   \n",
       "2132                         0.0                          0.0   \n",
       "2133                         0.0                          0.0   \n",
       "2134                         0.0                          0.0   \n",
       "2135                         0.0                          0.0   \n",
       "\n",
       "      C(team_underdog_id)[T.PIT]  C(team_underdog_id)[T.SEA]  \\\n",
       "2131                         0.0                         0.0   \n",
       "2132                         0.0                         0.0   \n",
       "2133                         0.0                         0.0   \n",
       "2134                         0.0                         0.0   \n",
       "2135                         0.0                         0.0   \n",
       "\n",
       "      C(team_underdog_id)[T.SF]  C(team_underdog_id)[T.TB]  \\\n",
       "2131                        0.0                        0.0   \n",
       "2132                        0.0                        0.0   \n",
       "2133                        0.0                        0.0   \n",
       "2134                        0.0                        0.0   \n",
       "2135                        0.0                        0.0   \n",
       "\n",
       "      C(team_underdog_id)[T.TEN]  C(team_underdog_id)[T.WAS]  \\\n",
       "2131                         0.0                         0.0   \n",
       "2132                         0.0                         0.0   \n",
       "2133                         0.0                         0.0   \n",
       "2134                         0.0                         0.0   \n",
       "2135                         0.0                         0.0   \n",
       "\n",
       "      weather_detail[T.DOME (Open Roof)]  weather_detail[T.Fair]  \\\n",
       "2131                                 0.0                     0.0   \n",
       "2132                                 0.0                     1.0   \n",
       "2133                                 0.0                     0.0   \n",
       "2134                                 0.0                     1.0   \n",
       "2135                                 0.0                     0.0   \n",
       "\n",
       "      weather_detail[T.Fog]  weather_detail[T.Rain]  \\\n",
       "2131                    0.0                     0.0   \n",
       "2132                    0.0                     0.0   \n",
       "2133                    0.0                     0.0   \n",
       "2134                    0.0                     0.0   \n",
       "2135                    0.0                     0.0   \n",
       "\n",
       "      weather_detail[T.Rain | Fog]  weather_detail[T.Snow]  \\\n",
       "2131                           0.0                     0.0   \n",
       "2132                           0.0                     0.0   \n",
       "2133                           0.0                     0.0   \n",
       "2134                           0.0                     0.0   \n",
       "2135                           0.0                     0.0   \n",
       "\n",
       "      weather_detail[T.Snow | Fog]  weather_detail[T.Snow | Freezing Rain]  \\\n",
       "2131                           0.0                                     0.0   \n",
       "2132                           0.0                                     0.0   \n",
       "2133                           0.0                                     0.0   \n",
       "2134                           0.0                                     0.0   \n",
       "2135                           0.0                                     0.0   \n",
       "\n",
       "      schedule_season  a_season_pct  h_season_pct  a_avg_season_score  \\\n",
       "2131           2018.0      0.588235      0.812500           22.529412   \n",
       "2132           2018.0      0.764706      0.687500           26.529412   \n",
       "2133           2018.0      0.823529      0.823529           32.764706   \n",
       "2134           2018.0      0.705882      0.764706           28.058824   \n",
       "2135           2018.0      0.833333      0.722222           32.388889   \n",
       "\n",
       "      h_avg_season_score  schedule_week  ELEVATION  h_travel_distance  \\\n",
       "2131           31.500000           19.0       32.0           0.000000   \n",
       "2132           27.250000           19.0       24.4           0.000000   \n",
       "2133           30.823529           20.0       32.0           0.000000   \n",
       "2134           35.058824           20.0      264.9           0.000000   \n",
       "2135           28.555556           21.0      309.0        1078.812466   \n",
       "\n",
       "      a_travel_distance  h_days_last_game  a_days_last_game  \n",
       "2131        1339.496163              14.0               7.0  \n",
       "2132         576.751879              14.0               7.0  \n",
       "2133        2703.956221               7.0               8.0  \n",
       "2134        2009.546077               8.0               7.0  \n",
       "2135         683.109522              14.0              14.0  "
      ]
     },
     "execution_count": 185,
     "metadata": {},
     "output_type": "execute_result"
    }
   ],
   "source": [
    "X.tail()"
   ]
  },
  {
   "cell_type": "markdown",
   "metadata": {
    "hidden": true
   },
   "source": [
    "## Define a moving window for training data, where test data is the following season"
   ]
  },
  {
   "cell_type": "code",
   "execution_count": 186,
   "metadata": {
    "ExecuteTime": {
     "end_time": "2019-07-03T20:07:37.292228Z",
     "start_time": "2019-07-03T20:07:37.287076Z"
    },
    "hidden": true
   },
   "outputs": [],
   "source": [
    "yr = 2017\n",
    "window=4"
   ]
  },
  {
   "cell_type": "code",
   "execution_count": 187,
   "metadata": {
    "ExecuteTime": {
     "end_time": "2019-07-03T20:07:39.306456Z",
     "start_time": "2019-07-03T20:07:39.290841Z"
    },
    "hidden": true
   },
   "outputs": [],
   "source": [
    "X_train = X[(X[\"schedule_season\"] < yr) & (X[\"schedule_season\"] >= yr - window)]\n",
    "y_train = y[(X[\"schedule_season\"] < yr) & (X[\"schedule_season\"] >= yr - window)].squeeze()"
   ]
  },
  {
   "cell_type": "code",
   "execution_count": 188,
   "metadata": {
    "ExecuteTime": {
     "end_time": "2019-07-03T20:07:41.348690Z",
     "start_time": "2019-07-03T20:07:41.333627Z"
    },
    "hidden": true
   },
   "outputs": [],
   "source": [
    "X_test = X[(X[\"schedule_season\"] == yr)]\n",
    "y_test = y[(X[\"schedule_season\"] == yr)].squeeze()"
   ]
  },
  {
   "cell_type": "markdown",
   "metadata": {
    "heading_collapsed": true
   },
   "source": [
    "# Random Forest"
   ]
  },
  {
   "cell_type": "code",
   "execution_count": 189,
   "metadata": {
    "ExecuteTime": {
     "end_time": "2019-07-03T20:07:44.724284Z",
     "start_time": "2019-07-03T20:07:44.595443Z"
    },
    "hidden": true
   },
   "outputs": [],
   "source": [
    "forest = RandomForestClassifier(n_estimators=30, random_state=33)\n",
    "y_pred = forest.fit(X_train, y_train).predict(X_test)"
   ]
  },
  {
   "cell_type": "code",
   "execution_count": 190,
   "metadata": {
    "ExecuteTime": {
     "end_time": "2019-07-03T20:07:46.858034Z",
     "start_time": "2019-07-03T20:07:46.767566Z"
    },
    "hidden": true
   },
   "outputs": [
    {
     "data": {
      "text/plain": [
       "0.5805243445692884"
      ]
     },
     "execution_count": 190,
     "metadata": {},
     "output_type": "execute_result"
    }
   ],
   "source": [
    "accuracy_score(y_test, y_pred)"
   ]
  },
  {
   "cell_type": "markdown",
   "metadata": {
    "hidden": true
   },
   "source": [
    "## Get the best number of estimators"
   ]
  },
  {
   "cell_type": "code",
   "execution_count": 191,
   "metadata": {
    "ExecuteTime": {
     "end_time": "2019-07-03T20:08:16.008086Z",
     "start_time": "2019-07-03T20:07:52.723687Z"
    },
    "hidden": true
   },
   "outputs": [
    {
     "name": "stdout",
     "output_type": "stream",
     "text": [
      "50 0.5814606741573034\n",
      "100 0.5865168539325843\n",
      "200 0.5901373283395757\n"
     ]
    }
   ],
   "source": [
    "acc = []\n",
    "for n in [50, 100, 200]:\n",
    "    for k in range(20):\n",
    "        forest = RandomForestClassifier(n_estimators=n)\n",
    "        y_pred = forest.fit(X_train, y_train).predict(X_test)\n",
    "        acc.append(accuracy_score(y_test, y_pred))\n",
    "    print(n, np.mean(acc))"
   ]
  },
  {
   "cell_type": "code",
   "execution_count": 192,
   "metadata": {
    "ExecuteTime": {
     "end_time": "2019-07-03T20:08:28.641798Z",
     "start_time": "2019-07-03T20:08:24.860408Z"
    },
    "hidden": true
   },
   "outputs": [
    {
     "data": {
      "text/plain": [
       "0.6018726591760301"
      ]
     },
     "execution_count": 192,
     "metadata": {},
     "output_type": "execute_result"
    }
   ],
   "source": [
    "acc = []\n",
    "\n",
    "for k in range(20):\n",
    "    forest = RandomForestClassifier(bootstrap=False, max_depth=60,max_features=\"auto\",min_samples_leaf=4,min_samples_split=5,n_estimators=50)\n",
    "\n",
    "    y_pred = forest.fit(X_train, y_train).predict(X_test)\n",
    "    acc.append(accuracy_score(y_test, y_pred))\n",
    "np.mean(acc)"
   ]
  },
  {
   "cell_type": "markdown",
   "metadata": {
    "ExecuteTime": {
     "end_time": "2019-07-03T20:53:10.806655Z",
     "start_time": "2019-07-03T20:53:10.772231Z"
    },
    "hidden": true
   },
   "source": [
    "## Get the feature importances to see if we can remove any variables"
   ]
  },
  {
   "cell_type": "code",
   "execution_count": 260,
   "metadata": {
    "ExecuteTime": {
     "end_time": "2019-07-03T20:53:25.310024Z",
     "start_time": "2019-07-03T20:53:25.264652Z"
    },
    "hidden": true
   },
   "outputs": [
    {
     "name": "stdout",
     "output_type": "stream",
     "text": [
      "Intercept 0.0\n",
      "C(team_favorite_id)[T.ATL] 0.004758368635269719\n",
      "C(team_favorite_id)[T.BAL] 0.004165238933270156\n",
      "C(team_favorite_id)[T.BUF] 0.003650202874852392\n",
      "C(team_favorite_id)[T.CAR] 0.0067459135574636266\n",
      "C(team_favorite_id)[T.CHI] 0.0008005980438894358\n",
      "C(team_favorite_id)[T.CIN] 0.0018317763808026655\n",
      "C(team_favorite_id)[T.CLE] 0.0014023482860163073\n",
      "C(team_favorite_id)[T.DAL] 0.0028167689926950233\n",
      "C(team_favorite_id)[T.DEN] 0.004444946609937498\n",
      "C(team_favorite_id)[T.DET] 0.005846740242774111\n",
      "C(team_favorite_id)[T.GB] 0.00362155524471118\n",
      "C(team_favorite_id)[T.HOU] 0.003709554983020923\n",
      "C(team_favorite_id)[T.IND] 0.0013662648665441674\n",
      "C(team_favorite_id)[T.JAX] 4.914604519355097e-05\n",
      "C(team_favorite_id)[T.KC] 0.0050298898973226295\n",
      "C(team_favorite_id)[T.LAC] 0.0007460389166105886\n",
      "C(team_favorite_id)[T.LAR] 0.0001897793688235683\n",
      "C(team_favorite_id)[T.MIA] 0.0013410239591557418\n",
      "C(team_favorite_id)[T.MIN] 0.0016892258049879952\n",
      "C(team_favorite_id)[T.NE] 0.0032035659564032216\n",
      "C(team_favorite_id)[T.NO] 0.002107551073223388\n",
      "C(team_favorite_id)[T.NYG] 0.002163260601516866\n",
      "C(team_favorite_id)[T.NYJ] 0.001066123535043681\n",
      "C(team_favorite_id)[T.OAK] 0.00019343182134367462\n",
      "C(team_favorite_id)[T.PHI] 0.0019443055291634532\n",
      "C(team_favorite_id)[T.PICK] 0.00046697060318459633\n",
      "C(team_favorite_id)[T.PIT] 0.002353923286459982\n",
      "C(team_favorite_id)[T.SEA] 0.004822580537356314\n",
      "C(team_favorite_id)[T.SF] 0.003649255800501435\n",
      "C(team_favorite_id)[T.TB] 0.0021408788455934587\n",
      "C(team_favorite_id)[T.TEN] 0.00045905154869835686\n",
      "C(team_favorite_id)[T.WAS] 0.0025972497957892854\n",
      "C(team_underdog_id)[T.ATL] 0.0018504887390954823\n",
      "C(team_underdog_id)[T.BAL] 0.003163907760247699\n",
      "C(team_underdog_id)[T.BUF] 0.00278905926249737\n",
      "C(team_underdog_id)[T.CAR] 0.0020842386615561714\n",
      "C(team_underdog_id)[T.CHI] 0.00428865370116715\n",
      "C(team_underdog_id)[T.CIN] 0.0012830712689040236\n",
      "C(team_underdog_id)[T.CLE] 0.004299229988508341\n",
      "C(team_underdog_id)[T.DAL] 0.006389041171862266\n",
      "C(team_underdog_id)[T.DEN] 0.0\n",
      "C(team_underdog_id)[T.DET] 0.0009475923160574993\n",
      "C(team_underdog_id)[T.GB] 0.0005276143541063629\n",
      "C(team_underdog_id)[T.HOU] 0.002230371487643404\n",
      "C(team_underdog_id)[T.IND] 0.0014602278673775241\n",
      "C(team_underdog_id)[T.JAX] 0.003346184841793464\n",
      "C(team_underdog_id)[T.KC] 0.0001666642162222403\n",
      "C(team_underdog_id)[T.LAC] 0.0027902419273772173\n",
      "C(team_underdog_id)[T.LAR] 0.0028162367989857462\n",
      "C(team_underdog_id)[T.MIA] 0.0021196668291902105\n",
      "C(team_underdog_id)[T.MIN] 0.002233077741090215\n",
      "C(team_underdog_id)[T.NE] 0.0001116264214688706\n",
      "C(team_underdog_id)[T.NO] 0.0006094696897452691\n",
      "C(team_underdog_id)[T.NYG] 0.0030278464344583476\n",
      "C(team_underdog_id)[T.NYJ] 0.002765504573856924\n",
      "C(team_underdog_id)[T.OAK] 0.0026745075129272367\n",
      "C(team_underdog_id)[T.PHI] 0.000947813534354156\n",
      "C(team_underdog_id)[T.PICK] 8.948123596333571e-06\n",
      "C(team_underdog_id)[T.PIT] 0.0019785128653126423\n",
      "C(team_underdog_id)[T.SEA] 1.4809163298121309e-05\n",
      "C(team_underdog_id)[T.SF] 0.0008468520698427038\n",
      "C(team_underdog_id)[T.TB] 0.0044140282803982744\n",
      "C(team_underdog_id)[T.TEN] 0.012035297241839289\n",
      "C(team_underdog_id)[T.WAS] 0.0014308229938110766\n",
      "weather_detail[T.DOME (Open Roof)] 0.002118357577940657\n",
      "weather_detail[T.Fair] 0.012605502797451035\n",
      "weather_detail[T.Fog] 0.00021433541051764523\n",
      "weather_detail[T.Rain] 0.0012950994936876592\n",
      "weather_detail[T.Rain | Fog] 0.0018474612967975135\n",
      "weather_detail[T.Snow] 0.00022107490740021023\n",
      "weather_detail[T.Snow | Fog] 0.0\n",
      "weather_detail[T.Snow | Freezing Rain] 0.0\n",
      "schedule_season 0.02678945006681813\n",
      "a_season_pct 0.08226906619244531\n",
      "h_season_pct 0.12430022082248486\n",
      "a_avg_season_score 0.11444427501670824\n",
      "h_avg_season_score 0.0941696790747796\n",
      "schedule_week 0.06890778450789542\n",
      "ELEVATION 0.09609242550394413\n",
      "h_travel_distance 0.07733600143418114\n",
      "a_travel_distance 0.08820201607249654\n",
      "h_days_last_game 0.030599322928928464\n",
      "a_days_last_game 0.02156278847931283\n"
     ]
    }
   ],
   "source": [
    "for a,b in zip(X.columns, forest.feature_importances_):\n",
    "    print(a,b)"
   ]
  },
  {
   "cell_type": "markdown",
   "metadata": {
    "heading_collapsed": true
   },
   "source": [
    "# Grid Search"
   ]
  },
  {
   "cell_type": "code",
   "execution_count": 195,
   "metadata": {
    "ExecuteTime": {
     "end_time": "2019-07-03T20:08:53.563401Z",
     "start_time": "2019-07-03T20:08:53.554360Z"
    },
    "hidden": true
   },
   "outputs": [],
   "source": [
    "n_estimators = [50,] #[int(x) for x in np.linspace(start = 200, stop = 2000, num = 10)]\n",
    "# Number of features to consider at every split\n",
    "max_features = ['auto', 'sqrt']\n",
    "# Maximum number of levels in tree\n",
    "max_depth = [int(x) for x in np.linspace(10, 110, num = 11)]\n",
    "max_depth.append(None)\n",
    "# Minimum number of samples required to split a node\n",
    "min_samples_split = [2, 5, 10]\n",
    "# Minimum number of samples required at each leaf node\n",
    "min_samples_leaf = [1, 2, 4]\n",
    "# Method of selecting samples for training each tree\n",
    "bootstrap = [True, False]\n",
    "# Create the random grid\n",
    "random_grid = {'n_estimators': n_estimators,\n",
    "               'max_features': max_features,\n",
    "               'max_depth': max_depth,\n",
    "               'min_samples_split': min_samples_split,\n",
    "               'min_samples_leaf': min_samples_leaf,\n",
    "               'bootstrap': bootstrap}"
   ]
  },
  {
   "cell_type": "code",
   "execution_count": 196,
   "metadata": {
    "ExecuteTime": {
     "end_time": "2019-07-03T20:08:59.965693Z",
     "start_time": "2019-07-03T20:08:59.960363Z"
    },
    "hidden": true
   },
   "outputs": [],
   "source": [
    "n_folds = 3\n",
    "gs = GridSearchCV(forest,random_grid, cv=n_folds)\n",
    "\n"
   ]
  },
  {
   "cell_type": "code",
   "execution_count": 197,
   "metadata": {
    "ExecuteTime": {
     "end_time": "2019-07-03T20:12:21.563522Z",
     "start_time": "2019-07-03T20:09:03.722189Z"
    },
    "hidden": true
   },
   "outputs": [
    {
     "data": {
      "text/plain": [
       "GridSearchCV(cv=3, error_score='raise-deprecating',\n",
       "       estimator=RandomForestClassifier(bootstrap=False, class_weight=None, criterion='gini',\n",
       "            max_depth=60, max_features='auto', max_leaf_nodes=None,\n",
       "            min_impurity_decrease=0.0, min_impurity_split=None,\n",
       "            min_samples_leaf=4, min_samples_split=5,\n",
       "            min_weight_fraction_leaf=0.0, n_estimators=50, n_jobs=None,\n",
       "            oob_score=False, random_state=None, verbose=0,\n",
       "            warm_start=False),\n",
       "       fit_params=None, iid='warn', n_jobs=None,\n",
       "       param_grid={'n_estimators': [50], 'max_features': ['auto', 'sqrt'], 'max_depth': [10, 20, 30, 40, 50, 60, 70, 80, 90, 100, 110, None], 'min_samples_split': [2, 5, 10], 'min_samples_leaf': [1, 2, 4], 'bootstrap': [True, False]},\n",
       "       pre_dispatch='2*n_jobs', refit=True, return_train_score='warn',\n",
       "       scoring=None, verbose=0)"
      ]
     },
     "execution_count": 197,
     "metadata": {},
     "output_type": "execute_result"
    }
   ],
   "source": [
    "gs.fit(X_train, y_train)"
   ]
  },
  {
   "cell_type": "code",
   "execution_count": 198,
   "metadata": {
    "ExecuteTime": {
     "end_time": "2019-07-03T20:14:33.776581Z",
     "start_time": "2019-07-03T20:14:33.770245Z"
    },
    "hidden": true
   },
   "outputs": [
    {
     "data": {
      "text/plain": [
       "{'bootstrap': True,\n",
       " 'max_depth': 30,\n",
       " 'max_features': 'auto',\n",
       " 'min_samples_leaf': 4,\n",
       " 'min_samples_split': 10,\n",
       " 'n_estimators': 50}"
      ]
     },
     "execution_count": 198,
     "metadata": {},
     "output_type": "execute_result"
    }
   ],
   "source": [
    "gs.best_params_"
   ]
  },
  {
   "cell_type": "code",
   "execution_count": 200,
   "metadata": {
    "ExecuteTime": {
     "end_time": "2019-07-03T20:15:02.012936Z",
     "start_time": "2019-07-03T20:15:01.982260Z"
    },
    "hidden": true
   },
   "outputs": [
    {
     "data": {
      "text/plain": [
       "0.6142322097378277"
      ]
     },
     "execution_count": 200,
     "metadata": {},
     "output_type": "execute_result"
    }
   ],
   "source": [
    "y_pred = gs.predict(X_test)\n",
    "accuracy_score(y_test, y_pred)"
   ]
  },
  {
   "cell_type": "markdown",
   "metadata": {},
   "source": [
    "# Random Forest Regressor"
   ]
  },
  {
   "cell_type": "code",
   "execution_count": 203,
   "metadata": {
    "ExecuteTime": {
     "end_time": "2019-07-03T20:17:26.253863Z",
     "start_time": "2019-07-03T20:17:26.235451Z"
    }
   },
   "outputs": [],
   "source": [
    "forest_r = RandomForestRegressor(bootstrap=True, max_depth = 30, max_features=\"auto\",\n",
    "min_samples_leaf=4, min_samples_split=10, n_estimators=50)"
   ]
  },
  {
   "cell_type": "code",
   "execution_count": 204,
   "metadata": {
    "ExecuteTime": {
     "end_time": "2019-07-03T20:18:49.338650Z",
     "start_time": "2019-07-03T20:18:48.742733Z"
    }
   },
   "outputs": [],
   "source": [
    "y_pred = forest_r.fit(X_train, y_train).predict(X_test)\n"
   ]
  },
  {
   "cell_type": "code",
   "execution_count": 208,
   "metadata": {
    "ExecuteTime": {
     "end_time": "2019-07-03T20:20:34.839046Z",
     "start_time": "2019-07-03T20:20:34.833916Z"
    }
   },
   "outputs": [],
   "source": [
    "y_pred_2 = 1* (y_pred[:,1] > .5 )"
   ]
  },
  {
   "cell_type": "code",
   "execution_count": 212,
   "metadata": {
    "ExecuteTime": {
     "end_time": "2019-07-03T20:21:52.989159Z",
     "start_time": "2019-07-03T20:21:52.964696Z"
    }
   },
   "outputs": [
    {
     "data": {
      "text/plain": [
       "0.599250936329588"
      ]
     },
     "execution_count": 212,
     "metadata": {},
     "output_type": "execute_result"
    }
   ],
   "source": [
    "accuracy_score(y_test.iloc[:,1], y_pred_2)"
   ]
  },
  {
   "cell_type": "markdown",
   "metadata": {},
   "source": [
    "## Dealing with Close Calls"
   ]
  },
  {
   "cell_type": "code",
   "execution_count": 253,
   "metadata": {
    "ExecuteTime": {
     "end_time": "2019-07-03T20:37:21.247880Z",
     "start_time": "2019-07-03T20:37:21.241523Z"
    },
    "scrolled": true
   },
   "outputs": [],
   "source": [
    "ys = pd.DataFrame(y_pred[:,1],y_test.iloc[:,1] )"
   ]
  },
  {
   "cell_type": "code",
   "execution_count": 254,
   "metadata": {
    "ExecuteTime": {
     "end_time": "2019-07-03T20:37:24.391494Z",
     "start_time": "2019-07-03T20:37:24.384844Z"
    }
   },
   "outputs": [],
   "source": [
    "ys = ys.reset_index()"
   ]
  },
  {
   "cell_type": "code",
   "execution_count": 255,
   "metadata": {
    "ExecuteTime": {
     "end_time": "2019-07-03T20:37:40.375020Z",
     "start_time": "2019-07-03T20:37:40.364583Z"
    }
   },
   "outputs": [],
   "source": [
    "ys[\"home_win\"] = df[\"home_win\"]"
   ]
  },
  {
   "cell_type": "code",
   "execution_count": null,
   "metadata": {},
   "outputs": [],
   "source": [
    "## "
   ]
  },
  {
   "cell_type": "code",
   "execution_count": null,
   "metadata": {},
   "outputs": [],
   "source": []
  },
  {
   "cell_type": "code",
   "execution_count": 261,
   "metadata": {
    "ExecuteTime": {
     "end_time": "2019-07-03T20:59:01.081614Z",
     "start_time": "2019-07-03T20:59:01.015477Z"
    }
   },
   "outputs": [],
   "source": [
    "ys[\"close_call\"] = ys.apply(lambda x: (x[0] > .4) and (x[0] < .6) , axis=1)"
   ]
  },
  {
   "cell_type": "code",
   "execution_count": 263,
   "metadata": {
    "ExecuteTime": {
     "end_time": "2019-07-03T20:59:33.148471Z",
     "start_time": "2019-07-03T20:59:33.126575Z"
    }
   },
   "outputs": [],
   "source": [
    "ys[\"pred\"] = ys.apply(lambda x: (x[\"home_win[True]\"] == round(x[0])) or (x.close_call and x.home_win), axis=1)"
   ]
  },
  {
   "cell_type": "code",
   "execution_count": 265,
   "metadata": {
    "ExecuteTime": {
     "end_time": "2019-07-03T20:59:39.612002Z",
     "start_time": "2019-07-03T20:59:39.604326Z"
    }
   },
   "outputs": [
    {
     "data": {
      "text/plain": [
       "0.6966292134831461"
      ]
     },
     "execution_count": 265,
     "metadata": {},
     "output_type": "execute_result"
    }
   ],
   "source": [
    "ys[\"pred\"].sum()/len(ys)"
   ]
  },
  {
   "cell_type": "code",
   "execution_count": 256,
   "metadata": {
    "ExecuteTime": {
     "end_time": "2019-07-03T20:37:42.948751Z",
     "start_time": "2019-07-03T20:37:42.886302Z"
    },
    "scrolled": true
   },
   "outputs": [
    {
     "data": {
      "text/html": [
       "<div>\n",
       "<style scoped>\n",
       "    .dataframe tbody tr th:only-of-type {\n",
       "        vertical-align: middle;\n",
       "    }\n",
       "\n",
       "    .dataframe tbody tr th {\n",
       "        vertical-align: top;\n",
       "    }\n",
       "\n",
       "    .dataframe thead th {\n",
       "        text-align: right;\n",
       "    }\n",
       "</style>\n",
       "<table border=\"1\" class=\"dataframe\">\n",
       "  <thead>\n",
       "    <tr style=\"text-align: right;\">\n",
       "      <th></th>\n",
       "      <th>home_win[True]</th>\n",
       "      <th>0</th>\n",
       "      <th>home_win</th>\n",
       "    </tr>\n",
       "  </thead>\n",
       "  <tbody>\n",
       "    <tr>\n",
       "      <th>0</th>\n",
       "      <td>0.0</td>\n",
       "      <td>0.700118</td>\n",
       "      <td>True</td>\n",
       "    </tr>\n",
       "    <tr>\n",
       "      <th>1</th>\n",
       "      <td>1.0</td>\n",
       "      <td>0.401775</td>\n",
       "      <td>True</td>\n",
       "    </tr>\n",
       "    <tr>\n",
       "      <th>2</th>\n",
       "      <td>0.0</td>\n",
       "      <td>0.278912</td>\n",
       "      <td>True</td>\n",
       "    </tr>\n",
       "    <tr>\n",
       "      <th>3</th>\n",
       "      <td>0.0</td>\n",
       "      <td>0.415041</td>\n",
       "      <td>True</td>\n",
       "    </tr>\n",
       "    <tr>\n",
       "      <th>4</th>\n",
       "      <td>0.0</td>\n",
       "      <td>0.337303</td>\n",
       "      <td>False</td>\n",
       "    </tr>\n",
       "  </tbody>\n",
       "</table>\n",
       "</div>"
      ],
      "text/plain": [
       "   home_win[True]         0  home_win\n",
       "0             0.0  0.700118      True\n",
       "1             1.0  0.401775      True\n",
       "2             0.0  0.278912      True\n",
       "3             0.0  0.415041      True\n",
       "4             0.0  0.337303     False"
      ]
     },
     "execution_count": 256,
     "metadata": {},
     "output_type": "execute_result"
    }
   ],
   "source": [
    "ys.head()"
   ]
  },
  {
   "cell_type": "markdown",
   "metadata": {},
   "source": [
    "# Ignoring Close Calls"
   ]
  },
  {
   "cell_type": "code",
   "execution_count": 242,
   "metadata": {
    "ExecuteTime": {
     "end_time": "2019-07-03T20:34:47.166017Z",
     "start_time": "2019-07-03T20:34:47.158965Z"
    }
   },
   "outputs": [],
   "source": [
    "ys_betted = ys[(ys[0] > .6) | (ys[0] < .4)]"
   ]
  },
  {
   "cell_type": "code",
   "execution_count": 237,
   "metadata": {
    "ExecuteTime": {
     "end_time": "2019-07-03T20:34:10.153708Z",
     "start_time": "2019-07-03T20:34:10.129468Z"
    }
   },
   "outputs": [
    {
     "data": {
      "text/html": [
       "<div>\n",
       "<style scoped>\n",
       "    .dataframe tbody tr th:only-of-type {\n",
       "        vertical-align: middle;\n",
       "    }\n",
       "\n",
       "    .dataframe tbody tr th {\n",
       "        vertical-align: top;\n",
       "    }\n",
       "\n",
       "    .dataframe thead th {\n",
       "        text-align: right;\n",
       "    }\n",
       "</style>\n",
       "<table border=\"1\" class=\"dataframe\">\n",
       "  <thead>\n",
       "    <tr style=\"text-align: right;\">\n",
       "      <th></th>\n",
       "      <th>home_win[True]</th>\n",
       "      <th>0</th>\n",
       "    </tr>\n",
       "  </thead>\n",
       "  <tbody>\n",
       "    <tr>\n",
       "      <th>0</th>\n",
       "      <td>0.0</td>\n",
       "      <td>0.700118</td>\n",
       "    </tr>\n",
       "    <tr>\n",
       "      <th>1</th>\n",
       "      <td>1.0</td>\n",
       "      <td>0.401775</td>\n",
       "    </tr>\n",
       "    <tr>\n",
       "      <th>2</th>\n",
       "      <td>0.0</td>\n",
       "      <td>0.278912</td>\n",
       "    </tr>\n",
       "    <tr>\n",
       "      <th>3</th>\n",
       "      <td>0.0</td>\n",
       "      <td>0.415041</td>\n",
       "    </tr>\n",
       "    <tr>\n",
       "      <th>4</th>\n",
       "      <td>0.0</td>\n",
       "      <td>0.337303</td>\n",
       "    </tr>\n",
       "  </tbody>\n",
       "</table>\n",
       "</div>"
      ],
      "text/plain": [
       "   home_win[True]         0\n",
       "0             0.0  0.700118\n",
       "1             1.0  0.401775\n",
       "2             0.0  0.278912\n",
       "3             0.0  0.415041\n",
       "4             0.0  0.337303"
      ]
     },
     "execution_count": 237,
     "metadata": {},
     "output_type": "execute_result"
    }
   ],
   "source": [
    "ys_betted.head()"
   ]
  },
  {
   "cell_type": "code",
   "execution_count": 243,
   "metadata": {
    "ExecuteTime": {
     "end_time": "2019-07-03T20:34:49.753938Z",
     "start_time": "2019-07-03T20:34:49.640740Z"
    }
   },
   "outputs": [
    {
     "name": "stderr",
     "output_type": "stream",
     "text": [
      "/Users/lhinkesjones/anaconda3/lib/python3.7/site-packages/ipykernel_launcher.py:1: SettingWithCopyWarning: \n",
      "A value is trying to be set on a copy of a slice from a DataFrame.\n",
      "Try using .loc[row_indexer,col_indexer] = value instead\n",
      "\n",
      "See the caveats in the documentation: http://pandas.pydata.org/pandas-docs/stable/indexing.html#indexing-view-versus-copy\n",
      "  \"\"\"Entry point for launching an IPython kernel.\n"
     ]
    }
   ],
   "source": [
    "ys_betted[\"pred\"] = ys_betted.apply(lambda x: x[\"home_win[True]\"] == round(x[0]), axis=1)"
   ]
  },
  {
   "cell_type": "code",
   "execution_count": 244,
   "metadata": {
    "ExecuteTime": {
     "end_time": "2019-07-03T20:34:51.819190Z",
     "start_time": "2019-07-03T20:34:51.807236Z"
    }
   },
   "outputs": [
    {
     "data": {
      "text/plain": [
       "0.6242774566473989"
      ]
     },
     "execution_count": 244,
     "metadata": {},
     "output_type": "execute_result"
    }
   ],
   "source": [
    "ys_betted[\"pred\"].sum()/len(ys_betted)"
   ]
  },
  {
   "cell_type": "code",
   "execution_count": 245,
   "metadata": {
    "ExecuteTime": {
     "end_time": "2019-07-03T20:34:53.911788Z",
     "start_time": "2019-07-03T20:34:53.902320Z"
    }
   },
   "outputs": [
    {
     "data": {
      "text/plain": [
       "173"
      ]
     },
     "execution_count": 245,
     "metadata": {},
     "output_type": "execute_result"
    }
   ],
   "source": [
    "len(ys_betted)"
   ]
  },
  {
   "cell_type": "code",
   "execution_count": 246,
   "metadata": {
    "ExecuteTime": {
     "end_time": "2019-07-03T20:34:55.722875Z",
     "start_time": "2019-07-03T20:34:55.629668Z"
    }
   },
   "outputs": [
    {
     "data": {
      "text/plain": [
       "2136"
      ]
     },
     "execution_count": 246,
     "metadata": {},
     "output_type": "execute_result"
    }
   ],
   "source": [
    "len(X)"
   ]
  },
  {
   "cell_type": "code",
   "execution_count": null,
   "metadata": {},
   "outputs": [],
   "source": []
  }
 ],
 "metadata": {
  "kernelspec": {
   "display_name": "Python 3",
   "language": "python",
   "name": "python3"
  },
  "language_info": {
   "codemirror_mode": {
    "name": "ipython",
    "version": 3
   },
   "file_extension": ".py",
   "mimetype": "text/x-python",
   "name": "python",
   "nbconvert_exporter": "python",
   "pygments_lexer": "ipython3",
   "version": "3.7.3"
  },
  "toc": {
   "base_numbering": 1,
   "nav_menu": {},
   "number_sections": true,
   "sideBar": true,
   "skip_h1_title": false,
   "title_cell": "Table of Contents",
   "title_sidebar": "Contents",
   "toc_cell": false,
   "toc_position": {},
   "toc_section_display": true,
   "toc_window_display": false
  },
  "varInspector": {
   "cols": {
    "lenName": 16,
    "lenType": 16,
    "lenVar": 40
   },
   "kernels_config": {
    "python": {
     "delete_cmd_postfix": "",
     "delete_cmd_prefix": "del ",
     "library": "var_list.py",
     "varRefreshCmd": "print(var_dic_list())"
    },
    "r": {
     "delete_cmd_postfix": ") ",
     "delete_cmd_prefix": "rm(",
     "library": "var_list.r",
     "varRefreshCmd": "cat(var_dic_list()) "
    }
   },
   "types_to_exclude": [
    "module",
    "function",
    "builtin_function_or_method",
    "instance",
    "_Feature"
   ],
   "window_display": false
  }
 },
 "nbformat": 4,
 "nbformat_minor": 2
}
