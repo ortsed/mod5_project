{
 "cells": [
  {
   "cell_type": "markdown",
   "metadata": {},
   "source": [
    "# Data importing and cleaning"
   ]
  },
  {
   "cell_type": "code",
   "execution_count": 266,
   "metadata": {
    "ExecuteTime": {
     "end_time": "2019-07-03T21:02:38.988704Z",
     "start_time": "2019-07-03T21:02:38.979774Z"
    }
   },
   "outputs": [],
   "source": [
    "import pandas as pd\n",
    "import numpy as np\n",
    "from patsy import dmatrices\n",
    "from sklearn.model_selection import train_test_split\n",
    "from sklearn.ensemble import RandomForestClassifier\n",
    "from sklearn.metrics import accuracy_score\n",
    "from sklearn.model_selection import GridSearchCV\n",
    "from sklearn.ensemble import RandomForestRegressor"
   ]
  },
  {
   "cell_type": "code",
   "execution_count": 267,
   "metadata": {
    "ExecuteTime": {
     "end_time": "2019-07-03T21:02:41.027849Z",
     "start_time": "2019-07-03T21:02:41.019369Z"
    }
   },
   "outputs": [],
   "source": [
    "pd.set_option('display.max_columns', 500)"
   ]
  },
  {
   "cell_type": "code",
   "execution_count": 270,
   "metadata": {
    "ExecuteTime": {
     "end_time": "2019-07-03T21:03:46.470443Z",
     "start_time": "2019-07-03T21:03:46.286070Z"
    }
   },
   "outputs": [],
   "source": [
    "df = pd.read_csv(\"data/data_cumulative.csv\")"
   ]
  },
  {
   "cell_type": "code",
   "execution_count": 271,
   "metadata": {
    "ExecuteTime": {
     "end_time": "2019-07-03T21:03:48.265271Z",
     "start_time": "2019-07-03T21:03:48.254324Z"
    }
   },
   "outputs": [],
   "source": [
    "df = df.drop(columns=\"Unnamed: 0\")"
   ]
  },
  {
   "cell_type": "code",
   "execution_count": 272,
   "metadata": {
    "ExecuteTime": {
     "end_time": "2019-07-03T21:03:50.803997Z",
     "start_time": "2019-07-03T21:03:50.656937Z"
    }
   },
   "outputs": [
    {
     "data": {
      "text/html": [
       "<div>\n",
       "<style scoped>\n",
       "    .dataframe tbody tr th:only-of-type {\n",
       "        vertical-align: middle;\n",
       "    }\n",
       "\n",
       "    .dataframe tbody tr th {\n",
       "        vertical-align: top;\n",
       "    }\n",
       "\n",
       "    .dataframe thead th {\n",
       "        text-align: right;\n",
       "    }\n",
       "</style>\n",
       "<table border=\"1\" class=\"dataframe\">\n",
       "  <thead>\n",
       "    <tr style=\"text-align: right;\">\n",
       "      <th></th>\n",
       "      <th>schedule_date</th>\n",
       "      <th>schedule_season</th>\n",
       "      <th>schedule_week</th>\n",
       "      <th>schedule_playoff</th>\n",
       "      <th>team_home</th>\n",
       "      <th>score_home</th>\n",
       "      <th>score_away</th>\n",
       "      <th>team_away</th>\n",
       "      <th>team_favorite_id</th>\n",
       "      <th>spread_favorite</th>\n",
       "      <th>over_under_line</th>\n",
       "      <th>stadium</th>\n",
       "      <th>stadium_neutral</th>\n",
       "      <th>weather_temperature</th>\n",
       "      <th>weather_wind_mph</th>\n",
       "      <th>weather_humidity</th>\n",
       "      <th>weather_detail</th>\n",
       "      <th>team_home_id</th>\n",
       "      <th>team_away_id</th>\n",
       "      <th>team_underdog_id</th>\n",
       "      <th>total_score</th>\n",
       "      <th>over_under_result</th>\n",
       "      <th>actual_spread</th>\n",
       "      <th>spread_result</th>\n",
       "      <th>game_winner_id</th>\n",
       "      <th>game_id_h</th>\n",
       "      <th>game_id_a</th>\n",
       "      <th>stadium_name</th>\n",
       "      <th>stadium_type</th>\n",
       "      <th>stadium_weather_type</th>\n",
       "      <th>stadium_surface</th>\n",
       "      <th>LATITUDE</th>\n",
       "      <th>LONGITUDE</th>\n",
       "      <th>ELEVATION</th>\n",
       "      <th>h_game_id_team</th>\n",
       "      <th>h_travel_distance</th>\n",
       "      <th>h_season_wins</th>\n",
       "      <th>h_season_losses</th>\n",
       "      <th>h_season_ties</th>\n",
       "      <th>h_season_pct</th>\n",
       "      <th>h_days_last_game</th>\n",
       "      <th>h_avg_season_score</th>\n",
       "      <th>a_game_id_team</th>\n",
       "      <th>a_travel_distance</th>\n",
       "      <th>a_season_wins</th>\n",
       "      <th>a_season_losses</th>\n",
       "      <th>a_season_ties</th>\n",
       "      <th>a_season_pct</th>\n",
       "      <th>a_days_last_game</th>\n",
       "      <th>a_avg_season_score</th>\n",
       "    </tr>\n",
       "  </thead>\n",
       "  <tbody>\n",
       "    <tr>\n",
       "      <th>0</th>\n",
       "      <td>2011-09-08</td>\n",
       "      <td>2011</td>\n",
       "      <td>1</td>\n",
       "      <td>False</td>\n",
       "      <td>Green Bay Packers</td>\n",
       "      <td>42</td>\n",
       "      <td>34</td>\n",
       "      <td>New Orleans Saints</td>\n",
       "      <td>GB</td>\n",
       "      <td>-5.0</td>\n",
       "      <td>48.0</td>\n",
       "      <td>Lambeau Field</td>\n",
       "      <td>False</td>\n",
       "      <td>68.0</td>\n",
       "      <td>5.0</td>\n",
       "      <td>67.0</td>\n",
       "      <td>Fair</td>\n",
       "      <td>GB</td>\n",
       "      <td>NO</td>\n",
       "      <td>NO</td>\n",
       "      <td>76</td>\n",
       "      <td>over</td>\n",
       "      <td>-8</td>\n",
       "      <td>favorite</td>\n",
       "      <td>GB</td>\n",
       "      <td>2011-1-GB</td>\n",
       "      <td>2011-1-NO</td>\n",
       "      <td>Lambeau Field</td>\n",
       "      <td>outdoor</td>\n",
       "      <td>cold</td>\n",
       "      <td>Grass</td>\n",
       "      <td>44.4794</td>\n",
       "      <td>-88.1366</td>\n",
       "      <td>209.4</td>\n",
       "      <td>2011-1-GB</td>\n",
       "      <td>0.0</td>\n",
       "      <td>0.0</td>\n",
       "      <td>0.0</td>\n",
       "      <td>0.0</td>\n",
       "      <td>0.5</td>\n",
       "      <td>250.0</td>\n",
       "      <td>22.5</td>\n",
       "      <td>2011-1-NO</td>\n",
       "      <td>0.0</td>\n",
       "      <td>0.0</td>\n",
       "      <td>0.0</td>\n",
       "      <td>0.0</td>\n",
       "      <td>0.5</td>\n",
       "      <td>250.0</td>\n",
       "      <td>22.5</td>\n",
       "    </tr>\n",
       "    <tr>\n",
       "      <th>1</th>\n",
       "      <td>2011-09-11</td>\n",
       "      <td>2011</td>\n",
       "      <td>1</td>\n",
       "      <td>False</td>\n",
       "      <td>Arizona Cardinals</td>\n",
       "      <td>28</td>\n",
       "      <td>21</td>\n",
       "      <td>Carolina Panthers</td>\n",
       "      <td>ARI</td>\n",
       "      <td>-7.0</td>\n",
       "      <td>37.5</td>\n",
       "      <td>University of Phoenix Stadium</td>\n",
       "      <td>False</td>\n",
       "      <td>72.0</td>\n",
       "      <td>0.0</td>\n",
       "      <td>NaN</td>\n",
       "      <td>DOME</td>\n",
       "      <td>ARI</td>\n",
       "      <td>CAR</td>\n",
       "      <td>CAR</td>\n",
       "      <td>49</td>\n",
       "      <td>over</td>\n",
       "      <td>-7</td>\n",
       "      <td>push</td>\n",
       "      <td>ARI</td>\n",
       "      <td>2011-1-ARI</td>\n",
       "      <td>2011-1-CAR</td>\n",
       "      <td>University of Phoenix Stadium</td>\n",
       "      <td>retractable</td>\n",
       "      <td>dome</td>\n",
       "      <td>Grass</td>\n",
       "      <td>33.4552</td>\n",
       "      <td>-111.9316</td>\n",
       "      <td>375.2</td>\n",
       "      <td>2011-1-ARI</td>\n",
       "      <td>0.0</td>\n",
       "      <td>0.0</td>\n",
       "      <td>0.0</td>\n",
       "      <td>0.0</td>\n",
       "      <td>0.5</td>\n",
       "      <td>250.0</td>\n",
       "      <td>22.5</td>\n",
       "      <td>2011-1-CAR</td>\n",
       "      <td>0.0</td>\n",
       "      <td>0.0</td>\n",
       "      <td>0.0</td>\n",
       "      <td>0.0</td>\n",
       "      <td>0.5</td>\n",
       "      <td>250.0</td>\n",
       "      <td>22.5</td>\n",
       "    </tr>\n",
       "  </tbody>\n",
       "</table>\n",
       "</div>"
      ],
      "text/plain": [
       "  schedule_date  schedule_season  schedule_week  schedule_playoff  \\\n",
       "0    2011-09-08             2011              1             False   \n",
       "1    2011-09-11             2011              1             False   \n",
       "\n",
       "           team_home  score_home  score_away           team_away  \\\n",
       "0  Green Bay Packers          42          34  New Orleans Saints   \n",
       "1  Arizona Cardinals          28          21   Carolina Panthers   \n",
       "\n",
       "  team_favorite_id  spread_favorite  over_under_line  \\\n",
       "0               GB             -5.0             48.0   \n",
       "1              ARI             -7.0             37.5   \n",
       "\n",
       "                         stadium  stadium_neutral  weather_temperature  \\\n",
       "0                  Lambeau Field            False                 68.0   \n",
       "1  University of Phoenix Stadium            False                 72.0   \n",
       "\n",
       "   weather_wind_mph  weather_humidity weather_detail team_home_id  \\\n",
       "0               5.0              67.0           Fair           GB   \n",
       "1               0.0               NaN           DOME          ARI   \n",
       "\n",
       "  team_away_id team_underdog_id  total_score over_under_result  actual_spread  \\\n",
       "0           NO               NO           76              over             -8   \n",
       "1          CAR              CAR           49              over             -7   \n",
       "\n",
       "  spread_result game_winner_id   game_id_h   game_id_a  \\\n",
       "0      favorite             GB   2011-1-GB   2011-1-NO   \n",
       "1          push            ARI  2011-1-ARI  2011-1-CAR   \n",
       "\n",
       "                    stadium_name stadium_type stadium_weather_type  \\\n",
       "0                  Lambeau Field      outdoor                 cold   \n",
       "1  University of Phoenix Stadium  retractable                 dome   \n",
       "\n",
       "  stadium_surface  LATITUDE  LONGITUDE  ELEVATION h_game_id_team  \\\n",
       "0           Grass   44.4794   -88.1366      209.4      2011-1-GB   \n",
       "1           Grass   33.4552  -111.9316      375.2     2011-1-ARI   \n",
       "\n",
       "   h_travel_distance  h_season_wins  h_season_losses  h_season_ties  \\\n",
       "0                0.0            0.0              0.0            0.0   \n",
       "1                0.0            0.0              0.0            0.0   \n",
       "\n",
       "   h_season_pct  h_days_last_game  h_avg_season_score a_game_id_team  \\\n",
       "0           0.5             250.0                22.5      2011-1-NO   \n",
       "1           0.5             250.0                22.5     2011-1-CAR   \n",
       "\n",
       "   a_travel_distance  a_season_wins  a_season_losses  a_season_ties  \\\n",
       "0                0.0            0.0              0.0            0.0   \n",
       "1                0.0            0.0              0.0            0.0   \n",
       "\n",
       "   a_season_pct  a_days_last_game  a_avg_season_score  \n",
       "0           0.5             250.0                22.5  \n",
       "1           0.5             250.0                22.5  "
      ]
     },
     "execution_count": 272,
     "metadata": {},
     "output_type": "execute_result"
    }
   ],
   "source": [
    "df.head(2)"
   ]
  },
  {
   "cell_type": "code",
   "execution_count": 273,
   "metadata": {
    "ExecuteTime": {
     "end_time": "2019-07-03T21:03:53.572340Z",
     "start_time": "2019-07-03T21:03:53.448936Z"
    }
   },
   "outputs": [],
   "source": [
    "df[\"home_win\"] = df.apply(lambda x: x[\"game_winner_id\"] == x[\"team_home_id\"], axis=1)"
   ]
  },
  {
   "cell_type": "markdown",
   "metadata": {},
   "source": [
    "# Define X, y"
   ]
  },
  {
   "cell_type": "code",
   "execution_count": 274,
   "metadata": {
    "ExecuteTime": {
     "end_time": "2019-07-03T21:03:57.276037Z",
     "start_time": "2019-07-03T21:03:57.112958Z"
    }
   },
   "outputs": [],
   "source": [
    "y, X = dmatrices('home_win ~ schedule_season + a_season_pct + h_season_pct + C(team_favorite_id) \\\n",
    "                         + a_avg_season_score + h_avg_season_score \\\n",
    "                         + C(team_underdog_id) + schedule_week + ELEVATION \\\n",
    "                         + weather_detail + h_travel_distance + a_travel_distance + h_days_last_game + a_days_last_game', \n",
    "                         df, return_type = \"dataframe\" )"
   ]
  },
  {
   "cell_type": "code",
   "execution_count": 275,
   "metadata": {
    "ExecuteTime": {
     "end_time": "2019-07-03T21:03:59.320377Z",
     "start_time": "2019-07-03T21:03:59.216855Z"
    },
    "scrolled": true
   },
   "outputs": [
    {
     "data": {
      "text/html": [
       "<div>\n",
       "<style scoped>\n",
       "    .dataframe tbody tr th:only-of-type {\n",
       "        vertical-align: middle;\n",
       "    }\n",
       "\n",
       "    .dataframe tbody tr th {\n",
       "        vertical-align: top;\n",
       "    }\n",
       "\n",
       "    .dataframe thead th {\n",
       "        text-align: right;\n",
       "    }\n",
       "</style>\n",
       "<table border=\"1\" class=\"dataframe\">\n",
       "  <thead>\n",
       "    <tr style=\"text-align: right;\">\n",
       "      <th></th>\n",
       "      <th>Intercept</th>\n",
       "      <th>C(team_favorite_id)[T.ATL]</th>\n",
       "      <th>C(team_favorite_id)[T.BAL]</th>\n",
       "      <th>C(team_favorite_id)[T.BUF]</th>\n",
       "      <th>C(team_favorite_id)[T.CAR]</th>\n",
       "      <th>C(team_favorite_id)[T.CHI]</th>\n",
       "      <th>C(team_favorite_id)[T.CIN]</th>\n",
       "      <th>C(team_favorite_id)[T.CLE]</th>\n",
       "      <th>C(team_favorite_id)[T.DAL]</th>\n",
       "      <th>C(team_favorite_id)[T.DEN]</th>\n",
       "      <th>C(team_favorite_id)[T.DET]</th>\n",
       "      <th>C(team_favorite_id)[T.GB]</th>\n",
       "      <th>C(team_favorite_id)[T.HOU]</th>\n",
       "      <th>C(team_favorite_id)[T.IND]</th>\n",
       "      <th>C(team_favorite_id)[T.JAX]</th>\n",
       "      <th>C(team_favorite_id)[T.KC]</th>\n",
       "      <th>C(team_favorite_id)[T.LAC]</th>\n",
       "      <th>C(team_favorite_id)[T.LAR]</th>\n",
       "      <th>C(team_favorite_id)[T.MIA]</th>\n",
       "      <th>C(team_favorite_id)[T.MIN]</th>\n",
       "      <th>C(team_favorite_id)[T.NE]</th>\n",
       "      <th>C(team_favorite_id)[T.NO]</th>\n",
       "      <th>C(team_favorite_id)[T.NYG]</th>\n",
       "      <th>C(team_favorite_id)[T.NYJ]</th>\n",
       "      <th>C(team_favorite_id)[T.OAK]</th>\n",
       "      <th>C(team_favorite_id)[T.PHI]</th>\n",
       "      <th>C(team_favorite_id)[T.PICK]</th>\n",
       "      <th>C(team_favorite_id)[T.PIT]</th>\n",
       "      <th>C(team_favorite_id)[T.SEA]</th>\n",
       "      <th>C(team_favorite_id)[T.SF]</th>\n",
       "      <th>C(team_favorite_id)[T.TB]</th>\n",
       "      <th>C(team_favorite_id)[T.TEN]</th>\n",
       "      <th>C(team_favorite_id)[T.WAS]</th>\n",
       "      <th>C(team_underdog_id)[T.ATL]</th>\n",
       "      <th>C(team_underdog_id)[T.BAL]</th>\n",
       "      <th>C(team_underdog_id)[T.BUF]</th>\n",
       "      <th>C(team_underdog_id)[T.CAR]</th>\n",
       "      <th>C(team_underdog_id)[T.CHI]</th>\n",
       "      <th>C(team_underdog_id)[T.CIN]</th>\n",
       "      <th>C(team_underdog_id)[T.CLE]</th>\n",
       "      <th>C(team_underdog_id)[T.DAL]</th>\n",
       "      <th>C(team_underdog_id)[T.DEN]</th>\n",
       "      <th>C(team_underdog_id)[T.DET]</th>\n",
       "      <th>C(team_underdog_id)[T.GB]</th>\n",
       "      <th>C(team_underdog_id)[T.HOU]</th>\n",
       "      <th>C(team_underdog_id)[T.IND]</th>\n",
       "      <th>C(team_underdog_id)[T.JAX]</th>\n",
       "      <th>C(team_underdog_id)[T.KC]</th>\n",
       "      <th>C(team_underdog_id)[T.LAC]</th>\n",
       "      <th>C(team_underdog_id)[T.LAR]</th>\n",
       "      <th>C(team_underdog_id)[T.MIA]</th>\n",
       "      <th>C(team_underdog_id)[T.MIN]</th>\n",
       "      <th>C(team_underdog_id)[T.NE]</th>\n",
       "      <th>C(team_underdog_id)[T.NO]</th>\n",
       "      <th>C(team_underdog_id)[T.NYG]</th>\n",
       "      <th>C(team_underdog_id)[T.NYJ]</th>\n",
       "      <th>C(team_underdog_id)[T.OAK]</th>\n",
       "      <th>C(team_underdog_id)[T.PHI]</th>\n",
       "      <th>C(team_underdog_id)[T.PICK]</th>\n",
       "      <th>C(team_underdog_id)[T.PIT]</th>\n",
       "      <th>C(team_underdog_id)[T.SEA]</th>\n",
       "      <th>C(team_underdog_id)[T.SF]</th>\n",
       "      <th>C(team_underdog_id)[T.TB]</th>\n",
       "      <th>C(team_underdog_id)[T.TEN]</th>\n",
       "      <th>C(team_underdog_id)[T.WAS]</th>\n",
       "      <th>weather_detail[T.DOME (Open Roof)]</th>\n",
       "      <th>weather_detail[T.Fair]</th>\n",
       "      <th>weather_detail[T.Fog]</th>\n",
       "      <th>weather_detail[T.Rain]</th>\n",
       "      <th>weather_detail[T.Rain | Fog]</th>\n",
       "      <th>weather_detail[T.Snow]</th>\n",
       "      <th>weather_detail[T.Snow | Fog]</th>\n",
       "      <th>weather_detail[T.Snow | Freezing Rain]</th>\n",
       "      <th>schedule_season</th>\n",
       "      <th>a_season_pct</th>\n",
       "      <th>h_season_pct</th>\n",
       "      <th>a_avg_season_score</th>\n",
       "      <th>h_avg_season_score</th>\n",
       "      <th>schedule_week</th>\n",
       "      <th>ELEVATION</th>\n",
       "      <th>h_travel_distance</th>\n",
       "      <th>a_travel_distance</th>\n",
       "      <th>h_days_last_game</th>\n",
       "      <th>a_days_last_game</th>\n",
       "    </tr>\n",
       "  </thead>\n",
       "  <tbody>\n",
       "    <tr>\n",
       "      <th>2131</th>\n",
       "      <td>1.0</td>\n",
       "      <td>0.0</td>\n",
       "      <td>0.0</td>\n",
       "      <td>0.0</td>\n",
       "      <td>0.0</td>\n",
       "      <td>0.0</td>\n",
       "      <td>0.0</td>\n",
       "      <td>0.0</td>\n",
       "      <td>0.0</td>\n",
       "      <td>0.0</td>\n",
       "      <td>0.0</td>\n",
       "      <td>0.0</td>\n",
       "      <td>0.0</td>\n",
       "      <td>0.0</td>\n",
       "      <td>0.0</td>\n",
       "      <td>0.0</td>\n",
       "      <td>0.0</td>\n",
       "      <td>0.0</td>\n",
       "      <td>0.0</td>\n",
       "      <td>0.0</td>\n",
       "      <td>0.0</td>\n",
       "      <td>1.0</td>\n",
       "      <td>0.0</td>\n",
       "      <td>0.0</td>\n",
       "      <td>0.0</td>\n",
       "      <td>0.0</td>\n",
       "      <td>0.0</td>\n",
       "      <td>0.0</td>\n",
       "      <td>0.0</td>\n",
       "      <td>0.0</td>\n",
       "      <td>0.0</td>\n",
       "      <td>0.0</td>\n",
       "      <td>0.0</td>\n",
       "      <td>0.0</td>\n",
       "      <td>0.0</td>\n",
       "      <td>0.0</td>\n",
       "      <td>0.0</td>\n",
       "      <td>0.0</td>\n",
       "      <td>0.0</td>\n",
       "      <td>0.0</td>\n",
       "      <td>0.0</td>\n",
       "      <td>0.0</td>\n",
       "      <td>0.0</td>\n",
       "      <td>0.0</td>\n",
       "      <td>0.0</td>\n",
       "      <td>0.0</td>\n",
       "      <td>0.0</td>\n",
       "      <td>0.0</td>\n",
       "      <td>0.0</td>\n",
       "      <td>0.0</td>\n",
       "      <td>0.0</td>\n",
       "      <td>0.0</td>\n",
       "      <td>0.0</td>\n",
       "      <td>0.0</td>\n",
       "      <td>0.0</td>\n",
       "      <td>0.0</td>\n",
       "      <td>0.0</td>\n",
       "      <td>1.0</td>\n",
       "      <td>0.0</td>\n",
       "      <td>0.0</td>\n",
       "      <td>0.0</td>\n",
       "      <td>0.0</td>\n",
       "      <td>0.0</td>\n",
       "      <td>0.0</td>\n",
       "      <td>0.0</td>\n",
       "      <td>0.0</td>\n",
       "      <td>0.0</td>\n",
       "      <td>0.0</td>\n",
       "      <td>0.0</td>\n",
       "      <td>0.0</td>\n",
       "      <td>0.0</td>\n",
       "      <td>0.0</td>\n",
       "      <td>0.0</td>\n",
       "      <td>2018.0</td>\n",
       "      <td>0.588235</td>\n",
       "      <td>0.812500</td>\n",
       "      <td>22.529412</td>\n",
       "      <td>31.500000</td>\n",
       "      <td>19.0</td>\n",
       "      <td>32.0</td>\n",
       "      <td>0.000000</td>\n",
       "      <td>1339.496163</td>\n",
       "      <td>14.0</td>\n",
       "      <td>7.0</td>\n",
       "    </tr>\n",
       "    <tr>\n",
       "      <th>2132</th>\n",
       "      <td>1.0</td>\n",
       "      <td>0.0</td>\n",
       "      <td>0.0</td>\n",
       "      <td>0.0</td>\n",
       "      <td>0.0</td>\n",
       "      <td>0.0</td>\n",
       "      <td>0.0</td>\n",
       "      <td>0.0</td>\n",
       "      <td>0.0</td>\n",
       "      <td>0.0</td>\n",
       "      <td>0.0</td>\n",
       "      <td>0.0</td>\n",
       "      <td>0.0</td>\n",
       "      <td>0.0</td>\n",
       "      <td>0.0</td>\n",
       "      <td>0.0</td>\n",
       "      <td>0.0</td>\n",
       "      <td>0.0</td>\n",
       "      <td>0.0</td>\n",
       "      <td>0.0</td>\n",
       "      <td>1.0</td>\n",
       "      <td>0.0</td>\n",
       "      <td>0.0</td>\n",
       "      <td>0.0</td>\n",
       "      <td>0.0</td>\n",
       "      <td>0.0</td>\n",
       "      <td>0.0</td>\n",
       "      <td>0.0</td>\n",
       "      <td>0.0</td>\n",
       "      <td>0.0</td>\n",
       "      <td>0.0</td>\n",
       "      <td>0.0</td>\n",
       "      <td>0.0</td>\n",
       "      <td>0.0</td>\n",
       "      <td>0.0</td>\n",
       "      <td>0.0</td>\n",
       "      <td>0.0</td>\n",
       "      <td>0.0</td>\n",
       "      <td>0.0</td>\n",
       "      <td>0.0</td>\n",
       "      <td>0.0</td>\n",
       "      <td>0.0</td>\n",
       "      <td>0.0</td>\n",
       "      <td>0.0</td>\n",
       "      <td>0.0</td>\n",
       "      <td>0.0</td>\n",
       "      <td>0.0</td>\n",
       "      <td>0.0</td>\n",
       "      <td>1.0</td>\n",
       "      <td>0.0</td>\n",
       "      <td>0.0</td>\n",
       "      <td>0.0</td>\n",
       "      <td>0.0</td>\n",
       "      <td>0.0</td>\n",
       "      <td>0.0</td>\n",
       "      <td>0.0</td>\n",
       "      <td>0.0</td>\n",
       "      <td>0.0</td>\n",
       "      <td>0.0</td>\n",
       "      <td>0.0</td>\n",
       "      <td>0.0</td>\n",
       "      <td>0.0</td>\n",
       "      <td>0.0</td>\n",
       "      <td>0.0</td>\n",
       "      <td>0.0</td>\n",
       "      <td>0.0</td>\n",
       "      <td>1.0</td>\n",
       "      <td>0.0</td>\n",
       "      <td>0.0</td>\n",
       "      <td>0.0</td>\n",
       "      <td>0.0</td>\n",
       "      <td>0.0</td>\n",
       "      <td>0.0</td>\n",
       "      <td>2018.0</td>\n",
       "      <td>0.764706</td>\n",
       "      <td>0.687500</td>\n",
       "      <td>26.529412</td>\n",
       "      <td>27.250000</td>\n",
       "      <td>19.0</td>\n",
       "      <td>24.4</td>\n",
       "      <td>0.000000</td>\n",
       "      <td>576.751879</td>\n",
       "      <td>14.0</td>\n",
       "      <td>7.0</td>\n",
       "    </tr>\n",
       "    <tr>\n",
       "      <th>2133</th>\n",
       "      <td>1.0</td>\n",
       "      <td>0.0</td>\n",
       "      <td>0.0</td>\n",
       "      <td>0.0</td>\n",
       "      <td>0.0</td>\n",
       "      <td>0.0</td>\n",
       "      <td>0.0</td>\n",
       "      <td>0.0</td>\n",
       "      <td>0.0</td>\n",
       "      <td>0.0</td>\n",
       "      <td>0.0</td>\n",
       "      <td>0.0</td>\n",
       "      <td>0.0</td>\n",
       "      <td>0.0</td>\n",
       "      <td>0.0</td>\n",
       "      <td>0.0</td>\n",
       "      <td>0.0</td>\n",
       "      <td>0.0</td>\n",
       "      <td>0.0</td>\n",
       "      <td>0.0</td>\n",
       "      <td>0.0</td>\n",
       "      <td>1.0</td>\n",
       "      <td>0.0</td>\n",
       "      <td>0.0</td>\n",
       "      <td>0.0</td>\n",
       "      <td>0.0</td>\n",
       "      <td>0.0</td>\n",
       "      <td>0.0</td>\n",
       "      <td>0.0</td>\n",
       "      <td>0.0</td>\n",
       "      <td>0.0</td>\n",
       "      <td>0.0</td>\n",
       "      <td>0.0</td>\n",
       "      <td>0.0</td>\n",
       "      <td>0.0</td>\n",
       "      <td>0.0</td>\n",
       "      <td>0.0</td>\n",
       "      <td>0.0</td>\n",
       "      <td>0.0</td>\n",
       "      <td>0.0</td>\n",
       "      <td>0.0</td>\n",
       "      <td>0.0</td>\n",
       "      <td>0.0</td>\n",
       "      <td>0.0</td>\n",
       "      <td>0.0</td>\n",
       "      <td>0.0</td>\n",
       "      <td>0.0</td>\n",
       "      <td>0.0</td>\n",
       "      <td>0.0</td>\n",
       "      <td>1.0</td>\n",
       "      <td>0.0</td>\n",
       "      <td>0.0</td>\n",
       "      <td>0.0</td>\n",
       "      <td>0.0</td>\n",
       "      <td>0.0</td>\n",
       "      <td>0.0</td>\n",
       "      <td>0.0</td>\n",
       "      <td>0.0</td>\n",
       "      <td>0.0</td>\n",
       "      <td>0.0</td>\n",
       "      <td>0.0</td>\n",
       "      <td>0.0</td>\n",
       "      <td>0.0</td>\n",
       "      <td>0.0</td>\n",
       "      <td>0.0</td>\n",
       "      <td>0.0</td>\n",
       "      <td>0.0</td>\n",
       "      <td>0.0</td>\n",
       "      <td>0.0</td>\n",
       "      <td>0.0</td>\n",
       "      <td>0.0</td>\n",
       "      <td>0.0</td>\n",
       "      <td>0.0</td>\n",
       "      <td>2018.0</td>\n",
       "      <td>0.823529</td>\n",
       "      <td>0.823529</td>\n",
       "      <td>32.764706</td>\n",
       "      <td>30.823529</td>\n",
       "      <td>20.0</td>\n",
       "      <td>32.0</td>\n",
       "      <td>0.000000</td>\n",
       "      <td>2703.956221</td>\n",
       "      <td>7.0</td>\n",
       "      <td>8.0</td>\n",
       "    </tr>\n",
       "    <tr>\n",
       "      <th>2134</th>\n",
       "      <td>1.0</td>\n",
       "      <td>0.0</td>\n",
       "      <td>0.0</td>\n",
       "      <td>0.0</td>\n",
       "      <td>0.0</td>\n",
       "      <td>0.0</td>\n",
       "      <td>0.0</td>\n",
       "      <td>0.0</td>\n",
       "      <td>0.0</td>\n",
       "      <td>0.0</td>\n",
       "      <td>0.0</td>\n",
       "      <td>0.0</td>\n",
       "      <td>0.0</td>\n",
       "      <td>0.0</td>\n",
       "      <td>0.0</td>\n",
       "      <td>1.0</td>\n",
       "      <td>0.0</td>\n",
       "      <td>0.0</td>\n",
       "      <td>0.0</td>\n",
       "      <td>0.0</td>\n",
       "      <td>0.0</td>\n",
       "      <td>0.0</td>\n",
       "      <td>0.0</td>\n",
       "      <td>0.0</td>\n",
       "      <td>0.0</td>\n",
       "      <td>0.0</td>\n",
       "      <td>0.0</td>\n",
       "      <td>0.0</td>\n",
       "      <td>0.0</td>\n",
       "      <td>0.0</td>\n",
       "      <td>0.0</td>\n",
       "      <td>0.0</td>\n",
       "      <td>0.0</td>\n",
       "      <td>0.0</td>\n",
       "      <td>0.0</td>\n",
       "      <td>0.0</td>\n",
       "      <td>0.0</td>\n",
       "      <td>0.0</td>\n",
       "      <td>0.0</td>\n",
       "      <td>0.0</td>\n",
       "      <td>0.0</td>\n",
       "      <td>0.0</td>\n",
       "      <td>0.0</td>\n",
       "      <td>0.0</td>\n",
       "      <td>0.0</td>\n",
       "      <td>0.0</td>\n",
       "      <td>0.0</td>\n",
       "      <td>0.0</td>\n",
       "      <td>0.0</td>\n",
       "      <td>0.0</td>\n",
       "      <td>0.0</td>\n",
       "      <td>0.0</td>\n",
       "      <td>1.0</td>\n",
       "      <td>0.0</td>\n",
       "      <td>0.0</td>\n",
       "      <td>0.0</td>\n",
       "      <td>0.0</td>\n",
       "      <td>0.0</td>\n",
       "      <td>0.0</td>\n",
       "      <td>0.0</td>\n",
       "      <td>0.0</td>\n",
       "      <td>0.0</td>\n",
       "      <td>0.0</td>\n",
       "      <td>0.0</td>\n",
       "      <td>0.0</td>\n",
       "      <td>0.0</td>\n",
       "      <td>1.0</td>\n",
       "      <td>0.0</td>\n",
       "      <td>0.0</td>\n",
       "      <td>0.0</td>\n",
       "      <td>0.0</td>\n",
       "      <td>0.0</td>\n",
       "      <td>0.0</td>\n",
       "      <td>2018.0</td>\n",
       "      <td>0.705882</td>\n",
       "      <td>0.764706</td>\n",
       "      <td>28.058824</td>\n",
       "      <td>35.058824</td>\n",
       "      <td>20.0</td>\n",
       "      <td>264.9</td>\n",
       "      <td>0.000000</td>\n",
       "      <td>2009.546077</td>\n",
       "      <td>8.0</td>\n",
       "      <td>7.0</td>\n",
       "    </tr>\n",
       "    <tr>\n",
       "      <th>2135</th>\n",
       "      <td>1.0</td>\n",
       "      <td>0.0</td>\n",
       "      <td>0.0</td>\n",
       "      <td>0.0</td>\n",
       "      <td>0.0</td>\n",
       "      <td>0.0</td>\n",
       "      <td>0.0</td>\n",
       "      <td>0.0</td>\n",
       "      <td>0.0</td>\n",
       "      <td>0.0</td>\n",
       "      <td>0.0</td>\n",
       "      <td>0.0</td>\n",
       "      <td>0.0</td>\n",
       "      <td>0.0</td>\n",
       "      <td>0.0</td>\n",
       "      <td>0.0</td>\n",
       "      <td>0.0</td>\n",
       "      <td>0.0</td>\n",
       "      <td>0.0</td>\n",
       "      <td>0.0</td>\n",
       "      <td>1.0</td>\n",
       "      <td>0.0</td>\n",
       "      <td>0.0</td>\n",
       "      <td>0.0</td>\n",
       "      <td>0.0</td>\n",
       "      <td>0.0</td>\n",
       "      <td>0.0</td>\n",
       "      <td>0.0</td>\n",
       "      <td>0.0</td>\n",
       "      <td>0.0</td>\n",
       "      <td>0.0</td>\n",
       "      <td>0.0</td>\n",
       "      <td>0.0</td>\n",
       "      <td>0.0</td>\n",
       "      <td>0.0</td>\n",
       "      <td>0.0</td>\n",
       "      <td>0.0</td>\n",
       "      <td>0.0</td>\n",
       "      <td>0.0</td>\n",
       "      <td>0.0</td>\n",
       "      <td>0.0</td>\n",
       "      <td>0.0</td>\n",
       "      <td>0.0</td>\n",
       "      <td>0.0</td>\n",
       "      <td>0.0</td>\n",
       "      <td>0.0</td>\n",
       "      <td>0.0</td>\n",
       "      <td>0.0</td>\n",
       "      <td>0.0</td>\n",
       "      <td>1.0</td>\n",
       "      <td>0.0</td>\n",
       "      <td>0.0</td>\n",
       "      <td>0.0</td>\n",
       "      <td>0.0</td>\n",
       "      <td>0.0</td>\n",
       "      <td>0.0</td>\n",
       "      <td>0.0</td>\n",
       "      <td>0.0</td>\n",
       "      <td>0.0</td>\n",
       "      <td>0.0</td>\n",
       "      <td>0.0</td>\n",
       "      <td>0.0</td>\n",
       "      <td>0.0</td>\n",
       "      <td>0.0</td>\n",
       "      <td>0.0</td>\n",
       "      <td>0.0</td>\n",
       "      <td>0.0</td>\n",
       "      <td>0.0</td>\n",
       "      <td>0.0</td>\n",
       "      <td>0.0</td>\n",
       "      <td>0.0</td>\n",
       "      <td>0.0</td>\n",
       "      <td>0.0</td>\n",
       "      <td>2018.0</td>\n",
       "      <td>0.833333</td>\n",
       "      <td>0.722222</td>\n",
       "      <td>32.388889</td>\n",
       "      <td>28.555556</td>\n",
       "      <td>21.0</td>\n",
       "      <td>309.0</td>\n",
       "      <td>1078.812466</td>\n",
       "      <td>683.109522</td>\n",
       "      <td>14.0</td>\n",
       "      <td>14.0</td>\n",
       "    </tr>\n",
       "  </tbody>\n",
       "</table>\n",
       "</div>"
      ],
      "text/plain": [
       "      Intercept  C(team_favorite_id)[T.ATL]  C(team_favorite_id)[T.BAL]  \\\n",
       "2131        1.0                         0.0                         0.0   \n",
       "2132        1.0                         0.0                         0.0   \n",
       "2133        1.0                         0.0                         0.0   \n",
       "2134        1.0                         0.0                         0.0   \n",
       "2135        1.0                         0.0                         0.0   \n",
       "\n",
       "      C(team_favorite_id)[T.BUF]  C(team_favorite_id)[T.CAR]  \\\n",
       "2131                         0.0                         0.0   \n",
       "2132                         0.0                         0.0   \n",
       "2133                         0.0                         0.0   \n",
       "2134                         0.0                         0.0   \n",
       "2135                         0.0                         0.0   \n",
       "\n",
       "      C(team_favorite_id)[T.CHI]  C(team_favorite_id)[T.CIN]  \\\n",
       "2131                         0.0                         0.0   \n",
       "2132                         0.0                         0.0   \n",
       "2133                         0.0                         0.0   \n",
       "2134                         0.0                         0.0   \n",
       "2135                         0.0                         0.0   \n",
       "\n",
       "      C(team_favorite_id)[T.CLE]  C(team_favorite_id)[T.DAL]  \\\n",
       "2131                         0.0                         0.0   \n",
       "2132                         0.0                         0.0   \n",
       "2133                         0.0                         0.0   \n",
       "2134                         0.0                         0.0   \n",
       "2135                         0.0                         0.0   \n",
       "\n",
       "      C(team_favorite_id)[T.DEN]  C(team_favorite_id)[T.DET]  \\\n",
       "2131                         0.0                         0.0   \n",
       "2132                         0.0                         0.0   \n",
       "2133                         0.0                         0.0   \n",
       "2134                         0.0                         0.0   \n",
       "2135                         0.0                         0.0   \n",
       "\n",
       "      C(team_favorite_id)[T.GB]  C(team_favorite_id)[T.HOU]  \\\n",
       "2131                        0.0                         0.0   \n",
       "2132                        0.0                         0.0   \n",
       "2133                        0.0                         0.0   \n",
       "2134                        0.0                         0.0   \n",
       "2135                        0.0                         0.0   \n",
       "\n",
       "      C(team_favorite_id)[T.IND]  C(team_favorite_id)[T.JAX]  \\\n",
       "2131                         0.0                         0.0   \n",
       "2132                         0.0                         0.0   \n",
       "2133                         0.0                         0.0   \n",
       "2134                         0.0                         0.0   \n",
       "2135                         0.0                         0.0   \n",
       "\n",
       "      C(team_favorite_id)[T.KC]  C(team_favorite_id)[T.LAC]  \\\n",
       "2131                        0.0                         0.0   \n",
       "2132                        0.0                         0.0   \n",
       "2133                        0.0                         0.0   \n",
       "2134                        1.0                         0.0   \n",
       "2135                        0.0                         0.0   \n",
       "\n",
       "      C(team_favorite_id)[T.LAR]  C(team_favorite_id)[T.MIA]  \\\n",
       "2131                         0.0                         0.0   \n",
       "2132                         0.0                         0.0   \n",
       "2133                         0.0                         0.0   \n",
       "2134                         0.0                         0.0   \n",
       "2135                         0.0                         0.0   \n",
       "\n",
       "      C(team_favorite_id)[T.MIN]  C(team_favorite_id)[T.NE]  \\\n",
       "2131                         0.0                        0.0   \n",
       "2132                         0.0                        1.0   \n",
       "2133                         0.0                        0.0   \n",
       "2134                         0.0                        0.0   \n",
       "2135                         0.0                        1.0   \n",
       "\n",
       "      C(team_favorite_id)[T.NO]  C(team_favorite_id)[T.NYG]  \\\n",
       "2131                        1.0                         0.0   \n",
       "2132                        0.0                         0.0   \n",
       "2133                        1.0                         0.0   \n",
       "2134                        0.0                         0.0   \n",
       "2135                        0.0                         0.0   \n",
       "\n",
       "      C(team_favorite_id)[T.NYJ]  C(team_favorite_id)[T.OAK]  \\\n",
       "2131                         0.0                         0.0   \n",
       "2132                         0.0                         0.0   \n",
       "2133                         0.0                         0.0   \n",
       "2134                         0.0                         0.0   \n",
       "2135                         0.0                         0.0   \n",
       "\n",
       "      C(team_favorite_id)[T.PHI]  C(team_favorite_id)[T.PICK]  \\\n",
       "2131                         0.0                          0.0   \n",
       "2132                         0.0                          0.0   \n",
       "2133                         0.0                          0.0   \n",
       "2134                         0.0                          0.0   \n",
       "2135                         0.0                          0.0   \n",
       "\n",
       "      C(team_favorite_id)[T.PIT]  C(team_favorite_id)[T.SEA]  \\\n",
       "2131                         0.0                         0.0   \n",
       "2132                         0.0                         0.0   \n",
       "2133                         0.0                         0.0   \n",
       "2134                         0.0                         0.0   \n",
       "2135                         0.0                         0.0   \n",
       "\n",
       "      C(team_favorite_id)[T.SF]  C(team_favorite_id)[T.TB]  \\\n",
       "2131                        0.0                        0.0   \n",
       "2132                        0.0                        0.0   \n",
       "2133                        0.0                        0.0   \n",
       "2134                        0.0                        0.0   \n",
       "2135                        0.0                        0.0   \n",
       "\n",
       "      C(team_favorite_id)[T.TEN]  C(team_favorite_id)[T.WAS]  \\\n",
       "2131                         0.0                         0.0   \n",
       "2132                         0.0                         0.0   \n",
       "2133                         0.0                         0.0   \n",
       "2134                         0.0                         0.0   \n",
       "2135                         0.0                         0.0   \n",
       "\n",
       "      C(team_underdog_id)[T.ATL]  C(team_underdog_id)[T.BAL]  \\\n",
       "2131                         0.0                         0.0   \n",
       "2132                         0.0                         0.0   \n",
       "2133                         0.0                         0.0   \n",
       "2134                         0.0                         0.0   \n",
       "2135                         0.0                         0.0   \n",
       "\n",
       "      C(team_underdog_id)[T.BUF]  C(team_underdog_id)[T.CAR]  \\\n",
       "2131                         0.0                         0.0   \n",
       "2132                         0.0                         0.0   \n",
       "2133                         0.0                         0.0   \n",
       "2134                         0.0                         0.0   \n",
       "2135                         0.0                         0.0   \n",
       "\n",
       "      C(team_underdog_id)[T.CHI]  C(team_underdog_id)[T.CIN]  \\\n",
       "2131                         0.0                         0.0   \n",
       "2132                         0.0                         0.0   \n",
       "2133                         0.0                         0.0   \n",
       "2134                         0.0                         0.0   \n",
       "2135                         0.0                         0.0   \n",
       "\n",
       "      C(team_underdog_id)[T.CLE]  C(team_underdog_id)[T.DAL]  \\\n",
       "2131                         0.0                         0.0   \n",
       "2132                         0.0                         0.0   \n",
       "2133                         0.0                         0.0   \n",
       "2134                         0.0                         0.0   \n",
       "2135                         0.0                         0.0   \n",
       "\n",
       "      C(team_underdog_id)[T.DEN]  C(team_underdog_id)[T.DET]  \\\n",
       "2131                         0.0                         0.0   \n",
       "2132                         0.0                         0.0   \n",
       "2133                         0.0                         0.0   \n",
       "2134                         0.0                         0.0   \n",
       "2135                         0.0                         0.0   \n",
       "\n",
       "      C(team_underdog_id)[T.GB]  C(team_underdog_id)[T.HOU]  \\\n",
       "2131                        0.0                         0.0   \n",
       "2132                        0.0                         0.0   \n",
       "2133                        0.0                         0.0   \n",
       "2134                        0.0                         0.0   \n",
       "2135                        0.0                         0.0   \n",
       "\n",
       "      C(team_underdog_id)[T.IND]  C(team_underdog_id)[T.JAX]  \\\n",
       "2131                         0.0                         0.0   \n",
       "2132                         0.0                         0.0   \n",
       "2133                         0.0                         0.0   \n",
       "2134                         0.0                         0.0   \n",
       "2135                         0.0                         0.0   \n",
       "\n",
       "      C(team_underdog_id)[T.KC]  C(team_underdog_id)[T.LAC]  \\\n",
       "2131                        0.0                         0.0   \n",
       "2132                        0.0                         1.0   \n",
       "2133                        0.0                         0.0   \n",
       "2134                        0.0                         0.0   \n",
       "2135                        0.0                         0.0   \n",
       "\n",
       "      C(team_underdog_id)[T.LAR]  C(team_underdog_id)[T.MIA]  \\\n",
       "2131                         0.0                         0.0   \n",
       "2132                         0.0                         0.0   \n",
       "2133                         1.0                         0.0   \n",
       "2134                         0.0                         0.0   \n",
       "2135                         1.0                         0.0   \n",
       "\n",
       "      C(team_underdog_id)[T.MIN]  C(team_underdog_id)[T.NE]  \\\n",
       "2131                         0.0                        0.0   \n",
       "2132                         0.0                        0.0   \n",
       "2133                         0.0                        0.0   \n",
       "2134                         0.0                        1.0   \n",
       "2135                         0.0                        0.0   \n",
       "\n",
       "      C(team_underdog_id)[T.NO]  C(team_underdog_id)[T.NYG]  \\\n",
       "2131                        0.0                         0.0   \n",
       "2132                        0.0                         0.0   \n",
       "2133                        0.0                         0.0   \n",
       "2134                        0.0                         0.0   \n",
       "2135                        0.0                         0.0   \n",
       "\n",
       "      C(team_underdog_id)[T.NYJ]  C(team_underdog_id)[T.OAK]  \\\n",
       "2131                         0.0                         0.0   \n",
       "2132                         0.0                         0.0   \n",
       "2133                         0.0                         0.0   \n",
       "2134                         0.0                         0.0   \n",
       "2135                         0.0                         0.0   \n",
       "\n",
       "      C(team_underdog_id)[T.PHI]  C(team_underdog_id)[T.PICK]  \\\n",
       "2131                         1.0                          0.0   \n",
       "2132                         0.0                          0.0   \n",
       "2133                         0.0                          0.0   \n",
       "2134                         0.0                          0.0   \n",
       "2135                         0.0                          0.0   \n",
       "\n",
       "      C(team_underdog_id)[T.PIT]  C(team_underdog_id)[T.SEA]  \\\n",
       "2131                         0.0                         0.0   \n",
       "2132                         0.0                         0.0   \n",
       "2133                         0.0                         0.0   \n",
       "2134                         0.0                         0.0   \n",
       "2135                         0.0                         0.0   \n",
       "\n",
       "      C(team_underdog_id)[T.SF]  C(team_underdog_id)[T.TB]  \\\n",
       "2131                        0.0                        0.0   \n",
       "2132                        0.0                        0.0   \n",
       "2133                        0.0                        0.0   \n",
       "2134                        0.0                        0.0   \n",
       "2135                        0.0                        0.0   \n",
       "\n",
       "      C(team_underdog_id)[T.TEN]  C(team_underdog_id)[T.WAS]  \\\n",
       "2131                         0.0                         0.0   \n",
       "2132                         0.0                         0.0   \n",
       "2133                         0.0                         0.0   \n",
       "2134                         0.0                         0.0   \n",
       "2135                         0.0                         0.0   \n",
       "\n",
       "      weather_detail[T.DOME (Open Roof)]  weather_detail[T.Fair]  \\\n",
       "2131                                 0.0                     0.0   \n",
       "2132                                 0.0                     1.0   \n",
       "2133                                 0.0                     0.0   \n",
       "2134                                 0.0                     1.0   \n",
       "2135                                 0.0                     0.0   \n",
       "\n",
       "      weather_detail[T.Fog]  weather_detail[T.Rain]  \\\n",
       "2131                    0.0                     0.0   \n",
       "2132                    0.0                     0.0   \n",
       "2133                    0.0                     0.0   \n",
       "2134                    0.0                     0.0   \n",
       "2135                    0.0                     0.0   \n",
       "\n",
       "      weather_detail[T.Rain | Fog]  weather_detail[T.Snow]  \\\n",
       "2131                           0.0                     0.0   \n",
       "2132                           0.0                     0.0   \n",
       "2133                           0.0                     0.0   \n",
       "2134                           0.0                     0.0   \n",
       "2135                           0.0                     0.0   \n",
       "\n",
       "      weather_detail[T.Snow | Fog]  weather_detail[T.Snow | Freezing Rain]  \\\n",
       "2131                           0.0                                     0.0   \n",
       "2132                           0.0                                     0.0   \n",
       "2133                           0.0                                     0.0   \n",
       "2134                           0.0                                     0.0   \n",
       "2135                           0.0                                     0.0   \n",
       "\n",
       "      schedule_season  a_season_pct  h_season_pct  a_avg_season_score  \\\n",
       "2131           2018.0      0.588235      0.812500           22.529412   \n",
       "2132           2018.0      0.764706      0.687500           26.529412   \n",
       "2133           2018.0      0.823529      0.823529           32.764706   \n",
       "2134           2018.0      0.705882      0.764706           28.058824   \n",
       "2135           2018.0      0.833333      0.722222           32.388889   \n",
       "\n",
       "      h_avg_season_score  schedule_week  ELEVATION  h_travel_distance  \\\n",
       "2131           31.500000           19.0       32.0           0.000000   \n",
       "2132           27.250000           19.0       24.4           0.000000   \n",
       "2133           30.823529           20.0       32.0           0.000000   \n",
       "2134           35.058824           20.0      264.9           0.000000   \n",
       "2135           28.555556           21.0      309.0        1078.812466   \n",
       "\n",
       "      a_travel_distance  h_days_last_game  a_days_last_game  \n",
       "2131        1339.496163              14.0               7.0  \n",
       "2132         576.751879              14.0               7.0  \n",
       "2133        2703.956221               7.0               8.0  \n",
       "2134        2009.546077               8.0               7.0  \n",
       "2135         683.109522              14.0              14.0  "
      ]
     },
     "execution_count": 275,
     "metadata": {},
     "output_type": "execute_result"
    }
   ],
   "source": [
    "X.tail()"
   ]
  },
  {
   "cell_type": "markdown",
   "metadata": {},
   "source": [
    "## Define a moving window for training data, where test data is the following season"
   ]
  },
  {
   "cell_type": "code",
   "execution_count": 276,
   "metadata": {
    "ExecuteTime": {
     "end_time": "2019-07-03T21:04:02.150086Z",
     "start_time": "2019-07-03T21:04:02.137543Z"
    }
   },
   "outputs": [],
   "source": [
    "yr = 2017\n",
    "window=4"
   ]
  },
  {
   "cell_type": "code",
   "execution_count": 277,
   "metadata": {
    "ExecuteTime": {
     "end_time": "2019-07-03T21:04:04.213956Z",
     "start_time": "2019-07-03T21:04:04.192339Z"
    }
   },
   "outputs": [],
   "source": [
    "X_train = X[(X[\"schedule_season\"] < yr) & (X[\"schedule_season\"] >= yr - window)]\n",
    "y_train = y[(X[\"schedule_season\"] < yr) & (X[\"schedule_season\"] >= yr - window)].squeeze()"
   ]
  },
  {
   "cell_type": "code",
   "execution_count": 278,
   "metadata": {
    "ExecuteTime": {
     "end_time": "2019-07-03T21:04:06.836466Z",
     "start_time": "2019-07-03T21:04:06.747460Z"
    }
   },
   "outputs": [],
   "source": [
    "X_test = X[(X[\"schedule_season\"] == yr)]\n",
    "y_test = y[(X[\"schedule_season\"] == yr)].squeeze()"
   ]
  },
  {
   "cell_type": "markdown",
   "metadata": {},
   "source": [
    "# Random Forest"
   ]
  },
  {
   "cell_type": "code",
   "execution_count": 279,
   "metadata": {
    "ExecuteTime": {
     "end_time": "2019-07-03T21:04:10.081584Z",
     "start_time": "2019-07-03T21:04:09.948662Z"
    }
   },
   "outputs": [],
   "source": [
    "forest = RandomForestClassifier(n_estimators=30, random_state=33)\n",
    "y_pred = forest.fit(X_train, y_train).predict(X_test)"
   ]
  },
  {
   "cell_type": "code",
   "execution_count": 280,
   "metadata": {
    "ExecuteTime": {
     "end_time": "2019-07-03T21:04:12.537263Z",
     "start_time": "2019-07-03T21:04:12.513992Z"
    }
   },
   "outputs": [
    {
     "data": {
      "text/plain": [
       "0.5805243445692884"
      ]
     },
     "execution_count": 280,
     "metadata": {},
     "output_type": "execute_result"
    }
   ],
   "source": [
    "accuracy_score(y_test, y_pred)"
   ]
  },
  {
   "cell_type": "markdown",
   "metadata": {},
   "source": [
    "## Get the best number of estimators"
   ]
  },
  {
   "cell_type": "code",
   "execution_count": 281,
   "metadata": {
    "ExecuteTime": {
     "end_time": "2019-07-03T21:04:37.293910Z",
     "start_time": "2019-07-03T21:04:14.769625Z"
    }
   },
   "outputs": [
    {
     "name": "stdout",
     "output_type": "stream",
     "text": [
      "50 0.5801498127340825\n",
      "100 0.5875468164794008\n",
      "200 0.5902621722846443\n"
     ]
    }
   ],
   "source": [
    "acc = []\n",
    "for n in [50, 100, 200]:\n",
    "    for k in range(20):\n",
    "        forest = RandomForestClassifier(n_estimators=n)\n",
    "        y_pred = forest.fit(X_train, y_train).predict(X_test)\n",
    "        acc.append(accuracy_score(y_test, y_pred))\n",
    "    print(n, np.mean(acc))"
   ]
  },
  {
   "cell_type": "code",
   "execution_count": 282,
   "metadata": {
    "ExecuteTime": {
     "end_time": "2019-07-03T21:05:05.552109Z",
     "start_time": "2019-07-03T21:04:58.924388Z"
    }
   },
   "outputs": [
    {
     "data": {
      "text/plain": [
       "0.600936329588015"
      ]
     },
     "execution_count": 282,
     "metadata": {},
     "output_type": "execute_result"
    }
   ],
   "source": [
    "acc = []\n",
    "\n",
    "for k in range(20):\n",
    "    forest = RandomForestClassifier(bootstrap=False, max_depth=60,max_features=\"auto\",min_samples_leaf=4,min_samples_split=5,n_estimators=100)\n",
    "\n",
    "    y_pred = forest.fit(X_train, y_train).predict(X_test)\n",
    "    acc.append(accuracy_score(y_test, y_pred))\n",
    "np.mean(acc)"
   ]
  },
  {
   "cell_type": "markdown",
   "metadata": {
    "ExecuteTime": {
     "end_time": "2019-07-03T20:53:10.806655Z",
     "start_time": "2019-07-03T20:53:10.772231Z"
    },
    "heading_collapsed": true
   },
   "source": [
    "## Get the feature importances to see if we can remove any variables"
   ]
  },
  {
   "cell_type": "code",
   "execution_count": 283,
   "metadata": {
    "ExecuteTime": {
     "end_time": "2019-07-03T21:05:10.422504Z",
     "start_time": "2019-07-03T21:05:10.380159Z"
    },
    "hidden": true
   },
   "outputs": [
    {
     "name": "stdout",
     "output_type": "stream",
     "text": [
      "Intercept 0.0\n",
      "C(team_favorite_id)[T.ATL] 0.004817342891309782\n",
      "C(team_favorite_id)[T.BAL] 0.004248881640859381\n",
      "C(team_favorite_id)[T.BUF] 0.00576819741037809\n",
      "C(team_favorite_id)[T.CAR] 0.004637360244789563\n",
      "C(team_favorite_id)[T.CHI] 0.0005834732300924712\n",
      "C(team_favorite_id)[T.CIN] 0.0014110332742768529\n",
      "C(team_favorite_id)[T.CLE] 0.0017673402074286774\n",
      "C(team_favorite_id)[T.DAL] 0.0023317279477403923\n",
      "C(team_favorite_id)[T.DEN] 0.00381540535088701\n",
      "C(team_favorite_id)[T.DET] 0.004495744821372515\n",
      "C(team_favorite_id)[T.GB] 0.003573216548495912\n",
      "C(team_favorite_id)[T.HOU] 0.002483532026802611\n",
      "C(team_favorite_id)[T.IND] 0.0023344835613340565\n",
      "C(team_favorite_id)[T.JAX] 0.00020352658495627427\n",
      "C(team_favorite_id)[T.KC] 0.0034953208236544265\n",
      "C(team_favorite_id)[T.LAC] 0.0005080096465128795\n",
      "C(team_favorite_id)[T.LAR] 0.00020694384668942938\n",
      "C(team_favorite_id)[T.MIA] 0.0014122800908264981\n",
      "C(team_favorite_id)[T.MIN] 0.0009088108635788643\n",
      "C(team_favorite_id)[T.NE] 0.0033804040807059953\n",
      "C(team_favorite_id)[T.NO] 0.002159991453869639\n",
      "C(team_favorite_id)[T.NYG] 0.0016701545390643009\n",
      "C(team_favorite_id)[T.NYJ] 0.0007081319773458157\n",
      "C(team_favorite_id)[T.OAK] 0.0004093730678175571\n",
      "C(team_favorite_id)[T.PHI] 0.002895240649939552\n",
      "C(team_favorite_id)[T.PICK] 0.0006363187709246963\n",
      "C(team_favorite_id)[T.PIT] 0.0018835949272348771\n",
      "C(team_favorite_id)[T.SEA] 0.004250197916063376\n",
      "C(team_favorite_id)[T.SF] 0.0018870915458793736\n",
      "C(team_favorite_id)[T.TB] 0.0011105176605034736\n",
      "C(team_favorite_id)[T.TEN] 0.0007612835184355652\n",
      "C(team_favorite_id)[T.WAS] 0.0020702230487950656\n",
      "C(team_underdog_id)[T.ATL] 0.0016945727438803706\n",
      "C(team_underdog_id)[T.BAL] 0.0015466115232748317\n",
      "C(team_underdog_id)[T.BUF] 0.002568243851692463\n",
      "C(team_underdog_id)[T.CAR] 0.0026903290429495536\n",
      "C(team_underdog_id)[T.CHI] 0.0036275403943500607\n",
      "C(team_underdog_id)[T.CIN] 0.0016192455883674065\n",
      "C(team_underdog_id)[T.CLE] 0.004934582138803497\n",
      "C(team_underdog_id)[T.DAL] 0.005193212886405828\n",
      "C(team_underdog_id)[T.DEN] 0.00020847423768331243\n",
      "C(team_underdog_id)[T.DET] 0.000274685023991729\n",
      "C(team_underdog_id)[T.GB] 0.001126962353020864\n",
      "C(team_underdog_id)[T.HOU] 0.0024369463512463898\n",
      "C(team_underdog_id)[T.IND] 0.001369842146049814\n",
      "C(team_underdog_id)[T.JAX] 0.003394923813854854\n",
      "C(team_underdog_id)[T.KC] 0.00024068881680288295\n",
      "C(team_underdog_id)[T.LAC] 0.0028458196814380252\n",
      "C(team_underdog_id)[T.LAR] 0.002746044274806615\n",
      "C(team_underdog_id)[T.MIA] 0.0025545335442305407\n",
      "C(team_underdog_id)[T.MIN] 0.0022322906148654733\n",
      "C(team_underdog_id)[T.NE] 0.0002778121651598338\n",
      "C(team_underdog_id)[T.NO] 0.0010665817794786921\n",
      "C(team_underdog_id)[T.NYG] 0.003297272973348152\n",
      "C(team_underdog_id)[T.NYJ] 0.0025355730588077358\n",
      "C(team_underdog_id)[T.OAK] 0.002705831637006489\n",
      "C(team_underdog_id)[T.PHI] 0.0008964262257929906\n",
      "C(team_underdog_id)[T.PICK] 0.0005963029644400053\n",
      "C(team_underdog_id)[T.PIT] 0.002324681728857801\n",
      "C(team_underdog_id)[T.SEA] 0.00011469746567187059\n",
      "C(team_underdog_id)[T.SF] 0.001643997097234641\n",
      "C(team_underdog_id)[T.TB] 0.004347927860051182\n",
      "C(team_underdog_id)[T.TEN] 0.012623547160069836\n",
      "C(team_underdog_id)[T.WAS] 0.0017830463673269197\n",
      "weather_detail[T.DOME (Open Roof)] 0.0011924471012183355\n",
      "weather_detail[T.Fair] 0.01158736119337335\n",
      "weather_detail[T.Fog] 0.00027713498540341946\n",
      "weather_detail[T.Rain] 0.0029624555786848467\n",
      "weather_detail[T.Rain | Fog] 0.0020484709261705345\n",
      "weather_detail[T.Snow] 0.00015425501994572536\n",
      "weather_detail[T.Snow | Fog] 0.0\n",
      "weather_detail[T.Snow | Freezing Rain] 0.0\n",
      "schedule_season 0.02735008208993947\n",
      "a_season_pct 0.08464074744325903\n",
      "h_season_pct 0.13606384779978922\n",
      "a_avg_season_score 0.1146865325274866\n",
      "h_avg_season_score 0.09713129190577847\n",
      "schedule_week 0.06754192683243003\n",
      "ELEVATION 0.09155348825821147\n",
      "h_travel_distance 0.08338860857547405\n",
      "a_travel_distance 0.07948393005430643\n",
      "h_days_last_game 0.026541602705268147\n",
      "a_days_last_game 0.023051415323735253\n"
     ]
    }
   ],
   "source": [
    "for a,b in zip(X.columns, forest.feature_importances_):\n",
    "    print(a,b)"
   ]
  },
  {
   "cell_type": "markdown",
   "metadata": {
    "heading_collapsed": true
   },
   "source": [
    "# Grid Search"
   ]
  },
  {
   "cell_type": "code",
   "execution_count": 195,
   "metadata": {
    "ExecuteTime": {
     "end_time": "2019-07-03T20:08:53.563401Z",
     "start_time": "2019-07-03T20:08:53.554360Z"
    },
    "hidden": true
   },
   "outputs": [],
   "source": [
    "n_estimators = [50,] #[int(x) for x in np.linspace(start = 200, stop = 2000, num = 10)]\n",
    "# Number of features to consider at every split\n",
    "max_features = ['auto', 'sqrt']\n",
    "# Maximum number of levels in tree\n",
    "max_depth = [int(x) for x in np.linspace(10, 110, num = 11)]\n",
    "max_depth.append(None)\n",
    "# Minimum number of samples required to split a node\n",
    "min_samples_split = [2, 5, 10]\n",
    "# Minimum number of samples required at each leaf node\n",
    "min_samples_leaf = [1, 2, 4]\n",
    "# Method of selecting samples for training each tree\n",
    "bootstrap = [True, False]\n",
    "# Create the random grid\n",
    "random_grid = {'n_estimators': n_estimators,\n",
    "               'max_features': max_features,\n",
    "               'max_depth': max_depth,\n",
    "               'min_samples_split': min_samples_split,\n",
    "               'min_samples_leaf': min_samples_leaf,\n",
    "               'bootstrap': bootstrap}"
   ]
  },
  {
   "cell_type": "code",
   "execution_count": 196,
   "metadata": {
    "ExecuteTime": {
     "end_time": "2019-07-03T20:08:59.965693Z",
     "start_time": "2019-07-03T20:08:59.960363Z"
    },
    "hidden": true
   },
   "outputs": [],
   "source": [
    "n_folds = 3\n",
    "gs = GridSearchCV(forest,random_grid, cv=n_folds)\n",
    "\n"
   ]
  },
  {
   "cell_type": "code",
   "execution_count": 197,
   "metadata": {
    "ExecuteTime": {
     "end_time": "2019-07-03T20:12:21.563522Z",
     "start_time": "2019-07-03T20:09:03.722189Z"
    },
    "hidden": true
   },
   "outputs": [
    {
     "data": {
      "text/plain": [
       "GridSearchCV(cv=3, error_score='raise-deprecating',\n",
       "       estimator=RandomForestClassifier(bootstrap=False, class_weight=None, criterion='gini',\n",
       "            max_depth=60, max_features='auto', max_leaf_nodes=None,\n",
       "            min_impurity_decrease=0.0, min_impurity_split=None,\n",
       "            min_samples_leaf=4, min_samples_split=5,\n",
       "            min_weight_fraction_leaf=0.0, n_estimators=50, n_jobs=None,\n",
       "            oob_score=False, random_state=None, verbose=0,\n",
       "            warm_start=False),\n",
       "       fit_params=None, iid='warn', n_jobs=None,\n",
       "       param_grid={'n_estimators': [50], 'max_features': ['auto', 'sqrt'], 'max_depth': [10, 20, 30, 40, 50, 60, 70, 80, 90, 100, 110, None], 'min_samples_split': [2, 5, 10], 'min_samples_leaf': [1, 2, 4], 'bootstrap': [True, False]},\n",
       "       pre_dispatch='2*n_jobs', refit=True, return_train_score='warn',\n",
       "       scoring=None, verbose=0)"
      ]
     },
     "execution_count": 197,
     "metadata": {},
     "output_type": "execute_result"
    }
   ],
   "source": [
    "gs.fit(X_train, y_train)"
   ]
  },
  {
   "cell_type": "code",
   "execution_count": 198,
   "metadata": {
    "ExecuteTime": {
     "end_time": "2019-07-03T20:14:33.776581Z",
     "start_time": "2019-07-03T20:14:33.770245Z"
    },
    "hidden": true
   },
   "outputs": [
    {
     "data": {
      "text/plain": [
       "{'bootstrap': True,\n",
       " 'max_depth': 30,\n",
       " 'max_features': 'auto',\n",
       " 'min_samples_leaf': 4,\n",
       " 'min_samples_split': 10,\n",
       " 'n_estimators': 50}"
      ]
     },
     "execution_count": 198,
     "metadata": {},
     "output_type": "execute_result"
    }
   ],
   "source": [
    "gs.best_params_"
   ]
  },
  {
   "cell_type": "code",
   "execution_count": 200,
   "metadata": {
    "ExecuteTime": {
     "end_time": "2019-07-03T20:15:02.012936Z",
     "start_time": "2019-07-03T20:15:01.982260Z"
    },
    "hidden": true
   },
   "outputs": [
    {
     "data": {
      "text/plain": [
       "0.6142322097378277"
      ]
     },
     "execution_count": 200,
     "metadata": {},
     "output_type": "execute_result"
    }
   ],
   "source": [
    "y_pred = gs.predict(X_test)\n",
    "accuracy_score(y_test, y_pred)"
   ]
  },
  {
   "cell_type": "markdown",
   "metadata": {},
   "source": [
    "# Random Forest Regressor"
   ]
  },
  {
   "cell_type": "code",
   "execution_count": 284,
   "metadata": {
    "ExecuteTime": {
     "end_time": "2019-07-03T21:05:16.678257Z",
     "start_time": "2019-07-03T21:05:16.654000Z"
    }
   },
   "outputs": [],
   "source": [
    "forest_r = RandomForestRegressor(bootstrap=True, max_depth = 30, max_features=\"auto\",\n",
    "min_samples_leaf=4, min_samples_split=10, n_estimators=50)"
   ]
  },
  {
   "cell_type": "code",
   "execution_count": 285,
   "metadata": {
    "ExecuteTime": {
     "end_time": "2019-07-03T21:05:18.981431Z",
     "start_time": "2019-07-03T21:05:18.675078Z"
    }
   },
   "outputs": [],
   "source": [
    "y_pred = forest_r.fit(X_train, y_train).predict(X_test)\n"
   ]
  },
  {
   "cell_type": "code",
   "execution_count": 286,
   "metadata": {
    "ExecuteTime": {
     "end_time": "2019-07-03T21:05:20.941540Z",
     "start_time": "2019-07-03T21:05:20.933465Z"
    }
   },
   "outputs": [],
   "source": [
    "y_pred_2 = 1* (y_pred[:,1] > .5 )"
   ]
  },
  {
   "cell_type": "code",
   "execution_count": 287,
   "metadata": {
    "ExecuteTime": {
     "end_time": "2019-07-03T21:05:23.028879Z",
     "start_time": "2019-07-03T21:05:23.015951Z"
    }
   },
   "outputs": [
    {
     "data": {
      "text/plain": [
       "0.5917602996254682"
      ]
     },
     "execution_count": 287,
     "metadata": {},
     "output_type": "execute_result"
    }
   ],
   "source": [
    "accuracy_score(y_test.iloc[:,1], y_pred_2)"
   ]
  },
  {
   "cell_type": "markdown",
   "metadata": {},
   "source": [
    "## Dealing with Close Calls"
   ]
  },
  {
   "cell_type": "code",
   "execution_count": 295,
   "metadata": {
    "ExecuteTime": {
     "end_time": "2019-07-03T21:07:28.150811Z",
     "start_time": "2019-07-03T21:07:28.145922Z"
    },
    "scrolled": true
   },
   "outputs": [],
   "source": [
    "ys = pd.DataFrame(y_pred[:,1],y_test.iloc[:,1] )"
   ]
  },
  {
   "cell_type": "code",
   "execution_count": 296,
   "metadata": {
    "ExecuteTime": {
     "end_time": "2019-07-03T21:07:30.384509Z",
     "start_time": "2019-07-03T21:07:30.373992Z"
    }
   },
   "outputs": [],
   "source": [
    "ys = ys.reset_index()"
   ]
  },
  {
   "cell_type": "markdown",
   "metadata": {},
   "source": [
    "## Defining a Close Call as estimates near .5 (.1 threshold)"
   ]
  },
  {
   "cell_type": "code",
   "execution_count": 298,
   "metadata": {
    "ExecuteTime": {
     "end_time": "2019-07-03T21:07:54.313315Z",
     "start_time": "2019-07-03T21:07:54.296366Z"
    }
   },
   "outputs": [],
   "source": [
    "ys[\"close_call\"] = ys.apply(lambda x: (x[0] > .4) and (x[0] < .6) , axis=1)"
   ]
  },
  {
   "cell_type": "code",
   "execution_count": null,
   "metadata": {},
   "outputs": [],
   "source": [
    "## If a close call, guess a home team victory"
   ]
  },
  {
   "cell_type": "code",
   "execution_count": 330,
   "metadata": {
    "ExecuteTime": {
     "end_time": "2019-07-03T21:19:43.172030Z",
     "start_time": "2019-07-03T21:19:43.147248Z"
    }
   },
   "outputs": [],
   "source": [
    "def strategy(row):\n",
    "    if row.close_call:\n",
    "        return row[\"home_win[True]\"]\n",
    "    else:\n",
    "        return row[\"home_win[True]\"] == round(row[0])\n",
    "            \n",
    "\n",
    "ys[\"pred\"] = ys.apply(strategy, axis=1)"
   ]
  },
  {
   "cell_type": "code",
   "execution_count": 331,
   "metadata": {
    "ExecuteTime": {
     "end_time": "2019-07-03T21:19:45.876692Z",
     "start_time": "2019-07-03T21:19:45.868536Z"
    }
   },
   "outputs": [
    {
     "data": {
      "text/plain": [
       "0.5955056179775281"
      ]
     },
     "execution_count": 331,
     "metadata": {},
     "output_type": "execute_result"
    }
   ],
   "source": [
    "ys[\"pred\"].sum()/len(ys)"
   ]
  },
  {
   "cell_type": "code",
   "execution_count": 294,
   "metadata": {
    "ExecuteTime": {
     "end_time": "2019-07-03T21:05:51.435892Z",
     "start_time": "2019-07-03T21:05:51.420030Z"
    },
    "scrolled": true
   },
   "outputs": [
    {
     "data": {
      "text/html": [
       "<div>\n",
       "<style scoped>\n",
       "    .dataframe tbody tr th:only-of-type {\n",
       "        vertical-align: middle;\n",
       "    }\n",
       "\n",
       "    .dataframe tbody tr th {\n",
       "        vertical-align: top;\n",
       "    }\n",
       "\n",
       "    .dataframe thead th {\n",
       "        text-align: right;\n",
       "    }\n",
       "</style>\n",
       "<table border=\"1\" class=\"dataframe\">\n",
       "  <thead>\n",
       "    <tr style=\"text-align: right;\">\n",
       "      <th></th>\n",
       "      <th>home_win[True]</th>\n",
       "      <th>0</th>\n",
       "      <th>home_win</th>\n",
       "      <th>close_call</th>\n",
       "      <th>pred</th>\n",
       "    </tr>\n",
       "  </thead>\n",
       "  <tbody>\n",
       "    <tr>\n",
       "      <th>0</th>\n",
       "      <td>0.0</td>\n",
       "      <td>0.611322</td>\n",
       "      <td>True</td>\n",
       "      <td>False</td>\n",
       "      <td>False</td>\n",
       "    </tr>\n",
       "    <tr>\n",
       "      <th>1</th>\n",
       "      <td>1.0</td>\n",
       "      <td>0.425103</td>\n",
       "      <td>True</td>\n",
       "      <td>True</td>\n",
       "      <td>True</td>\n",
       "    </tr>\n",
       "    <tr>\n",
       "      <th>2</th>\n",
       "      <td>0.0</td>\n",
       "      <td>0.337266</td>\n",
       "      <td>True</td>\n",
       "      <td>False</td>\n",
       "      <td>True</td>\n",
       "    </tr>\n",
       "    <tr>\n",
       "      <th>3</th>\n",
       "      <td>0.0</td>\n",
       "      <td>0.456582</td>\n",
       "      <td>True</td>\n",
       "      <td>True</td>\n",
       "      <td>True</td>\n",
       "    </tr>\n",
       "    <tr>\n",
       "      <th>4</th>\n",
       "      <td>0.0</td>\n",
       "      <td>0.353299</td>\n",
       "      <td>False</td>\n",
       "      <td>False</td>\n",
       "      <td>True</td>\n",
       "    </tr>\n",
       "  </tbody>\n",
       "</table>\n",
       "</div>"
      ],
      "text/plain": [
       "   home_win[True]         0  home_win  close_call   pred\n",
       "0             0.0  0.611322      True       False  False\n",
       "1             1.0  0.425103      True        True   True\n",
       "2             0.0  0.337266      True       False   True\n",
       "3             0.0  0.456582      True        True   True\n",
       "4             0.0  0.353299     False       False   True"
      ]
     },
     "execution_count": 294,
     "metadata": {},
     "output_type": "execute_result"
    }
   ],
   "source": [
    "ys.head()"
   ]
  },
  {
   "cell_type": "markdown",
   "metadata": {
    "heading_collapsed": true
   },
   "source": [
    "# Ignoring Close Calls"
   ]
  },
  {
   "cell_type": "code",
   "execution_count": null,
   "metadata": {
    "hidden": true
   },
   "outputs": [],
   "source": []
  },
  {
   "cell_type": "code",
   "execution_count": 242,
   "metadata": {
    "ExecuteTime": {
     "end_time": "2019-07-03T20:34:47.166017Z",
     "start_time": "2019-07-03T20:34:47.158965Z"
    },
    "hidden": true
   },
   "outputs": [],
   "source": [
    "ys_betted = ys[(ys[0] > .6) | (ys[0] < .4)]"
   ]
  },
  {
   "cell_type": "code",
   "execution_count": 237,
   "metadata": {
    "ExecuteTime": {
     "end_time": "2019-07-03T20:34:10.153708Z",
     "start_time": "2019-07-03T20:34:10.129468Z"
    },
    "hidden": true
   },
   "outputs": [
    {
     "data": {
      "text/html": [
       "<div>\n",
       "<style scoped>\n",
       "    .dataframe tbody tr th:only-of-type {\n",
       "        vertical-align: middle;\n",
       "    }\n",
       "\n",
       "    .dataframe tbody tr th {\n",
       "        vertical-align: top;\n",
       "    }\n",
       "\n",
       "    .dataframe thead th {\n",
       "        text-align: right;\n",
       "    }\n",
       "</style>\n",
       "<table border=\"1\" class=\"dataframe\">\n",
       "  <thead>\n",
       "    <tr style=\"text-align: right;\">\n",
       "      <th></th>\n",
       "      <th>home_win[True]</th>\n",
       "      <th>0</th>\n",
       "    </tr>\n",
       "  </thead>\n",
       "  <tbody>\n",
       "    <tr>\n",
       "      <th>0</th>\n",
       "      <td>0.0</td>\n",
       "      <td>0.700118</td>\n",
       "    </tr>\n",
       "    <tr>\n",
       "      <th>1</th>\n",
       "      <td>1.0</td>\n",
       "      <td>0.401775</td>\n",
       "    </tr>\n",
       "    <tr>\n",
       "      <th>2</th>\n",
       "      <td>0.0</td>\n",
       "      <td>0.278912</td>\n",
       "    </tr>\n",
       "    <tr>\n",
       "      <th>3</th>\n",
       "      <td>0.0</td>\n",
       "      <td>0.415041</td>\n",
       "    </tr>\n",
       "    <tr>\n",
       "      <th>4</th>\n",
       "      <td>0.0</td>\n",
       "      <td>0.337303</td>\n",
       "    </tr>\n",
       "  </tbody>\n",
       "</table>\n",
       "</div>"
      ],
      "text/plain": [
       "   home_win[True]         0\n",
       "0             0.0  0.700118\n",
       "1             1.0  0.401775\n",
       "2             0.0  0.278912\n",
       "3             0.0  0.415041\n",
       "4             0.0  0.337303"
      ]
     },
     "execution_count": 237,
     "metadata": {},
     "output_type": "execute_result"
    }
   ],
   "source": [
    "ys_betted.head()"
   ]
  },
  {
   "cell_type": "code",
   "execution_count": 243,
   "metadata": {
    "ExecuteTime": {
     "end_time": "2019-07-03T20:34:49.753938Z",
     "start_time": "2019-07-03T20:34:49.640740Z"
    },
    "hidden": true
   },
   "outputs": [
    {
     "name": "stderr",
     "output_type": "stream",
     "text": [
      "/Users/lhinkesjones/anaconda3/lib/python3.7/site-packages/ipykernel_launcher.py:1: SettingWithCopyWarning: \n",
      "A value is trying to be set on a copy of a slice from a DataFrame.\n",
      "Try using .loc[row_indexer,col_indexer] = value instead\n",
      "\n",
      "See the caveats in the documentation: http://pandas.pydata.org/pandas-docs/stable/indexing.html#indexing-view-versus-copy\n",
      "  \"\"\"Entry point for launching an IPython kernel.\n"
     ]
    }
   ],
   "source": [
    "ys_betted[\"pred\"] = ys_betted.apply(lambda x: x[\"home_win[True]\"] == round(x[0]), axis=1)"
   ]
  },
  {
   "cell_type": "code",
   "execution_count": 244,
   "metadata": {
    "ExecuteTime": {
     "end_time": "2019-07-03T20:34:51.819190Z",
     "start_time": "2019-07-03T20:34:51.807236Z"
    },
    "hidden": true
   },
   "outputs": [
    {
     "data": {
      "text/plain": [
       "0.6242774566473989"
      ]
     },
     "execution_count": 244,
     "metadata": {},
     "output_type": "execute_result"
    }
   ],
   "source": [
    "ys_betted[\"pred\"].sum()/len(ys_betted)"
   ]
  },
  {
   "cell_type": "code",
   "execution_count": 245,
   "metadata": {
    "ExecuteTime": {
     "end_time": "2019-07-03T20:34:53.911788Z",
     "start_time": "2019-07-03T20:34:53.902320Z"
    },
    "hidden": true
   },
   "outputs": [
    {
     "data": {
      "text/plain": [
       "173"
      ]
     },
     "execution_count": 245,
     "metadata": {},
     "output_type": "execute_result"
    }
   ],
   "source": [
    "len(ys_betted)"
   ]
  },
  {
   "cell_type": "code",
   "execution_count": 246,
   "metadata": {
    "ExecuteTime": {
     "end_time": "2019-07-03T20:34:55.722875Z",
     "start_time": "2019-07-03T20:34:55.629668Z"
    },
    "hidden": true
   },
   "outputs": [
    {
     "data": {
      "text/plain": [
       "2136"
      ]
     },
     "execution_count": 246,
     "metadata": {},
     "output_type": "execute_result"
    }
   ],
   "source": [
    "len(X)"
   ]
  },
  {
   "cell_type": "markdown",
   "metadata": {},
   "source": [
    "# Test on all Data"
   ]
  },
  {
   "cell_type": "code",
   "execution_count": null,
   "metadata": {},
   "outputs": [],
   "source": []
  },
  {
   "cell_type": "code",
   "execution_count": 312,
   "metadata": {
    "ExecuteTime": {
     "end_time": "2019-07-03T21:11:47.612118Z",
     "start_time": "2019-07-03T21:11:46.579706Z"
    }
   },
   "outputs": [],
   "source": [
    "y_pred_all = pd.DataFrame(forest_r.fit(X_train, y_train).predict(X))"
   ]
  },
  {
   "cell_type": "code",
   "execution_count": 323,
   "metadata": {
    "ExecuteTime": {
     "end_time": "2019-07-03T21:15:14.899333Z",
     "start_time": "2019-07-03T21:15:14.882243Z"
    }
   },
   "outputs": [],
   "source": [
    "y_pred_all[\"real\"] = y.iloc[:,0]"
   ]
  },
  {
   "cell_type": "code",
   "execution_count": 320,
   "metadata": {
    "ExecuteTime": {
     "end_time": "2019-07-03T21:13:19.504224Z",
     "start_time": "2019-07-03T21:13:19.381317Z"
    }
   },
   "outputs": [],
   "source": [
    "y_pred_all[\"close_call\"] = y_pred_all.apply(lambda x: (x[0] > .4) and (x[0] < .6) , axis=1)"
   ]
  },
  {
   "cell_type": "code",
   "execution_count": 332,
   "metadata": {
    "ExecuteTime": {
     "end_time": "2019-07-03T21:20:50.950188Z",
     "start_time": "2019-07-03T21:20:50.666677Z"
    }
   },
   "outputs": [],
   "source": [
    "def strategy(row):\n",
    "    if row.close_call:\n",
    "        return row[\"real\"]\n",
    "    else:\n",
    "        return row[\"real\"] == round(row[0])\n",
    "\n",
    "y_pred_all[\"pred\"] = y_pred_all.apply(strategy, axis=1)"
   ]
  },
  {
   "cell_type": "code",
   "execution_count": 333,
   "metadata": {
    "ExecuteTime": {
     "end_time": "2019-07-03T21:20:53.246743Z",
     "start_time": "2019-07-03T21:20:53.232706Z"
    }
   },
   "outputs": [
    {
     "data": {
      "text/plain": [
       "0.7626404494382022"
      ]
     },
     "execution_count": 333,
     "metadata": {},
     "output_type": "execute_result"
    }
   ],
   "source": [
    "y_pred_all[\"pred\"].sum()/len(y_pred_all)"
   ]
  },
  {
   "cell_type": "code",
   "execution_count": null,
   "metadata": {},
   "outputs": [],
   "source": []
  }
 ],
 "metadata": {
  "kernelspec": {
   "display_name": "Python 3",
   "language": "python",
   "name": "python3"
  },
  "language_info": {
   "codemirror_mode": {
    "name": "ipython",
    "version": 3
   },
   "file_extension": ".py",
   "mimetype": "text/x-python",
   "name": "python",
   "nbconvert_exporter": "python",
   "pygments_lexer": "ipython3",
   "version": "3.7.3"
  },
  "toc": {
   "base_numbering": 1,
   "nav_menu": {},
   "number_sections": true,
   "sideBar": true,
   "skip_h1_title": false,
   "title_cell": "Table of Contents",
   "title_sidebar": "Contents",
   "toc_cell": false,
   "toc_position": {},
   "toc_section_display": true,
   "toc_window_display": false
  },
  "varInspector": {
   "cols": {
    "lenName": 16,
    "lenType": 16,
    "lenVar": 40
   },
   "kernels_config": {
    "python": {
     "delete_cmd_postfix": "",
     "delete_cmd_prefix": "del ",
     "library": "var_list.py",
     "varRefreshCmd": "print(var_dic_list())"
    },
    "r": {
     "delete_cmd_postfix": ") ",
     "delete_cmd_prefix": "rm(",
     "library": "var_list.r",
     "varRefreshCmd": "cat(var_dic_list()) "
    }
   },
   "types_to_exclude": [
    "module",
    "function",
    "builtin_function_or_method",
    "instance",
    "_Feature"
   ],
   "window_display": false
  }
 },
 "nbformat": 4,
 "nbformat_minor": 2
}
