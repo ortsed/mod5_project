{
 "cells": [
  {
   "cell_type": "markdown",
   "metadata": {},
   "source": [
    "# Data importing and cleaning"
   ]
  },
  {
   "cell_type": "code",
   "execution_count": 1,
   "metadata": {
    "ExecuteTime": {
     "end_time": "2019-07-08T03:03:45.819942Z",
     "start_time": "2019-07-08T03:03:43.882208Z"
    }
   },
   "outputs": [],
   "source": [
    "import pandas as pd\n",
    "import numpy as np\n",
    "from patsy import dmatrices\n",
    "from sklearn.model_selection import train_test_split\n",
    "from sklearn.ensemble import RandomForestClassifier\n",
    "from sklearn.metrics import accuracy_score\n",
    "from sklearn.model_selection import GridSearchCV\n",
    "from sklearn.ensemble import RandomForestRegressor"
   ]
  },
  {
   "cell_type": "code",
   "execution_count": 2,
   "metadata": {
    "ExecuteTime": {
     "end_time": "2019-07-08T03:03:45.830403Z",
     "start_time": "2019-07-08T03:03:45.824166Z"
    }
   },
   "outputs": [],
   "source": [
    "pd.set_option('display.max_columns', 500)"
   ]
  },
  {
   "cell_type": "code",
   "execution_count": 3,
   "metadata": {
    "ExecuteTime": {
     "end_time": "2019-07-08T03:03:45.889684Z",
     "start_time": "2019-07-08T03:03:45.833852Z"
    }
   },
   "outputs": [],
   "source": [
    "df = pd.read_csv(\"data/data_cumulative.csv\", index_col=0)"
   ]
  },
  {
   "cell_type": "code",
   "execution_count": 4,
   "metadata": {
    "ExecuteTime": {
     "end_time": "2019-07-08T03:03:45.948764Z",
     "start_time": "2019-07-08T03:03:45.891538Z"
    },
    "scrolled": true
   },
   "outputs": [
    {
     "data": {
      "text/html": [
       "<div>\n",
       "<style scoped>\n",
       "    .dataframe tbody tr th:only-of-type {\n",
       "        vertical-align: middle;\n",
       "    }\n",
       "\n",
       "    .dataframe tbody tr th {\n",
       "        vertical-align: top;\n",
       "    }\n",
       "\n",
       "    .dataframe thead th {\n",
       "        text-align: right;\n",
       "    }\n",
       "</style>\n",
       "<table border=\"1\" class=\"dataframe\">\n",
       "  <thead>\n",
       "    <tr style=\"text-align: right;\">\n",
       "      <th></th>\n",
       "      <th>schedule_date</th>\n",
       "      <th>schedule_season</th>\n",
       "      <th>schedule_week</th>\n",
       "      <th>schedule_playoff</th>\n",
       "      <th>team_home</th>\n",
       "      <th>score_home</th>\n",
       "      <th>score_away</th>\n",
       "      <th>team_away</th>\n",
       "      <th>team_favorite_id</th>\n",
       "      <th>spread_favorite</th>\n",
       "      <th>over_under_line</th>\n",
       "      <th>stadium</th>\n",
       "      <th>stadium_neutral</th>\n",
       "      <th>weather_temperature</th>\n",
       "      <th>weather_wind_mph</th>\n",
       "      <th>weather_humidity</th>\n",
       "      <th>weather_detail</th>\n",
       "      <th>team_home_id</th>\n",
       "      <th>team_away_id</th>\n",
       "      <th>team_underdog_id</th>\n",
       "      <th>total_score</th>\n",
       "      <th>over_under_result</th>\n",
       "      <th>actual_spread</th>\n",
       "      <th>spread_result</th>\n",
       "      <th>game_winner_id</th>\n",
       "      <th>home_win</th>\n",
       "      <th>game_id_h</th>\n",
       "      <th>game_id_a</th>\n",
       "      <th>stadium_name</th>\n",
       "      <th>stadium_type</th>\n",
       "      <th>stadium_weather_type</th>\n",
       "      <th>stadium_surface</th>\n",
       "      <th>LATITUDE</th>\n",
       "      <th>LONGITUDE</th>\n",
       "      <th>ELEVATION</th>\n",
       "      <th>h_game_id_team</th>\n",
       "      <th>h_travel_distance</th>\n",
       "      <th>h_season_wins</th>\n",
       "      <th>h_season_losses</th>\n",
       "      <th>h_season_ties</th>\n",
       "      <th>h_season_pct</th>\n",
       "      <th>h_days_last_game</th>\n",
       "      <th>h_avg_season_score</th>\n",
       "      <th>a_game_id_team</th>\n",
       "      <th>a_travel_distance</th>\n",
       "      <th>a_season_wins</th>\n",
       "      <th>a_season_losses</th>\n",
       "      <th>a_season_ties</th>\n",
       "      <th>a_season_pct</th>\n",
       "      <th>a_days_last_game</th>\n",
       "      <th>a_avg_season_score</th>\n",
       "    </tr>\n",
       "  </thead>\n",
       "  <tbody>\n",
       "    <tr>\n",
       "      <th>0</th>\n",
       "      <td>2011-09-08</td>\n",
       "      <td>2011</td>\n",
       "      <td>1</td>\n",
       "      <td>False</td>\n",
       "      <td>Green Bay Packers</td>\n",
       "      <td>42</td>\n",
       "      <td>34</td>\n",
       "      <td>New Orleans Saints</td>\n",
       "      <td>GB</td>\n",
       "      <td>-5.0</td>\n",
       "      <td>48.0</td>\n",
       "      <td>Lambeau Field</td>\n",
       "      <td>False</td>\n",
       "      <td>68.0</td>\n",
       "      <td>5.0</td>\n",
       "      <td>67.0</td>\n",
       "      <td>Fair</td>\n",
       "      <td>GB</td>\n",
       "      <td>NO</td>\n",
       "      <td>NO</td>\n",
       "      <td>76</td>\n",
       "      <td>over</td>\n",
       "      <td>-8</td>\n",
       "      <td>favorite</td>\n",
       "      <td>GB</td>\n",
       "      <td>1</td>\n",
       "      <td>2011-1-GB</td>\n",
       "      <td>2011-1-NO</td>\n",
       "      <td>Lambeau Field</td>\n",
       "      <td>outdoor</td>\n",
       "      <td>cold</td>\n",
       "      <td>Grass</td>\n",
       "      <td>44.4794</td>\n",
       "      <td>-88.1366</td>\n",
       "      <td>209.4</td>\n",
       "      <td>2011-1-GB</td>\n",
       "      <td>0.0</td>\n",
       "      <td>0.0</td>\n",
       "      <td>0.0</td>\n",
       "      <td>0.0</td>\n",
       "      <td>0.5</td>\n",
       "      <td>250.0</td>\n",
       "      <td>22.5</td>\n",
       "      <td>2011-1-NO</td>\n",
       "      <td>0.0</td>\n",
       "      <td>0.0</td>\n",
       "      <td>0.0</td>\n",
       "      <td>0.0</td>\n",
       "      <td>0.5</td>\n",
       "      <td>250.0</td>\n",
       "      <td>22.5</td>\n",
       "    </tr>\n",
       "    <tr>\n",
       "      <th>1</th>\n",
       "      <td>2011-09-11</td>\n",
       "      <td>2011</td>\n",
       "      <td>1</td>\n",
       "      <td>False</td>\n",
       "      <td>Arizona Cardinals</td>\n",
       "      <td>28</td>\n",
       "      <td>21</td>\n",
       "      <td>Carolina Panthers</td>\n",
       "      <td>ARI</td>\n",
       "      <td>-7.0</td>\n",
       "      <td>37.5</td>\n",
       "      <td>University of Phoenix Stadium</td>\n",
       "      <td>False</td>\n",
       "      <td>72.0</td>\n",
       "      <td>0.0</td>\n",
       "      <td>NaN</td>\n",
       "      <td>DOME</td>\n",
       "      <td>ARI</td>\n",
       "      <td>CAR</td>\n",
       "      <td>CAR</td>\n",
       "      <td>49</td>\n",
       "      <td>over</td>\n",
       "      <td>-7</td>\n",
       "      <td>push</td>\n",
       "      <td>ARI</td>\n",
       "      <td>1</td>\n",
       "      <td>2011-1-ARI</td>\n",
       "      <td>2011-1-CAR</td>\n",
       "      <td>University of Phoenix Stadium</td>\n",
       "      <td>retractable</td>\n",
       "      <td>dome</td>\n",
       "      <td>Grass</td>\n",
       "      <td>33.4552</td>\n",
       "      <td>-111.9316</td>\n",
       "      <td>375.2</td>\n",
       "      <td>2011-1-ARI</td>\n",
       "      <td>0.0</td>\n",
       "      <td>0.0</td>\n",
       "      <td>0.0</td>\n",
       "      <td>0.0</td>\n",
       "      <td>0.5</td>\n",
       "      <td>250.0</td>\n",
       "      <td>22.5</td>\n",
       "      <td>2011-1-CAR</td>\n",
       "      <td>0.0</td>\n",
       "      <td>0.0</td>\n",
       "      <td>0.0</td>\n",
       "      <td>0.0</td>\n",
       "      <td>0.5</td>\n",
       "      <td>250.0</td>\n",
       "      <td>22.5</td>\n",
       "    </tr>\n",
       "  </tbody>\n",
       "</table>\n",
       "</div>"
      ],
      "text/plain": [
       "  schedule_date  schedule_season  schedule_week  schedule_playoff  \\\n",
       "0    2011-09-08             2011              1             False   \n",
       "1    2011-09-11             2011              1             False   \n",
       "\n",
       "           team_home  score_home  score_away           team_away  \\\n",
       "0  Green Bay Packers          42          34  New Orleans Saints   \n",
       "1  Arizona Cardinals          28          21   Carolina Panthers   \n",
       "\n",
       "  team_favorite_id  spread_favorite  over_under_line  \\\n",
       "0               GB             -5.0             48.0   \n",
       "1              ARI             -7.0             37.5   \n",
       "\n",
       "                         stadium  stadium_neutral  weather_temperature  \\\n",
       "0                  Lambeau Field            False                 68.0   \n",
       "1  University of Phoenix Stadium            False                 72.0   \n",
       "\n",
       "   weather_wind_mph  weather_humidity weather_detail team_home_id  \\\n",
       "0               5.0              67.0           Fair           GB   \n",
       "1               0.0               NaN           DOME          ARI   \n",
       "\n",
       "  team_away_id team_underdog_id  total_score over_under_result  actual_spread  \\\n",
       "0           NO               NO           76              over             -8   \n",
       "1          CAR              CAR           49              over             -7   \n",
       "\n",
       "  spread_result game_winner_id  home_win   game_id_h   game_id_a  \\\n",
       "0      favorite             GB         1   2011-1-GB   2011-1-NO   \n",
       "1          push            ARI         1  2011-1-ARI  2011-1-CAR   \n",
       "\n",
       "                    stadium_name stadium_type stadium_weather_type  \\\n",
       "0                  Lambeau Field      outdoor                 cold   \n",
       "1  University of Phoenix Stadium  retractable                 dome   \n",
       "\n",
       "  stadium_surface  LATITUDE  LONGITUDE  ELEVATION h_game_id_team  \\\n",
       "0           Grass   44.4794   -88.1366      209.4      2011-1-GB   \n",
       "1           Grass   33.4552  -111.9316      375.2     2011-1-ARI   \n",
       "\n",
       "   h_travel_distance  h_season_wins  h_season_losses  h_season_ties  \\\n",
       "0                0.0            0.0              0.0            0.0   \n",
       "1                0.0            0.0              0.0            0.0   \n",
       "\n",
       "   h_season_pct  h_days_last_game  h_avg_season_score a_game_id_team  \\\n",
       "0           0.5             250.0                22.5      2011-1-NO   \n",
       "1           0.5             250.0                22.5     2011-1-CAR   \n",
       "\n",
       "   a_travel_distance  a_season_wins  a_season_losses  a_season_ties  \\\n",
       "0                0.0            0.0              0.0            0.0   \n",
       "1                0.0            0.0              0.0            0.0   \n",
       "\n",
       "   a_season_pct  a_days_last_game  a_avg_season_score  \n",
       "0           0.5             250.0                22.5  \n",
       "1           0.5             250.0                22.5  "
      ]
     },
     "execution_count": 4,
     "metadata": {},
     "output_type": "execute_result"
    }
   ],
   "source": [
    "df.head(2)"
   ]
  },
  {
   "cell_type": "code",
   "execution_count": 5,
   "metadata": {
    "ExecuteTime": {
     "end_time": "2019-07-08T03:03:45.960754Z",
     "start_time": "2019-07-08T03:03:45.951121Z"
    }
   },
   "outputs": [
    {
     "data": {
      "text/plain": [
       " 1    1230\n",
       " 0     899\n",
       "-1       7\n",
       "Name: home_win, dtype: int64"
      ]
     },
     "execution_count": 5,
     "metadata": {},
     "output_type": "execute_result"
    }
   ],
   "source": [
    "# 1 = Home Win\n",
    "# 0 = Away Win\n",
    "# -1 = Tie\n",
    "\n",
    "df.home_win.value_counts()"
   ]
  },
  {
   "cell_type": "code",
   "execution_count": 6,
   "metadata": {
    "ExecuteTime": {
     "end_time": "2019-07-08T03:03:46.049924Z",
     "start_time": "2019-07-08T03:03:45.963539Z"
    }
   },
   "outputs": [],
   "source": [
    "# Import 538 elo\n",
    "\n",
    "elo = pd.read_csv('./data/nfl_elo.csv')\n",
    "elo.head()\n",
    "elo.replace('WSH', 'WAS', inplace=True)"
   ]
  },
  {
   "cell_type": "code",
   "execution_count": 7,
   "metadata": {
    "ExecuteTime": {
     "end_time": "2019-07-08T03:03:46.065569Z",
     "start_time": "2019-07-08T03:03:46.062052Z"
    }
   },
   "outputs": [],
   "source": [
    "def keep_notna_elo(row):\n",
    "    if np.isnan(row.elo_prob1):\n",
    "        return row.elo_prob2\n",
    "    else:\n",
    "        return row.elo_prob1"
   ]
  },
  {
   "cell_type": "code",
   "execution_count": 8,
   "metadata": {
    "ExecuteTime": {
     "end_time": "2019-07-08T03:03:46.266750Z",
     "start_time": "2019-07-08T03:03:46.069737Z"
    }
   },
   "outputs": [
    {
     "data": {
      "text/html": [
       "<div>\n",
       "<style scoped>\n",
       "    .dataframe tbody tr th:only-of-type {\n",
       "        vertical-align: middle;\n",
       "    }\n",
       "\n",
       "    .dataframe tbody tr th {\n",
       "        vertical-align: top;\n",
       "    }\n",
       "\n",
       "    .dataframe thead th {\n",
       "        text-align: right;\n",
       "    }\n",
       "</style>\n",
       "<table border=\"1\" class=\"dataframe\">\n",
       "  <thead>\n",
       "    <tr style=\"text-align: right;\">\n",
       "      <th></th>\n",
       "      <th>schedule_date</th>\n",
       "      <th>schedule_season</th>\n",
       "      <th>schedule_week</th>\n",
       "      <th>schedule_playoff</th>\n",
       "      <th>team_home</th>\n",
       "      <th>score_home</th>\n",
       "      <th>score_away</th>\n",
       "      <th>team_away</th>\n",
       "      <th>team_favorite_id</th>\n",
       "      <th>spread_favorite</th>\n",
       "      <th>over_under_line</th>\n",
       "      <th>stadium</th>\n",
       "      <th>stadium_neutral</th>\n",
       "      <th>weather_temperature</th>\n",
       "      <th>weather_wind_mph</th>\n",
       "      <th>weather_humidity</th>\n",
       "      <th>weather_detail</th>\n",
       "      <th>team_home_id</th>\n",
       "      <th>team_away_id</th>\n",
       "      <th>team_underdog_id</th>\n",
       "      <th>total_score</th>\n",
       "      <th>over_under_result</th>\n",
       "      <th>actual_spread</th>\n",
       "      <th>spread_result</th>\n",
       "      <th>game_winner_id</th>\n",
       "      <th>home_win</th>\n",
       "      <th>game_id_h</th>\n",
       "      <th>game_id_a</th>\n",
       "      <th>stadium_name</th>\n",
       "      <th>stadium_type</th>\n",
       "      <th>stadium_weather_type</th>\n",
       "      <th>stadium_surface</th>\n",
       "      <th>LATITUDE</th>\n",
       "      <th>LONGITUDE</th>\n",
       "      <th>ELEVATION</th>\n",
       "      <th>h_game_id_team</th>\n",
       "      <th>h_travel_distance</th>\n",
       "      <th>h_season_wins</th>\n",
       "      <th>h_season_losses</th>\n",
       "      <th>h_season_ties</th>\n",
       "      <th>h_season_pct</th>\n",
       "      <th>h_days_last_game</th>\n",
       "      <th>h_avg_season_score</th>\n",
       "      <th>a_game_id_team</th>\n",
       "      <th>a_travel_distance</th>\n",
       "      <th>a_season_wins</th>\n",
       "      <th>a_season_losses</th>\n",
       "      <th>a_season_ties</th>\n",
       "      <th>a_season_pct</th>\n",
       "      <th>a_days_last_game</th>\n",
       "      <th>a_avg_season_score</th>\n",
       "      <th>elo_prob_home</th>\n",
       "    </tr>\n",
       "  </thead>\n",
       "  <tbody>\n",
       "  </tbody>\n",
       "</table>\n",
       "</div>"
      ],
      "text/plain": [
       "Empty DataFrame\n",
       "Columns: [schedule_date, schedule_season, schedule_week, schedule_playoff, team_home, score_home, score_away, team_away, team_favorite_id, spread_favorite, over_under_line, stadium, stadium_neutral, weather_temperature, weather_wind_mph, weather_humidity, weather_detail, team_home_id, team_away_id, team_underdog_id, total_score, over_under_result, actual_spread, spread_result, game_winner_id, home_win, game_id_h, game_id_a, stadium_name, stadium_type, stadium_weather_type, stadium_surface, LATITUDE, LONGITUDE, ELEVATION, h_game_id_team, h_travel_distance, h_season_wins, h_season_losses, h_season_ties, h_season_pct, h_days_last_game, h_avg_season_score, a_game_id_team, a_travel_distance, a_season_wins, a_season_losses, a_season_ties, a_season_pct, a_days_last_game, a_avg_season_score, elo_prob_home]\n",
       "Index: []"
      ]
     },
     "execution_count": 8,
     "metadata": {},
     "output_type": "execute_result"
    }
   ],
   "source": [
    "elo_merge_fields = ['date', 'team1']\n",
    "elo_keep_fields = elo_merge_fields + ['elo_prob1']\n",
    "\n",
    "df_elo = df.merge(elo[elo_keep_fields], how='left', left_on=[\n",
    "                  'schedule_date', 'team_home_id'], right_on=elo_merge_fields)\n",
    "\n",
    "\n",
    "# repeat for some neutral field games where 538 has the other team as home\n",
    "elo_merge_fields = ['date', 'team2']\n",
    "elo_keep_fields = elo_merge_fields + ['elo_prob2']\n",
    "\n",
    "df_elo = df_elo.merge(elo[elo_keep_fields], how='left', left_on=[\n",
    "                  'schedule_date', 'team_home_id'], right_on=elo_merge_fields)\n",
    "\n",
    "\n",
    "df_elo['elo_prob_home'] = df_elo.apply(keep_notna_elo, axis=1)\n",
    "\n",
    "# remove unused merge fields\n",
    "df_elo.drop(columns=['date_x', 'team1', 'elo_prob1', 'date_y', 'team2', 'elo_prob2'], inplace=True)\n",
    "\n",
    "#check for missing\n",
    "df_elo[df_elo.elo_prob_home.isna()]"
   ]
  },
  {
   "cell_type": "code",
   "execution_count": 9,
   "metadata": {
    "ExecuteTime": {
     "end_time": "2019-07-08T03:03:46.275787Z",
     "start_time": "2019-07-08T03:03:46.270689Z"
    }
   },
   "outputs": [],
   "source": [
    "df = df_elo.copy()"
   ]
  },
  {
   "cell_type": "markdown",
   "metadata": {},
   "source": [
    "# Define Baseline accuracy"
   ]
  },
  {
   "cell_type": "code",
   "execution_count": 10,
   "metadata": {
    "ExecuteTime": {
     "end_time": "2019-07-08T03:03:46.282673Z",
     "start_time": "2019-07-08T03:03:46.277326Z"
    }
   },
   "outputs": [
    {
     "data": {
      "text/plain": [
       "0.572565543071161"
      ]
     },
     "execution_count": 10,
     "metadata": {},
     "output_type": "execute_result"
    }
   ],
   "source": [
    "# Minimum Baseline (Naive)\n",
    "# accuracy if picking home team win in every game\n",
    "df.home_win.sum()/len(df)"
   ]
  },
  {
   "cell_type": "code",
   "execution_count": 11,
   "metadata": {
    "ExecuteTime": {
     "end_time": "2019-07-08T03:03:46.291831Z",
     "start_time": "2019-07-08T03:03:46.284189Z"
    }
   },
   "outputs": [
    {
     "data": {
      "text/plain": [
       "0.651685393258427"
      ]
     },
     "execution_count": 11,
     "metadata": {},
     "output_type": "execute_result"
    }
   ],
   "source": [
    "# Target Baseline\n",
    "# accuracy if picking the vegas favorite team in each game\n",
    "(df[\"home_win\"] == (df[\"actual_spread\"] < 0)).sum()/len(df)"
   ]
  },
  {
   "cell_type": "markdown",
   "metadata": {},
   "source": [
    "# Define X, y"
   ]
  },
  {
   "cell_type": "code",
   "execution_count": 12,
   "metadata": {
    "ExecuteTime": {
     "end_time": "2019-07-08T03:03:46.378100Z",
     "start_time": "2019-07-08T03:03:46.293546Z"
    }
   },
   "outputs": [],
   "source": [
    "y, X = dmatrices('home_win ~ schedule_season + a_season_pct + h_season_pct \\\n",
    "                 + C(team_home_id) + a_avg_season_score \\\n",
    "                 + h_avg_season_score + C(team_away_id) + schedule_week \\\n",
    "                 + ELEVATION + weather_detail + h_travel_distance \\\n",
    "                 + a_travel_distance + h_days_last_game + a_days_last_game \\\n",
    "                 + elo_prob_home', \n",
    "                 df, return_type = \"dataframe\" )"
   ]
  },
  {
   "cell_type": "code",
   "execution_count": 13,
   "metadata": {
    "ExecuteTime": {
     "end_time": "2019-07-08T03:03:46.462198Z",
     "start_time": "2019-07-08T03:03:46.391417Z"
    },
    "scrolled": true
   },
   "outputs": [
    {
     "data": {
      "text/html": [
       "<div>\n",
       "<style scoped>\n",
       "    .dataframe tbody tr th:only-of-type {\n",
       "        vertical-align: middle;\n",
       "    }\n",
       "\n",
       "    .dataframe tbody tr th {\n",
       "        vertical-align: top;\n",
       "    }\n",
       "\n",
       "    .dataframe thead th {\n",
       "        text-align: right;\n",
       "    }\n",
       "</style>\n",
       "<table border=\"1\" class=\"dataframe\">\n",
       "  <thead>\n",
       "    <tr style=\"text-align: right;\">\n",
       "      <th></th>\n",
       "      <th>Intercept</th>\n",
       "      <th>C(team_home_id)[T.ATL]</th>\n",
       "      <th>C(team_home_id)[T.BAL]</th>\n",
       "      <th>C(team_home_id)[T.BUF]</th>\n",
       "      <th>C(team_home_id)[T.CAR]</th>\n",
       "      <th>C(team_home_id)[T.CHI]</th>\n",
       "      <th>C(team_home_id)[T.CIN]</th>\n",
       "      <th>C(team_home_id)[T.CLE]</th>\n",
       "      <th>C(team_home_id)[T.DAL]</th>\n",
       "      <th>C(team_home_id)[T.DEN]</th>\n",
       "      <th>C(team_home_id)[T.DET]</th>\n",
       "      <th>C(team_home_id)[T.GB]</th>\n",
       "      <th>C(team_home_id)[T.HOU]</th>\n",
       "      <th>C(team_home_id)[T.IND]</th>\n",
       "      <th>C(team_home_id)[T.JAX]</th>\n",
       "      <th>C(team_home_id)[T.KC]</th>\n",
       "      <th>C(team_home_id)[T.LAC]</th>\n",
       "      <th>C(team_home_id)[T.LAR]</th>\n",
       "      <th>C(team_home_id)[T.MIA]</th>\n",
       "      <th>C(team_home_id)[T.MIN]</th>\n",
       "      <th>C(team_home_id)[T.NE]</th>\n",
       "      <th>C(team_home_id)[T.NO]</th>\n",
       "      <th>C(team_home_id)[T.NYG]</th>\n",
       "      <th>C(team_home_id)[T.NYJ]</th>\n",
       "      <th>C(team_home_id)[T.OAK]</th>\n",
       "      <th>C(team_home_id)[T.PHI]</th>\n",
       "      <th>C(team_home_id)[T.PIT]</th>\n",
       "      <th>C(team_home_id)[T.SEA]</th>\n",
       "      <th>C(team_home_id)[T.SF]</th>\n",
       "      <th>C(team_home_id)[T.TB]</th>\n",
       "      <th>C(team_home_id)[T.TEN]</th>\n",
       "      <th>C(team_home_id)[T.WAS]</th>\n",
       "      <th>C(team_away_id)[T.ATL]</th>\n",
       "      <th>C(team_away_id)[T.BAL]</th>\n",
       "      <th>C(team_away_id)[T.BUF]</th>\n",
       "      <th>C(team_away_id)[T.CAR]</th>\n",
       "      <th>C(team_away_id)[T.CHI]</th>\n",
       "      <th>C(team_away_id)[T.CIN]</th>\n",
       "      <th>C(team_away_id)[T.CLE]</th>\n",
       "      <th>C(team_away_id)[T.DAL]</th>\n",
       "      <th>C(team_away_id)[T.DEN]</th>\n",
       "      <th>C(team_away_id)[T.DET]</th>\n",
       "      <th>C(team_away_id)[T.GB]</th>\n",
       "      <th>C(team_away_id)[T.HOU]</th>\n",
       "      <th>C(team_away_id)[T.IND]</th>\n",
       "      <th>C(team_away_id)[T.JAX]</th>\n",
       "      <th>C(team_away_id)[T.KC]</th>\n",
       "      <th>C(team_away_id)[T.LAC]</th>\n",
       "      <th>C(team_away_id)[T.LAR]</th>\n",
       "      <th>C(team_away_id)[T.MIA]</th>\n",
       "      <th>C(team_away_id)[T.MIN]</th>\n",
       "      <th>C(team_away_id)[T.NE]</th>\n",
       "      <th>C(team_away_id)[T.NO]</th>\n",
       "      <th>C(team_away_id)[T.NYG]</th>\n",
       "      <th>C(team_away_id)[T.NYJ]</th>\n",
       "      <th>C(team_away_id)[T.OAK]</th>\n",
       "      <th>C(team_away_id)[T.PHI]</th>\n",
       "      <th>C(team_away_id)[T.PIT]</th>\n",
       "      <th>C(team_away_id)[T.SEA]</th>\n",
       "      <th>C(team_away_id)[T.SF]</th>\n",
       "      <th>C(team_away_id)[T.TB]</th>\n",
       "      <th>C(team_away_id)[T.TEN]</th>\n",
       "      <th>C(team_away_id)[T.WAS]</th>\n",
       "      <th>weather_detail[T.DOME (Open Roof)]</th>\n",
       "      <th>weather_detail[T.Fair]</th>\n",
       "      <th>weather_detail[T.Fog]</th>\n",
       "      <th>weather_detail[T.Rain]</th>\n",
       "      <th>weather_detail[T.Rain | Fog]</th>\n",
       "      <th>weather_detail[T.Snow]</th>\n",
       "      <th>weather_detail[T.Snow | Fog]</th>\n",
       "      <th>weather_detail[T.Snow | Freezing Rain]</th>\n",
       "      <th>schedule_season</th>\n",
       "      <th>a_season_pct</th>\n",
       "      <th>h_season_pct</th>\n",
       "      <th>a_avg_season_score</th>\n",
       "      <th>h_avg_season_score</th>\n",
       "      <th>schedule_week</th>\n",
       "      <th>ELEVATION</th>\n",
       "      <th>h_travel_distance</th>\n",
       "      <th>a_travel_distance</th>\n",
       "      <th>h_days_last_game</th>\n",
       "      <th>a_days_last_game</th>\n",
       "      <th>elo_prob_home</th>\n",
       "    </tr>\n",
       "  </thead>\n",
       "  <tbody>\n",
       "    <tr>\n",
       "      <th>2131</th>\n",
       "      <td>1.0</td>\n",
       "      <td>0.0</td>\n",
       "      <td>0.0</td>\n",
       "      <td>0.0</td>\n",
       "      <td>0.0</td>\n",
       "      <td>0.0</td>\n",
       "      <td>0.0</td>\n",
       "      <td>0.0</td>\n",
       "      <td>0.0</td>\n",
       "      <td>0.0</td>\n",
       "      <td>0.0</td>\n",
       "      <td>0.0</td>\n",
       "      <td>0.0</td>\n",
       "      <td>0.0</td>\n",
       "      <td>0.0</td>\n",
       "      <td>0.0</td>\n",
       "      <td>0.0</td>\n",
       "      <td>0.0</td>\n",
       "      <td>0.0</td>\n",
       "      <td>0.0</td>\n",
       "      <td>0.0</td>\n",
       "      <td>1.0</td>\n",
       "      <td>0.0</td>\n",
       "      <td>0.0</td>\n",
       "      <td>0.0</td>\n",
       "      <td>0.0</td>\n",
       "      <td>0.0</td>\n",
       "      <td>0.0</td>\n",
       "      <td>0.0</td>\n",
       "      <td>0.0</td>\n",
       "      <td>0.0</td>\n",
       "      <td>0.0</td>\n",
       "      <td>0.0</td>\n",
       "      <td>0.0</td>\n",
       "      <td>0.0</td>\n",
       "      <td>0.0</td>\n",
       "      <td>0.0</td>\n",
       "      <td>0.0</td>\n",
       "      <td>0.0</td>\n",
       "      <td>0.0</td>\n",
       "      <td>0.0</td>\n",
       "      <td>0.0</td>\n",
       "      <td>0.0</td>\n",
       "      <td>0.0</td>\n",
       "      <td>0.0</td>\n",
       "      <td>0.0</td>\n",
       "      <td>0.0</td>\n",
       "      <td>0.0</td>\n",
       "      <td>0.0</td>\n",
       "      <td>0.0</td>\n",
       "      <td>0.0</td>\n",
       "      <td>0.0</td>\n",
       "      <td>0.0</td>\n",
       "      <td>0.0</td>\n",
       "      <td>0.0</td>\n",
       "      <td>0.0</td>\n",
       "      <td>1.0</td>\n",
       "      <td>0.0</td>\n",
       "      <td>0.0</td>\n",
       "      <td>0.0</td>\n",
       "      <td>0.0</td>\n",
       "      <td>0.0</td>\n",
       "      <td>0.0</td>\n",
       "      <td>0.0</td>\n",
       "      <td>0.0</td>\n",
       "      <td>0.0</td>\n",
       "      <td>0.0</td>\n",
       "      <td>0.0</td>\n",
       "      <td>0.0</td>\n",
       "      <td>0.0</td>\n",
       "      <td>0.0</td>\n",
       "      <td>2018.0</td>\n",
       "      <td>0.588235</td>\n",
       "      <td>0.812500</td>\n",
       "      <td>22.529412</td>\n",
       "      <td>31.500000</td>\n",
       "      <td>19.0</td>\n",
       "      <td>32.0</td>\n",
       "      <td>0.000000</td>\n",
       "      <td>1339.496163</td>\n",
       "      <td>14.0</td>\n",
       "      <td>7.0</td>\n",
       "      <td>0.641378</td>\n",
       "    </tr>\n",
       "    <tr>\n",
       "      <th>2132</th>\n",
       "      <td>1.0</td>\n",
       "      <td>0.0</td>\n",
       "      <td>0.0</td>\n",
       "      <td>0.0</td>\n",
       "      <td>0.0</td>\n",
       "      <td>0.0</td>\n",
       "      <td>0.0</td>\n",
       "      <td>0.0</td>\n",
       "      <td>0.0</td>\n",
       "      <td>0.0</td>\n",
       "      <td>0.0</td>\n",
       "      <td>0.0</td>\n",
       "      <td>0.0</td>\n",
       "      <td>0.0</td>\n",
       "      <td>0.0</td>\n",
       "      <td>0.0</td>\n",
       "      <td>0.0</td>\n",
       "      <td>0.0</td>\n",
       "      <td>0.0</td>\n",
       "      <td>0.0</td>\n",
       "      <td>1.0</td>\n",
       "      <td>0.0</td>\n",
       "      <td>0.0</td>\n",
       "      <td>0.0</td>\n",
       "      <td>0.0</td>\n",
       "      <td>0.0</td>\n",
       "      <td>0.0</td>\n",
       "      <td>0.0</td>\n",
       "      <td>0.0</td>\n",
       "      <td>0.0</td>\n",
       "      <td>0.0</td>\n",
       "      <td>0.0</td>\n",
       "      <td>0.0</td>\n",
       "      <td>0.0</td>\n",
       "      <td>0.0</td>\n",
       "      <td>0.0</td>\n",
       "      <td>0.0</td>\n",
       "      <td>0.0</td>\n",
       "      <td>0.0</td>\n",
       "      <td>0.0</td>\n",
       "      <td>0.0</td>\n",
       "      <td>0.0</td>\n",
       "      <td>0.0</td>\n",
       "      <td>0.0</td>\n",
       "      <td>0.0</td>\n",
       "      <td>0.0</td>\n",
       "      <td>0.0</td>\n",
       "      <td>1.0</td>\n",
       "      <td>0.0</td>\n",
       "      <td>0.0</td>\n",
       "      <td>0.0</td>\n",
       "      <td>0.0</td>\n",
       "      <td>0.0</td>\n",
       "      <td>0.0</td>\n",
       "      <td>0.0</td>\n",
       "      <td>0.0</td>\n",
       "      <td>0.0</td>\n",
       "      <td>0.0</td>\n",
       "      <td>0.0</td>\n",
       "      <td>0.0</td>\n",
       "      <td>0.0</td>\n",
       "      <td>0.0</td>\n",
       "      <td>0.0</td>\n",
       "      <td>0.0</td>\n",
       "      <td>1.0</td>\n",
       "      <td>0.0</td>\n",
       "      <td>0.0</td>\n",
       "      <td>0.0</td>\n",
       "      <td>0.0</td>\n",
       "      <td>0.0</td>\n",
       "      <td>0.0</td>\n",
       "      <td>2018.0</td>\n",
       "      <td>0.764706</td>\n",
       "      <td>0.687500</td>\n",
       "      <td>26.529412</td>\n",
       "      <td>27.250000</td>\n",
       "      <td>19.0</td>\n",
       "      <td>24.4</td>\n",
       "      <td>0.000000</td>\n",
       "      <td>576.751879</td>\n",
       "      <td>14.0</td>\n",
       "      <td>7.0</td>\n",
       "      <td>0.582068</td>\n",
       "    </tr>\n",
       "    <tr>\n",
       "      <th>2133</th>\n",
       "      <td>1.0</td>\n",
       "      <td>0.0</td>\n",
       "      <td>0.0</td>\n",
       "      <td>0.0</td>\n",
       "      <td>0.0</td>\n",
       "      <td>0.0</td>\n",
       "      <td>0.0</td>\n",
       "      <td>0.0</td>\n",
       "      <td>0.0</td>\n",
       "      <td>0.0</td>\n",
       "      <td>0.0</td>\n",
       "      <td>0.0</td>\n",
       "      <td>0.0</td>\n",
       "      <td>0.0</td>\n",
       "      <td>0.0</td>\n",
       "      <td>0.0</td>\n",
       "      <td>0.0</td>\n",
       "      <td>0.0</td>\n",
       "      <td>0.0</td>\n",
       "      <td>0.0</td>\n",
       "      <td>0.0</td>\n",
       "      <td>1.0</td>\n",
       "      <td>0.0</td>\n",
       "      <td>0.0</td>\n",
       "      <td>0.0</td>\n",
       "      <td>0.0</td>\n",
       "      <td>0.0</td>\n",
       "      <td>0.0</td>\n",
       "      <td>0.0</td>\n",
       "      <td>0.0</td>\n",
       "      <td>0.0</td>\n",
       "      <td>0.0</td>\n",
       "      <td>0.0</td>\n",
       "      <td>0.0</td>\n",
       "      <td>0.0</td>\n",
       "      <td>0.0</td>\n",
       "      <td>0.0</td>\n",
       "      <td>0.0</td>\n",
       "      <td>0.0</td>\n",
       "      <td>0.0</td>\n",
       "      <td>0.0</td>\n",
       "      <td>0.0</td>\n",
       "      <td>0.0</td>\n",
       "      <td>0.0</td>\n",
       "      <td>0.0</td>\n",
       "      <td>0.0</td>\n",
       "      <td>0.0</td>\n",
       "      <td>0.0</td>\n",
       "      <td>1.0</td>\n",
       "      <td>0.0</td>\n",
       "      <td>0.0</td>\n",
       "      <td>0.0</td>\n",
       "      <td>0.0</td>\n",
       "      <td>0.0</td>\n",
       "      <td>0.0</td>\n",
       "      <td>0.0</td>\n",
       "      <td>0.0</td>\n",
       "      <td>0.0</td>\n",
       "      <td>0.0</td>\n",
       "      <td>0.0</td>\n",
       "      <td>0.0</td>\n",
       "      <td>0.0</td>\n",
       "      <td>0.0</td>\n",
       "      <td>0.0</td>\n",
       "      <td>0.0</td>\n",
       "      <td>0.0</td>\n",
       "      <td>0.0</td>\n",
       "      <td>0.0</td>\n",
       "      <td>0.0</td>\n",
       "      <td>0.0</td>\n",
       "      <td>0.0</td>\n",
       "      <td>2018.0</td>\n",
       "      <td>0.823529</td>\n",
       "      <td>0.823529</td>\n",
       "      <td>32.764706</td>\n",
       "      <td>30.823529</td>\n",
       "      <td>20.0</td>\n",
       "      <td>32.0</td>\n",
       "      <td>0.000000</td>\n",
       "      <td>2703.956221</td>\n",
       "      <td>7.0</td>\n",
       "      <td>8.0</td>\n",
       "      <td>0.638772</td>\n",
       "    </tr>\n",
       "    <tr>\n",
       "      <th>2134</th>\n",
       "      <td>1.0</td>\n",
       "      <td>0.0</td>\n",
       "      <td>0.0</td>\n",
       "      <td>0.0</td>\n",
       "      <td>0.0</td>\n",
       "      <td>0.0</td>\n",
       "      <td>0.0</td>\n",
       "      <td>0.0</td>\n",
       "      <td>0.0</td>\n",
       "      <td>0.0</td>\n",
       "      <td>0.0</td>\n",
       "      <td>0.0</td>\n",
       "      <td>0.0</td>\n",
       "      <td>0.0</td>\n",
       "      <td>0.0</td>\n",
       "      <td>1.0</td>\n",
       "      <td>0.0</td>\n",
       "      <td>0.0</td>\n",
       "      <td>0.0</td>\n",
       "      <td>0.0</td>\n",
       "      <td>0.0</td>\n",
       "      <td>0.0</td>\n",
       "      <td>0.0</td>\n",
       "      <td>0.0</td>\n",
       "      <td>0.0</td>\n",
       "      <td>0.0</td>\n",
       "      <td>0.0</td>\n",
       "      <td>0.0</td>\n",
       "      <td>0.0</td>\n",
       "      <td>0.0</td>\n",
       "      <td>0.0</td>\n",
       "      <td>0.0</td>\n",
       "      <td>0.0</td>\n",
       "      <td>0.0</td>\n",
       "      <td>0.0</td>\n",
       "      <td>0.0</td>\n",
       "      <td>0.0</td>\n",
       "      <td>0.0</td>\n",
       "      <td>0.0</td>\n",
       "      <td>0.0</td>\n",
       "      <td>0.0</td>\n",
       "      <td>0.0</td>\n",
       "      <td>0.0</td>\n",
       "      <td>0.0</td>\n",
       "      <td>0.0</td>\n",
       "      <td>0.0</td>\n",
       "      <td>0.0</td>\n",
       "      <td>0.0</td>\n",
       "      <td>0.0</td>\n",
       "      <td>0.0</td>\n",
       "      <td>0.0</td>\n",
       "      <td>1.0</td>\n",
       "      <td>0.0</td>\n",
       "      <td>0.0</td>\n",
       "      <td>0.0</td>\n",
       "      <td>0.0</td>\n",
       "      <td>0.0</td>\n",
       "      <td>0.0</td>\n",
       "      <td>0.0</td>\n",
       "      <td>0.0</td>\n",
       "      <td>0.0</td>\n",
       "      <td>0.0</td>\n",
       "      <td>0.0</td>\n",
       "      <td>0.0</td>\n",
       "      <td>1.0</td>\n",
       "      <td>0.0</td>\n",
       "      <td>0.0</td>\n",
       "      <td>0.0</td>\n",
       "      <td>0.0</td>\n",
       "      <td>0.0</td>\n",
       "      <td>0.0</td>\n",
       "      <td>2018.0</td>\n",
       "      <td>0.705882</td>\n",
       "      <td>0.764706</td>\n",
       "      <td>28.058824</td>\n",
       "      <td>35.058824</td>\n",
       "      <td>20.0</td>\n",
       "      <td>264.9</td>\n",
       "      <td>0.000000</td>\n",
       "      <td>2009.546077</td>\n",
       "      <td>8.0</td>\n",
       "      <td>7.0</td>\n",
       "      <td>0.611248</td>\n",
       "    </tr>\n",
       "    <tr>\n",
       "      <th>2135</th>\n",
       "      <td>1.0</td>\n",
       "      <td>0.0</td>\n",
       "      <td>0.0</td>\n",
       "      <td>0.0</td>\n",
       "      <td>0.0</td>\n",
       "      <td>0.0</td>\n",
       "      <td>0.0</td>\n",
       "      <td>0.0</td>\n",
       "      <td>0.0</td>\n",
       "      <td>0.0</td>\n",
       "      <td>0.0</td>\n",
       "      <td>0.0</td>\n",
       "      <td>0.0</td>\n",
       "      <td>0.0</td>\n",
       "      <td>0.0</td>\n",
       "      <td>0.0</td>\n",
       "      <td>0.0</td>\n",
       "      <td>0.0</td>\n",
       "      <td>0.0</td>\n",
       "      <td>0.0</td>\n",
       "      <td>1.0</td>\n",
       "      <td>0.0</td>\n",
       "      <td>0.0</td>\n",
       "      <td>0.0</td>\n",
       "      <td>0.0</td>\n",
       "      <td>0.0</td>\n",
       "      <td>0.0</td>\n",
       "      <td>0.0</td>\n",
       "      <td>0.0</td>\n",
       "      <td>0.0</td>\n",
       "      <td>0.0</td>\n",
       "      <td>0.0</td>\n",
       "      <td>0.0</td>\n",
       "      <td>0.0</td>\n",
       "      <td>0.0</td>\n",
       "      <td>0.0</td>\n",
       "      <td>0.0</td>\n",
       "      <td>0.0</td>\n",
       "      <td>0.0</td>\n",
       "      <td>0.0</td>\n",
       "      <td>0.0</td>\n",
       "      <td>0.0</td>\n",
       "      <td>0.0</td>\n",
       "      <td>0.0</td>\n",
       "      <td>0.0</td>\n",
       "      <td>0.0</td>\n",
       "      <td>0.0</td>\n",
       "      <td>0.0</td>\n",
       "      <td>1.0</td>\n",
       "      <td>0.0</td>\n",
       "      <td>0.0</td>\n",
       "      <td>0.0</td>\n",
       "      <td>0.0</td>\n",
       "      <td>0.0</td>\n",
       "      <td>0.0</td>\n",
       "      <td>0.0</td>\n",
       "      <td>0.0</td>\n",
       "      <td>0.0</td>\n",
       "      <td>0.0</td>\n",
       "      <td>0.0</td>\n",
       "      <td>0.0</td>\n",
       "      <td>0.0</td>\n",
       "      <td>0.0</td>\n",
       "      <td>0.0</td>\n",
       "      <td>0.0</td>\n",
       "      <td>0.0</td>\n",
       "      <td>0.0</td>\n",
       "      <td>0.0</td>\n",
       "      <td>0.0</td>\n",
       "      <td>0.0</td>\n",
       "      <td>0.0</td>\n",
       "      <td>2018.0</td>\n",
       "      <td>0.833333</td>\n",
       "      <td>0.722222</td>\n",
       "      <td>32.388889</td>\n",
       "      <td>28.555556</td>\n",
       "      <td>21.0</td>\n",
       "      <td>309.0</td>\n",
       "      <td>1078.812466</td>\n",
       "      <td>683.109522</td>\n",
       "      <td>14.0</td>\n",
       "      <td>14.0</td>\n",
       "      <td>0.527846</td>\n",
       "    </tr>\n",
       "  </tbody>\n",
       "</table>\n",
       "</div>"
      ],
      "text/plain": [
       "      Intercept  C(team_home_id)[T.ATL]  C(team_home_id)[T.BAL]  \\\n",
       "2131        1.0                     0.0                     0.0   \n",
       "2132        1.0                     0.0                     0.0   \n",
       "2133        1.0                     0.0                     0.0   \n",
       "2134        1.0                     0.0                     0.0   \n",
       "2135        1.0                     0.0                     0.0   \n",
       "\n",
       "      C(team_home_id)[T.BUF]  C(team_home_id)[T.CAR]  C(team_home_id)[T.CHI]  \\\n",
       "2131                     0.0                     0.0                     0.0   \n",
       "2132                     0.0                     0.0                     0.0   \n",
       "2133                     0.0                     0.0                     0.0   \n",
       "2134                     0.0                     0.0                     0.0   \n",
       "2135                     0.0                     0.0                     0.0   \n",
       "\n",
       "      C(team_home_id)[T.CIN]  C(team_home_id)[T.CLE]  C(team_home_id)[T.DAL]  \\\n",
       "2131                     0.0                     0.0                     0.0   \n",
       "2132                     0.0                     0.0                     0.0   \n",
       "2133                     0.0                     0.0                     0.0   \n",
       "2134                     0.0                     0.0                     0.0   \n",
       "2135                     0.0                     0.0                     0.0   \n",
       "\n",
       "      C(team_home_id)[T.DEN]  C(team_home_id)[T.DET]  C(team_home_id)[T.GB]  \\\n",
       "2131                     0.0                     0.0                    0.0   \n",
       "2132                     0.0                     0.0                    0.0   \n",
       "2133                     0.0                     0.0                    0.0   \n",
       "2134                     0.0                     0.0                    0.0   \n",
       "2135                     0.0                     0.0                    0.0   \n",
       "\n",
       "      C(team_home_id)[T.HOU]  C(team_home_id)[T.IND]  C(team_home_id)[T.JAX]  \\\n",
       "2131                     0.0                     0.0                     0.0   \n",
       "2132                     0.0                     0.0                     0.0   \n",
       "2133                     0.0                     0.0                     0.0   \n",
       "2134                     0.0                     0.0                     0.0   \n",
       "2135                     0.0                     0.0                     0.0   \n",
       "\n",
       "      C(team_home_id)[T.KC]  C(team_home_id)[T.LAC]  C(team_home_id)[T.LAR]  \\\n",
       "2131                    0.0                     0.0                     0.0   \n",
       "2132                    0.0                     0.0                     0.0   \n",
       "2133                    0.0                     0.0                     0.0   \n",
       "2134                    1.0                     0.0                     0.0   \n",
       "2135                    0.0                     0.0                     0.0   \n",
       "\n",
       "      C(team_home_id)[T.MIA]  C(team_home_id)[T.MIN]  C(team_home_id)[T.NE]  \\\n",
       "2131                     0.0                     0.0                    0.0   \n",
       "2132                     0.0                     0.0                    1.0   \n",
       "2133                     0.0                     0.0                    0.0   \n",
       "2134                     0.0                     0.0                    0.0   \n",
       "2135                     0.0                     0.0                    1.0   \n",
       "\n",
       "      C(team_home_id)[T.NO]  C(team_home_id)[T.NYG]  C(team_home_id)[T.NYJ]  \\\n",
       "2131                    1.0                     0.0                     0.0   \n",
       "2132                    0.0                     0.0                     0.0   \n",
       "2133                    1.0                     0.0                     0.0   \n",
       "2134                    0.0                     0.0                     0.0   \n",
       "2135                    0.0                     0.0                     0.0   \n",
       "\n",
       "      C(team_home_id)[T.OAK]  C(team_home_id)[T.PHI]  C(team_home_id)[T.PIT]  \\\n",
       "2131                     0.0                     0.0                     0.0   \n",
       "2132                     0.0                     0.0                     0.0   \n",
       "2133                     0.0                     0.0                     0.0   \n",
       "2134                     0.0                     0.0                     0.0   \n",
       "2135                     0.0                     0.0                     0.0   \n",
       "\n",
       "      C(team_home_id)[T.SEA]  C(team_home_id)[T.SF]  C(team_home_id)[T.TB]  \\\n",
       "2131                     0.0                    0.0                    0.0   \n",
       "2132                     0.0                    0.0                    0.0   \n",
       "2133                     0.0                    0.0                    0.0   \n",
       "2134                     0.0                    0.0                    0.0   \n",
       "2135                     0.0                    0.0                    0.0   \n",
       "\n",
       "      C(team_home_id)[T.TEN]  C(team_home_id)[T.WAS]  C(team_away_id)[T.ATL]  \\\n",
       "2131                     0.0                     0.0                     0.0   \n",
       "2132                     0.0                     0.0                     0.0   \n",
       "2133                     0.0                     0.0                     0.0   \n",
       "2134                     0.0                     0.0                     0.0   \n",
       "2135                     0.0                     0.0                     0.0   \n",
       "\n",
       "      C(team_away_id)[T.BAL]  C(team_away_id)[T.BUF]  C(team_away_id)[T.CAR]  \\\n",
       "2131                     0.0                     0.0                     0.0   \n",
       "2132                     0.0                     0.0                     0.0   \n",
       "2133                     0.0                     0.0                     0.0   \n",
       "2134                     0.0                     0.0                     0.0   \n",
       "2135                     0.0                     0.0                     0.0   \n",
       "\n",
       "      C(team_away_id)[T.CHI]  C(team_away_id)[T.CIN]  C(team_away_id)[T.CLE]  \\\n",
       "2131                     0.0                     0.0                     0.0   \n",
       "2132                     0.0                     0.0                     0.0   \n",
       "2133                     0.0                     0.0                     0.0   \n",
       "2134                     0.0                     0.0                     0.0   \n",
       "2135                     0.0                     0.0                     0.0   \n",
       "\n",
       "      C(team_away_id)[T.DAL]  C(team_away_id)[T.DEN]  C(team_away_id)[T.DET]  \\\n",
       "2131                     0.0                     0.0                     0.0   \n",
       "2132                     0.0                     0.0                     0.0   \n",
       "2133                     0.0                     0.0                     0.0   \n",
       "2134                     0.0                     0.0                     0.0   \n",
       "2135                     0.0                     0.0                     0.0   \n",
       "\n",
       "      C(team_away_id)[T.GB]  C(team_away_id)[T.HOU]  C(team_away_id)[T.IND]  \\\n",
       "2131                    0.0                     0.0                     0.0   \n",
       "2132                    0.0                     0.0                     0.0   \n",
       "2133                    0.0                     0.0                     0.0   \n",
       "2134                    0.0                     0.0                     0.0   \n",
       "2135                    0.0                     0.0                     0.0   \n",
       "\n",
       "      C(team_away_id)[T.JAX]  C(team_away_id)[T.KC]  C(team_away_id)[T.LAC]  \\\n",
       "2131                     0.0                    0.0                     0.0   \n",
       "2132                     0.0                    0.0                     1.0   \n",
       "2133                     0.0                    0.0                     0.0   \n",
       "2134                     0.0                    0.0                     0.0   \n",
       "2135                     0.0                    0.0                     0.0   \n",
       "\n",
       "      C(team_away_id)[T.LAR]  C(team_away_id)[T.MIA]  C(team_away_id)[T.MIN]  \\\n",
       "2131                     0.0                     0.0                     0.0   \n",
       "2132                     0.0                     0.0                     0.0   \n",
       "2133                     1.0                     0.0                     0.0   \n",
       "2134                     0.0                     0.0                     0.0   \n",
       "2135                     1.0                     0.0                     0.0   \n",
       "\n",
       "      C(team_away_id)[T.NE]  C(team_away_id)[T.NO]  C(team_away_id)[T.NYG]  \\\n",
       "2131                    0.0                    0.0                     0.0   \n",
       "2132                    0.0                    0.0                     0.0   \n",
       "2133                    0.0                    0.0                     0.0   \n",
       "2134                    1.0                    0.0                     0.0   \n",
       "2135                    0.0                    0.0                     0.0   \n",
       "\n",
       "      C(team_away_id)[T.NYJ]  C(team_away_id)[T.OAK]  C(team_away_id)[T.PHI]  \\\n",
       "2131                     0.0                     0.0                     1.0   \n",
       "2132                     0.0                     0.0                     0.0   \n",
       "2133                     0.0                     0.0                     0.0   \n",
       "2134                     0.0                     0.0                     0.0   \n",
       "2135                     0.0                     0.0                     0.0   \n",
       "\n",
       "      C(team_away_id)[T.PIT]  C(team_away_id)[T.SEA]  C(team_away_id)[T.SF]  \\\n",
       "2131                     0.0                     0.0                    0.0   \n",
       "2132                     0.0                     0.0                    0.0   \n",
       "2133                     0.0                     0.0                    0.0   \n",
       "2134                     0.0                     0.0                    0.0   \n",
       "2135                     0.0                     0.0                    0.0   \n",
       "\n",
       "      C(team_away_id)[T.TB]  C(team_away_id)[T.TEN]  C(team_away_id)[T.WAS]  \\\n",
       "2131                    0.0                     0.0                     0.0   \n",
       "2132                    0.0                     0.0                     0.0   \n",
       "2133                    0.0                     0.0                     0.0   \n",
       "2134                    0.0                     0.0                     0.0   \n",
       "2135                    0.0                     0.0                     0.0   \n",
       "\n",
       "      weather_detail[T.DOME (Open Roof)]  weather_detail[T.Fair]  \\\n",
       "2131                                 0.0                     0.0   \n",
       "2132                                 0.0                     1.0   \n",
       "2133                                 0.0                     0.0   \n",
       "2134                                 0.0                     1.0   \n",
       "2135                                 0.0                     0.0   \n",
       "\n",
       "      weather_detail[T.Fog]  weather_detail[T.Rain]  \\\n",
       "2131                    0.0                     0.0   \n",
       "2132                    0.0                     0.0   \n",
       "2133                    0.0                     0.0   \n",
       "2134                    0.0                     0.0   \n",
       "2135                    0.0                     0.0   \n",
       "\n",
       "      weather_detail[T.Rain | Fog]  weather_detail[T.Snow]  \\\n",
       "2131                           0.0                     0.0   \n",
       "2132                           0.0                     0.0   \n",
       "2133                           0.0                     0.0   \n",
       "2134                           0.0                     0.0   \n",
       "2135                           0.0                     0.0   \n",
       "\n",
       "      weather_detail[T.Snow | Fog]  weather_detail[T.Snow | Freezing Rain]  \\\n",
       "2131                           0.0                                     0.0   \n",
       "2132                           0.0                                     0.0   \n",
       "2133                           0.0                                     0.0   \n",
       "2134                           0.0                                     0.0   \n",
       "2135                           0.0                                     0.0   \n",
       "\n",
       "      schedule_season  a_season_pct  h_season_pct  a_avg_season_score  \\\n",
       "2131           2018.0      0.588235      0.812500           22.529412   \n",
       "2132           2018.0      0.764706      0.687500           26.529412   \n",
       "2133           2018.0      0.823529      0.823529           32.764706   \n",
       "2134           2018.0      0.705882      0.764706           28.058824   \n",
       "2135           2018.0      0.833333      0.722222           32.388889   \n",
       "\n",
       "      h_avg_season_score  schedule_week  ELEVATION  h_travel_distance  \\\n",
       "2131           31.500000           19.0       32.0           0.000000   \n",
       "2132           27.250000           19.0       24.4           0.000000   \n",
       "2133           30.823529           20.0       32.0           0.000000   \n",
       "2134           35.058824           20.0      264.9           0.000000   \n",
       "2135           28.555556           21.0      309.0        1078.812466   \n",
       "\n",
       "      a_travel_distance  h_days_last_game  a_days_last_game  elo_prob_home  \n",
       "2131        1339.496163              14.0               7.0       0.641378  \n",
       "2132         576.751879              14.0               7.0       0.582068  \n",
       "2133        2703.956221               7.0               8.0       0.638772  \n",
       "2134        2009.546077               8.0               7.0       0.611248  \n",
       "2135         683.109522              14.0              14.0       0.527846  "
      ]
     },
     "execution_count": 13,
     "metadata": {},
     "output_type": "execute_result"
    }
   ],
   "source": [
    "X.tail()"
   ]
  },
  {
   "cell_type": "code",
   "execution_count": 14,
   "metadata": {
    "ExecuteTime": {
     "end_time": "2019-07-08T03:03:46.473400Z",
     "start_time": "2019-07-08T03:03:46.463684Z"
    }
   },
   "outputs": [
    {
     "data": {
      "text/html": [
       "<div>\n",
       "<style scoped>\n",
       "    .dataframe tbody tr th:only-of-type {\n",
       "        vertical-align: middle;\n",
       "    }\n",
       "\n",
       "    .dataframe tbody tr th {\n",
       "        vertical-align: top;\n",
       "    }\n",
       "\n",
       "    .dataframe thead th {\n",
       "        text-align: right;\n",
       "    }\n",
       "</style>\n",
       "<table border=\"1\" class=\"dataframe\">\n",
       "  <thead>\n",
       "    <tr style=\"text-align: right;\">\n",
       "      <th></th>\n",
       "      <th>home_win</th>\n",
       "    </tr>\n",
       "  </thead>\n",
       "  <tbody>\n",
       "    <tr>\n",
       "      <th>2131</th>\n",
       "      <td>1.0</td>\n",
       "    </tr>\n",
       "    <tr>\n",
       "      <th>2132</th>\n",
       "      <td>1.0</td>\n",
       "    </tr>\n",
       "    <tr>\n",
       "      <th>2133</th>\n",
       "      <td>0.0</td>\n",
       "    </tr>\n",
       "    <tr>\n",
       "      <th>2134</th>\n",
       "      <td>0.0</td>\n",
       "    </tr>\n",
       "    <tr>\n",
       "      <th>2135</th>\n",
       "      <td>1.0</td>\n",
       "    </tr>\n",
       "  </tbody>\n",
       "</table>\n",
       "</div>"
      ],
      "text/plain": [
       "      home_win\n",
       "2131       1.0\n",
       "2132       1.0\n",
       "2133       0.0\n",
       "2134       0.0\n",
       "2135       1.0"
      ]
     },
     "execution_count": 14,
     "metadata": {},
     "output_type": "execute_result"
    }
   ],
   "source": [
    "y.tail()"
   ]
  },
  {
   "cell_type": "markdown",
   "metadata": {},
   "source": [
    "## Define a moving window for training data, where test data is the following season"
   ]
  },
  {
   "cell_type": "code",
   "execution_count": 15,
   "metadata": {
    "ExecuteTime": {
     "end_time": "2019-07-08T03:03:46.478471Z",
     "start_time": "2019-07-08T03:03:46.475742Z"
    }
   },
   "outputs": [],
   "source": [
    "yr = 2017\n",
    "window=4"
   ]
  },
  {
   "cell_type": "code",
   "execution_count": 16,
   "metadata": {
    "ExecuteTime": {
     "end_time": "2019-07-08T03:03:46.487924Z",
     "start_time": "2019-07-08T03:03:46.480454Z"
    }
   },
   "outputs": [],
   "source": [
    "X_train = X[(X[\"schedule_season\"] < yr) & (X[\"schedule_season\"] >= yr - window)]\n",
    "y_train = y[(X[\"schedule_season\"] < yr) & (X[\"schedule_season\"] >= yr - window)].squeeze()"
   ]
  },
  {
   "cell_type": "code",
   "execution_count": 17,
   "metadata": {
    "ExecuteTime": {
     "end_time": "2019-07-08T03:03:46.495407Z",
     "start_time": "2019-07-08T03:03:46.489568Z"
    }
   },
   "outputs": [],
   "source": [
    "X_test = X[(X[\"schedule_season\"] == yr)]\n",
    "y_test = y[(X[\"schedule_season\"] == yr)].squeeze()"
   ]
  },
  {
   "cell_type": "markdown",
   "metadata": {},
   "source": [
    "# Random Forest"
   ]
  },
  {
   "cell_type": "code",
   "execution_count": 18,
   "metadata": {
    "ExecuteTime": {
     "end_time": "2019-07-08T03:03:46.587600Z",
     "start_time": "2019-07-08T03:03:46.497018Z"
    }
   },
   "outputs": [],
   "source": [
    "forest = RandomForestClassifier(n_estimators=30, random_state=33)\n",
    "y_pred = forest.fit(X_train, y_train).predict(X_test)"
   ]
  },
  {
   "cell_type": "code",
   "execution_count": 19,
   "metadata": {
    "ExecuteTime": {
     "end_time": "2019-07-08T03:03:46.595093Z",
     "start_time": "2019-07-08T03:03:46.588973Z"
    }
   },
   "outputs": [
    {
     "data": {
      "text/plain": [
       "0.6479400749063671"
      ]
     },
     "execution_count": 19,
     "metadata": {},
     "output_type": "execute_result"
    }
   ],
   "source": [
    "accuracy_score(y_test, y_pred)"
   ]
  },
  {
   "cell_type": "markdown",
   "metadata": {},
   "source": [
    "## Get the best number of estimators"
   ]
  },
  {
   "cell_type": "code",
   "execution_count": 20,
   "metadata": {
    "ExecuteTime": {
     "end_time": "2019-07-08T03:04:01.129136Z",
     "start_time": "2019-07-08T03:03:46.596710Z"
    }
   },
   "outputs": [
    {
     "name": "stdout",
     "output_type": "stream",
     "text": [
      "50 0.650374531835206\n",
      "100 0.6562734082397004\n",
      "200 0.6580524344569286\n"
     ]
    }
   ],
   "source": [
    "acc = []\n",
    "for n in [50, 100, 200]:\n",
    "    for k in range(20):\n",
    "        forest = RandomForestClassifier(n_estimators=n)\n",
    "        y_pred = forest.fit(X_train, y_train).predict(X_test)\n",
    "        acc.append(accuracy_score(y_test, y_pred))\n",
    "    print(n, np.mean(acc))"
   ]
  },
  {
   "cell_type": "code",
   "execution_count": 21,
   "metadata": {
    "ExecuteTime": {
     "end_time": "2019-07-08T03:04:05.517504Z",
     "start_time": "2019-07-08T03:04:01.130884Z"
    }
   },
   "outputs": [
    {
     "data": {
      "text/plain": [
       "0.6481273408239702"
      ]
     },
     "execution_count": 21,
     "metadata": {},
     "output_type": "execute_result"
    }
   ],
   "source": [
    "acc = []\n",
    "\n",
    "for k in range(20):\n",
    "    forest = RandomForestClassifier(bootstrap=False, max_depth=60,max_features=\"auto\",min_samples_leaf=4,min_samples_split=5,n_estimators=100)\n",
    "\n",
    "    y_pred = forest.fit(X_train, y_train).predict(X_test)\n",
    "    acc.append(accuracy_score(y_test, y_pred))\n",
    "np.mean(acc)"
   ]
  },
  {
   "cell_type": "markdown",
   "metadata": {
    "ExecuteTime": {
     "end_time": "2019-07-03T20:53:10.806655Z",
     "start_time": "2019-07-03T20:53:10.772231Z"
    }
   },
   "source": [
    "## Get the feature importances to see if we can remove any variables"
   ]
  },
  {
   "cell_type": "code",
   "execution_count": 22,
   "metadata": {
    "ExecuteTime": {
     "end_time": "2019-07-08T03:04:05.561111Z",
     "start_time": "2019-07-08T03:04:05.535889Z"
    }
   },
   "outputs": [
    {
     "name": "stdout",
     "output_type": "stream",
     "text": [
      "Most Important Features\n",
      "------------------------------------------------------------\n",
      "               Feature  Importance\n",
      "82       elo_prob_home    0.205526\n",
      "73        h_season_pct    0.089985\n",
      "74  a_avg_season_score    0.085535\n",
      "75  h_avg_season_score    0.071038\n",
      "72        a_season_pct    0.068240\n",
      "77           ELEVATION    0.066797\n",
      "79   a_travel_distance    0.066093\n",
      "78   h_travel_distance    0.059566\n",
      "76       schedule_week    0.052059\n",
      "71     schedule_season    0.024469\n",
      "------------------------------------------------------------\n",
      "\t\n",
      "Least Important Features\n",
      "------------------------------------------------------------\n",
      "                                   Feature  Importance\n",
      "12                  C(team_home_id)[T.HOU]    0.000850\n",
      "24                  C(team_home_id)[T.OAK]    0.000632\n",
      "55                  C(team_away_id)[T.OAK]    0.000584\n",
      "35                  C(team_away_id)[T.CAR]    0.000563\n",
      "67            weather_detail[T.Rain | Fog]    0.000206\n",
      "65                   weather_detail[T.Fog]    0.000018\n",
      "69            weather_detail[T.Snow | Fog]    0.000000\n",
      "70  weather_detail[T.Snow | Freezing Rain]    0.000000\n",
      "68                  weather_detail[T.Snow]    0.000000\n",
      "0                                Intercept    0.000000\n",
      "------------------------------------------------------------\n"
     ]
    }
   ],
   "source": [
    "feature_importance = pd.DataFrame(list(zip(X.columns, forest.feature_importances_)), columns=['Feature', 'Importance']).sort_values('Importance', ascending=False)\n",
    "\n",
    "print('Most Important Features')\n",
    "print('-'*60)\n",
    "print(feature_importance.head(10))\n",
    "print('-'*60)\n",
    "\n",
    "print('\\t')\n",
    "print('Least Important Features')\n",
    "print('-'*60)\n",
    "print(feature_importance.tail(10))\n",
    "print('-'*60)"
   ]
  },
  {
   "cell_type": "markdown",
   "metadata": {},
   "source": [
    "# Grid Search"
   ]
  },
  {
   "cell_type": "code",
   "execution_count": 23,
   "metadata": {
    "ExecuteTime": {
     "end_time": "2019-07-08T03:04:05.578986Z",
     "start_time": "2019-07-08T03:04:05.571877Z"
    }
   },
   "outputs": [],
   "source": [
    "n_estimators = [50,] #[int(x) for x in np.linspace(start = 200, stop = 2000, num = 10)]\n",
    "# Number of features to consider at every split\n",
    "max_features = ['auto', 'sqrt']\n",
    "# Maximum number of levels in tree\n",
    "max_depth = [int(x) for x in np.linspace(10, 110, num = 11)]\n",
    "max_depth.append(None)\n",
    "# Minimum number of samples required to split a node\n",
    "min_samples_split = [2, 5, 10]\n",
    "# Minimum number of samples required at each leaf node\n",
    "min_samples_leaf = [1, 2, 4]\n",
    "# Method of selecting samples for training each tree\n",
    "bootstrap = [True, False]\n",
    "# Create the random grid\n",
    "random_grid = {'n_estimators': n_estimators,\n",
    "               'max_features': max_features,\n",
    "               'max_depth': max_depth,\n",
    "               'min_samples_split': min_samples_split,\n",
    "               'min_samples_leaf': min_samples_leaf,\n",
    "               'bootstrap': bootstrap}"
   ]
  },
  {
   "cell_type": "code",
   "execution_count": 24,
   "metadata": {
    "ExecuteTime": {
     "end_time": "2019-07-08T03:04:05.598112Z",
     "start_time": "2019-07-08T03:04:05.592593Z"
    }
   },
   "outputs": [],
   "source": [
    "n_folds = 3\n",
    "forest_r = RandomForestRegressor(bootstrap=True, max_depth = 10, max_features=\"sqrt\",\n",
    "min_samples_leaf=4, min_samples_split=2, n_estimators=50, random_state=42)\n",
    "gs = GridSearchCV(forest_r,random_grid, cv=n_folds)\n",
    "\n"
   ]
  },
  {
   "cell_type": "code",
   "execution_count": 25,
   "metadata": {
    "ExecuteTime": {
     "end_time": "2019-07-08T03:07:30.620432Z",
     "start_time": "2019-07-08T03:04:05.599646Z"
    }
   },
   "outputs": [
    {
     "data": {
      "text/plain": [
       "GridSearchCV(cv=3, error_score='raise-deprecating',\n",
       "       estimator=RandomForestRegressor(bootstrap=True, criterion='mse', max_depth=10,\n",
       "           max_features='sqrt', max_leaf_nodes=None,\n",
       "           min_impurity_decrease=0.0, min_impurity_split=None,\n",
       "           min_samples_leaf=4, min_samples_split=2,\n",
       "           min_weight_fraction_leaf=0.0, n_estimators=50, n_jobs=None,\n",
       "           oob_score=False, random_state=42, verbose=0, warm_start=False),\n",
       "       fit_params=None, iid='warn', n_jobs=None,\n",
       "       param_grid={'n_estimators': [50], 'max_features': ['auto', 'sqrt'], 'max_depth': [10, 20, 30, 40, 50, 60, 70, 80, 90, 100, 110, None], 'min_samples_split': [2, 5, 10], 'min_samples_leaf': [1, 2, 4], 'bootstrap': [True, False]},\n",
       "       pre_dispatch='2*n_jobs', refit=True, return_train_score='warn',\n",
       "       scoring=None, verbose=0)"
      ]
     },
     "execution_count": 25,
     "metadata": {},
     "output_type": "execute_result"
    }
   ],
   "source": [
    "gs.fit(X_train, y_train)"
   ]
  },
  {
   "cell_type": "code",
   "execution_count": 26,
   "metadata": {
    "ExecuteTime": {
     "end_time": "2019-07-08T03:07:30.628158Z",
     "start_time": "2019-07-08T03:07:30.623604Z"
    }
   },
   "outputs": [
    {
     "data": {
      "text/plain": [
       "{'bootstrap': True,\n",
       " 'max_depth': 10,\n",
       " 'max_features': 'sqrt',\n",
       " 'min_samples_leaf': 4,\n",
       " 'min_samples_split': 2,\n",
       " 'n_estimators': 50}"
      ]
     },
     "execution_count": 26,
     "metadata": {},
     "output_type": "execute_result"
    }
   ],
   "source": [
    "gs.best_params_"
   ]
  },
  {
   "cell_type": "code",
   "execution_count": 27,
   "metadata": {
    "ExecuteTime": {
     "end_time": "2019-07-08T03:07:30.647583Z",
     "start_time": "2019-07-08T03:07:30.632304Z"
    }
   },
   "outputs": [
    {
     "data": {
      "text/plain": [
       "0.6404494382022472"
      ]
     },
     "execution_count": 27,
     "metadata": {},
     "output_type": "execute_result"
    }
   ],
   "source": [
    "y_pred = gs.predict(X_test)\n",
    "accuracy_score(y_test, (y_pred>0.5)*1)"
   ]
  },
  {
   "cell_type": "markdown",
   "metadata": {},
   "source": [
    "# Random Forest Regressor"
   ]
  },
  {
   "cell_type": "code",
   "execution_count": 28,
   "metadata": {
    "ExecuteTime": {
     "end_time": "2019-07-08T03:07:30.664181Z",
     "start_time": "2019-07-08T03:07:30.655457Z"
    }
   },
   "outputs": [],
   "source": [
    "forest_r = RandomForestRegressor(bootstrap=True, max_depth = 10, max_features=\"sqrt\",\n",
    "min_samples_leaf=4, min_samples_split=2, n_estimators=50, random_state=42)"
   ]
  },
  {
   "cell_type": "code",
   "execution_count": 29,
   "metadata": {
    "ExecuteTime": {
     "end_time": "2019-07-08T03:07:30.780615Z",
     "start_time": "2019-07-08T03:07:30.672674Z"
    }
   },
   "outputs": [],
   "source": [
    "y_pred = forest_r.fit(X_train, y_train).predict(X_test)\n"
   ]
  },
  {
   "cell_type": "code",
   "execution_count": 30,
   "metadata": {
    "ExecuteTime": {
     "end_time": "2019-07-08T03:07:30.818142Z",
     "start_time": "2019-07-08T03:07:30.793879Z"
    }
   },
   "outputs": [
    {
     "name": "stdout",
     "output_type": "stream",
     "text": [
      "Most Important Features\n",
      "------------------------------------------------------------\n",
      "                  Feature  Importance\n",
      "82          elo_prob_home    0.220013\n",
      "74     a_avg_season_score    0.094466\n",
      "73           h_season_pct    0.083884\n",
      "72           a_season_pct    0.071484\n",
      "79      a_travel_distance    0.065236\n",
      "75     h_avg_season_score    0.064703\n",
      "77              ELEVATION    0.054410\n",
      "78      h_travel_distance    0.048330\n",
      "76          schedule_week    0.039335\n",
      "20  C(team_home_id)[T.NE]    0.019800\n",
      "------------------------------------------------------------\n",
      "\t\n",
      "Least Important Features\n",
      "------------------------------------------------------------\n",
      "                                   Feature  Importance\n",
      "67            weather_detail[T.Rain | Fog]    0.000388\n",
      "12                  C(team_home_id)[T.HOU]    0.000335\n",
      "63      weather_detail[T.DOME (Open Roof)]    0.000324\n",
      "49                  C(team_away_id)[T.MIA]    0.000322\n",
      "32                  C(team_away_id)[T.ATL]    0.000007\n",
      "68                  weather_detail[T.Snow]    0.000000\n",
      "70  weather_detail[T.Snow | Freezing Rain]    0.000000\n",
      "69            weather_detail[T.Snow | Fog]    0.000000\n",
      "65                   weather_detail[T.Fog]    0.000000\n",
      "0                                Intercept    0.000000\n",
      "------------------------------------------------------------\n"
     ]
    }
   ],
   "source": [
    "feature_importance = pd.DataFrame(list(zip(X.columns, forest_r.feature_importances_)), columns=['Feature', 'Importance']).sort_values('Importance', ascending=False)\n",
    "\n",
    "print('Most Important Features')\n",
    "print('-'*60)\n",
    "print(feature_importance.head(10))\n",
    "print('-'*60)\n",
    "\n",
    "print('\\t')\n",
    "print('Least Important Features')\n",
    "print('-'*60)\n",
    "print(feature_importance.tail(10))\n",
    "print('-'*60)"
   ]
  },
  {
   "cell_type": "code",
   "execution_count": 31,
   "metadata": {
    "ExecuteTime": {
     "end_time": "2019-07-08T03:07:30.823870Z",
     "start_time": "2019-07-08T03:07:30.820884Z"
    }
   },
   "outputs": [],
   "source": [
    "y_pred_2 = 1* (y_pred > .5 )"
   ]
  },
  {
   "cell_type": "code",
   "execution_count": 32,
   "metadata": {
    "ExecuteTime": {
     "end_time": "2019-07-08T03:07:30.831634Z",
     "start_time": "2019-07-08T03:07:30.825444Z"
    }
   },
   "outputs": [
    {
     "data": {
      "text/plain": [
       "0.6404494382022472"
      ]
     },
     "execution_count": 32,
     "metadata": {},
     "output_type": "execute_result"
    }
   ],
   "source": [
    "accuracy_score(y_test, y_pred_2)"
   ]
  },
  {
   "cell_type": "markdown",
   "metadata": {},
   "source": [
    "## Dealing with Close Calls (40% - 60%)"
   ]
  },
  {
   "cell_type": "code",
   "execution_count": 33,
   "metadata": {
    "ExecuteTime": {
     "end_time": "2019-07-08T03:07:30.838662Z",
     "start_time": "2019-07-08T03:07:30.833410Z"
    },
    "scrolled": true
   },
   "outputs": [],
   "source": [
    "# Start with Actual Results and Predicted Probabilities\n",
    "bets_df = pd.DataFrame(list(zip(y_test, y_pred)), columns=['home_win_actual', 'home_win_predicted_prob'])"
   ]
  },
  {
   "cell_type": "code",
   "execution_count": 34,
   "metadata": {
    "ExecuteTime": {
     "end_time": "2019-07-08T03:07:30.857413Z",
     "start_time": "2019-07-08T03:07:30.841927Z"
    }
   },
   "outputs": [
    {
     "data": {
      "text/html": [
       "<div>\n",
       "<style scoped>\n",
       "    .dataframe tbody tr th:only-of-type {\n",
       "        vertical-align: middle;\n",
       "    }\n",
       "\n",
       "    .dataframe tbody tr th {\n",
       "        vertical-align: top;\n",
       "    }\n",
       "\n",
       "    .dataframe thead th {\n",
       "        text-align: right;\n",
       "    }\n",
       "</style>\n",
       "<table border=\"1\" class=\"dataframe\">\n",
       "  <thead>\n",
       "    <tr style=\"text-align: right;\">\n",
       "      <th></th>\n",
       "      <th>home_win_actual</th>\n",
       "      <th>home_win_predicted_prob</th>\n",
       "    </tr>\n",
       "  </thead>\n",
       "  <tbody>\n",
       "    <tr>\n",
       "      <th>0</th>\n",
       "      <td>0.0</td>\n",
       "      <td>0.691547</td>\n",
       "    </tr>\n",
       "    <tr>\n",
       "      <th>1</th>\n",
       "      <td>1.0</td>\n",
       "      <td>0.572446</td>\n",
       "    </tr>\n",
       "    <tr>\n",
       "      <th>2</th>\n",
       "      <td>0.0</td>\n",
       "      <td>0.355665</td>\n",
       "    </tr>\n",
       "    <tr>\n",
       "      <th>3</th>\n",
       "      <td>0.0</td>\n",
       "      <td>0.609637</td>\n",
       "    </tr>\n",
       "    <tr>\n",
       "      <th>4</th>\n",
       "      <td>0.0</td>\n",
       "      <td>0.337666</td>\n",
       "    </tr>\n",
       "  </tbody>\n",
       "</table>\n",
       "</div>"
      ],
      "text/plain": [
       "   home_win_actual  home_win_predicted_prob\n",
       "0              0.0                 0.691547\n",
       "1              1.0                 0.572446\n",
       "2              0.0                 0.355665\n",
       "3              0.0                 0.609637\n",
       "4              0.0                 0.337666"
      ]
     },
     "execution_count": 34,
     "metadata": {},
     "output_type": "execute_result"
    }
   ],
   "source": [
    "bets_df.head()"
   ]
  },
  {
   "cell_type": "code",
   "execution_count": 35,
   "metadata": {
    "ExecuteTime": {
     "end_time": "2019-07-08T03:07:30.878226Z",
     "start_time": "2019-07-08T03:07:30.859374Z"
    }
   },
   "outputs": [
    {
     "data": {
      "text/html": [
       "<div>\n",
       "<style scoped>\n",
       "    .dataframe tbody tr th:only-of-type {\n",
       "        vertical-align: middle;\n",
       "    }\n",
       "\n",
       "    .dataframe tbody tr th {\n",
       "        vertical-align: top;\n",
       "    }\n",
       "\n",
       "    .dataframe thead th {\n",
       "        text-align: right;\n",
       "    }\n",
       "</style>\n",
       "<table border=\"1\" class=\"dataframe\">\n",
       "  <thead>\n",
       "    <tr style=\"text-align: right;\">\n",
       "      <th></th>\n",
       "      <th>home_win_actual</th>\n",
       "      <th>home_win_predicted_prob</th>\n",
       "      <th>close_call</th>\n",
       "    </tr>\n",
       "  </thead>\n",
       "  <tbody>\n",
       "    <tr>\n",
       "      <th>0</th>\n",
       "      <td>0.0</td>\n",
       "      <td>0.691547</td>\n",
       "      <td>False</td>\n",
       "    </tr>\n",
       "    <tr>\n",
       "      <th>1</th>\n",
       "      <td>1.0</td>\n",
       "      <td>0.572446</td>\n",
       "      <td>True</td>\n",
       "    </tr>\n",
       "    <tr>\n",
       "      <th>2</th>\n",
       "      <td>0.0</td>\n",
       "      <td>0.355665</td>\n",
       "      <td>False</td>\n",
       "    </tr>\n",
       "    <tr>\n",
       "      <th>3</th>\n",
       "      <td>0.0</td>\n",
       "      <td>0.609637</td>\n",
       "      <td>False</td>\n",
       "    </tr>\n",
       "    <tr>\n",
       "      <th>4</th>\n",
       "      <td>0.0</td>\n",
       "      <td>0.337666</td>\n",
       "      <td>False</td>\n",
       "    </tr>\n",
       "  </tbody>\n",
       "</table>\n",
       "</div>"
      ],
      "text/plain": [
       "   home_win_actual  home_win_predicted_prob  close_call\n",
       "0              0.0                 0.691547       False\n",
       "1              1.0                 0.572446        True\n",
       "2              0.0                 0.355665       False\n",
       "3              0.0                 0.609637       False\n",
       "4              0.0                 0.337666       False"
      ]
     },
     "execution_count": 35,
     "metadata": {},
     "output_type": "execute_result"
    }
   ],
   "source": [
    "# Define threshold for close call predictions\n",
    "# In this case, threshold=10% so close calls are 40% - 60%\n",
    "thresh = 0.10\n",
    "\n",
    "bets_df['close_call'] = np.abs(bets_df.home_win_predicted_prob - 0.5) < thresh\n",
    "bets_df.head()"
   ]
  },
  {
   "cell_type": "markdown",
   "metadata": {},
   "source": [
    "## Strategy 1: Bet on the Home team if Close Call"
   ]
  },
  {
   "cell_type": "code",
   "execution_count": 36,
   "metadata": {
    "ExecuteTime": {
     "end_time": "2019-07-08T03:07:30.895762Z",
     "start_time": "2019-07-08T03:07:30.881914Z"
    }
   },
   "outputs": [],
   "source": [
    "## If a close call, guess a home team victor\n",
    "def strategy_close_home(row):\n",
    "    if row.close_call:\n",
    "        return 1 # bet on home\n",
    "    else:\n",
    "        return round(row.home_win_predicted_prob, 0)\n",
    "            \n",
    "\n",
    "bets_df[\"s1_bet\"] = bets_df.apply(strategy_close_home, axis=1)\n",
    "bets_df['s1_win'] = 1 * (bets_df.home_win_actual == bets_df.s1_bet)"
   ]
  },
  {
   "cell_type": "code",
   "execution_count": 37,
   "metadata": {
    "ExecuteTime": {
     "end_time": "2019-07-08T03:07:30.909355Z",
     "start_time": "2019-07-08T03:07:30.899317Z"
    }
   },
   "outputs": [
    {
     "data": {
      "text/html": [
       "<div>\n",
       "<style scoped>\n",
       "    .dataframe tbody tr th:only-of-type {\n",
       "        vertical-align: middle;\n",
       "    }\n",
       "\n",
       "    .dataframe tbody tr th {\n",
       "        vertical-align: top;\n",
       "    }\n",
       "\n",
       "    .dataframe thead th {\n",
       "        text-align: right;\n",
       "    }\n",
       "</style>\n",
       "<table border=\"1\" class=\"dataframe\">\n",
       "  <thead>\n",
       "    <tr style=\"text-align: right;\">\n",
       "      <th></th>\n",
       "      <th>home_win_actual</th>\n",
       "      <th>home_win_predicted_prob</th>\n",
       "      <th>close_call</th>\n",
       "      <th>s1_bet</th>\n",
       "      <th>s1_win</th>\n",
       "    </tr>\n",
       "  </thead>\n",
       "  <tbody>\n",
       "    <tr>\n",
       "      <th>0</th>\n",
       "      <td>0.0</td>\n",
       "      <td>0.691547</td>\n",
       "      <td>False</td>\n",
       "      <td>1.0</td>\n",
       "      <td>0</td>\n",
       "    </tr>\n",
       "    <tr>\n",
       "      <th>1</th>\n",
       "      <td>1.0</td>\n",
       "      <td>0.572446</td>\n",
       "      <td>True</td>\n",
       "      <td>1.0</td>\n",
       "      <td>1</td>\n",
       "    </tr>\n",
       "    <tr>\n",
       "      <th>2</th>\n",
       "      <td>0.0</td>\n",
       "      <td>0.355665</td>\n",
       "      <td>False</td>\n",
       "      <td>0.0</td>\n",
       "      <td>1</td>\n",
       "    </tr>\n",
       "    <tr>\n",
       "      <th>3</th>\n",
       "      <td>0.0</td>\n",
       "      <td>0.609637</td>\n",
       "      <td>False</td>\n",
       "      <td>1.0</td>\n",
       "      <td>0</td>\n",
       "    </tr>\n",
       "    <tr>\n",
       "      <th>4</th>\n",
       "      <td>0.0</td>\n",
       "      <td>0.337666</td>\n",
       "      <td>False</td>\n",
       "      <td>0.0</td>\n",
       "      <td>1</td>\n",
       "    </tr>\n",
       "  </tbody>\n",
       "</table>\n",
       "</div>"
      ],
      "text/plain": [
       "   home_win_actual  home_win_predicted_prob  close_call  s1_bet  s1_win\n",
       "0              0.0                 0.691547       False     1.0       0\n",
       "1              1.0                 0.572446        True     1.0       1\n",
       "2              0.0                 0.355665       False     0.0       1\n",
       "3              0.0                 0.609637       False     1.0       0\n",
       "4              0.0                 0.337666       False     0.0       1"
      ]
     },
     "execution_count": 37,
     "metadata": {},
     "output_type": "execute_result"
    }
   ],
   "source": [
    "bets_df.head()"
   ]
  },
  {
   "cell_type": "code",
   "execution_count": 38,
   "metadata": {
    "ExecuteTime": {
     "end_time": "2019-07-08T03:07:30.917624Z",
     "start_time": "2019-07-08T03:07:30.910754Z"
    }
   },
   "outputs": [
    {
     "data": {
      "text/plain": [
       "0.6217228464419475"
      ]
     },
     "execution_count": 38,
     "metadata": {},
     "output_type": "execute_result"
    }
   ],
   "source": [
    "# Percentage of Correct bets based on Strategy 1\n",
    "bets_df[\"s1_win\"].sum()/len(bets_df)"
   ]
  },
  {
   "cell_type": "markdown",
   "metadata": {},
   "source": [
    "# Strategy 2: Don't bet on Close Calls"
   ]
  },
  {
   "cell_type": "code",
   "execution_count": 39,
   "metadata": {
    "ExecuteTime": {
     "end_time": "2019-07-08T03:07:30.941989Z",
     "start_time": "2019-07-08T03:07:30.919179Z"
    }
   },
   "outputs": [],
   "source": [
    "## If a close call, guess a home team victor\n",
    "def strategy_close_abstain(row):\n",
    "    if row.close_call:\n",
    "        return np.nan # indicate no bet made\n",
    "    else:\n",
    "        return round(row.home_win_predicted_prob, 0)\n",
    "            \n",
    "\n",
    "bets_df[\"s2_bet\"] = bets_df.apply(strategy_close_abstain, axis=1)\n",
    "bets_df['s2_win'] = 1 * (bets_df.home_win_actual == bets_df.s2_bet)"
   ]
  },
  {
   "cell_type": "code",
   "execution_count": 40,
   "metadata": {
    "ExecuteTime": {
     "end_time": "2019-07-08T03:07:30.960759Z",
     "start_time": "2019-07-08T03:07:30.946772Z"
    }
   },
   "outputs": [
    {
     "data": {
      "text/html": [
       "<div>\n",
       "<style scoped>\n",
       "    .dataframe tbody tr th:only-of-type {\n",
       "        vertical-align: middle;\n",
       "    }\n",
       "\n",
       "    .dataframe tbody tr th {\n",
       "        vertical-align: top;\n",
       "    }\n",
       "\n",
       "    .dataframe thead th {\n",
       "        text-align: right;\n",
       "    }\n",
       "</style>\n",
       "<table border=\"1\" class=\"dataframe\">\n",
       "  <thead>\n",
       "    <tr style=\"text-align: right;\">\n",
       "      <th></th>\n",
       "      <th>home_win_actual</th>\n",
       "      <th>home_win_predicted_prob</th>\n",
       "      <th>close_call</th>\n",
       "      <th>s1_bet</th>\n",
       "      <th>s1_win</th>\n",
       "      <th>s2_bet</th>\n",
       "      <th>s2_win</th>\n",
       "    </tr>\n",
       "  </thead>\n",
       "  <tbody>\n",
       "    <tr>\n",
       "      <th>0</th>\n",
       "      <td>0.0</td>\n",
       "      <td>0.691547</td>\n",
       "      <td>False</td>\n",
       "      <td>1.0</td>\n",
       "      <td>0</td>\n",
       "      <td>1.0</td>\n",
       "      <td>0</td>\n",
       "    </tr>\n",
       "    <tr>\n",
       "      <th>1</th>\n",
       "      <td>1.0</td>\n",
       "      <td>0.572446</td>\n",
       "      <td>True</td>\n",
       "      <td>1.0</td>\n",
       "      <td>1</td>\n",
       "      <td>NaN</td>\n",
       "      <td>0</td>\n",
       "    </tr>\n",
       "    <tr>\n",
       "      <th>2</th>\n",
       "      <td>0.0</td>\n",
       "      <td>0.355665</td>\n",
       "      <td>False</td>\n",
       "      <td>0.0</td>\n",
       "      <td>1</td>\n",
       "      <td>0.0</td>\n",
       "      <td>1</td>\n",
       "    </tr>\n",
       "    <tr>\n",
       "      <th>3</th>\n",
       "      <td>0.0</td>\n",
       "      <td>0.609637</td>\n",
       "      <td>False</td>\n",
       "      <td>1.0</td>\n",
       "      <td>0</td>\n",
       "      <td>1.0</td>\n",
       "      <td>0</td>\n",
       "    </tr>\n",
       "    <tr>\n",
       "      <th>4</th>\n",
       "      <td>0.0</td>\n",
       "      <td>0.337666</td>\n",
       "      <td>False</td>\n",
       "      <td>0.0</td>\n",
       "      <td>1</td>\n",
       "      <td>0.0</td>\n",
       "      <td>1</td>\n",
       "    </tr>\n",
       "  </tbody>\n",
       "</table>\n",
       "</div>"
      ],
      "text/plain": [
       "   home_win_actual  home_win_predicted_prob  close_call  s1_bet  s1_win  \\\n",
       "0              0.0                 0.691547       False     1.0       0   \n",
       "1              1.0                 0.572446        True     1.0       1   \n",
       "2              0.0                 0.355665       False     0.0       1   \n",
       "3              0.0                 0.609637       False     1.0       0   \n",
       "4              0.0                 0.337666       False     0.0       1   \n",
       "\n",
       "   s2_bet  s2_win  \n",
       "0     1.0       0  \n",
       "1     NaN       0  \n",
       "2     0.0       1  \n",
       "3     1.0       0  \n",
       "4     0.0       1  "
      ]
     },
     "execution_count": 40,
     "metadata": {},
     "output_type": "execute_result"
    }
   ],
   "source": [
    "bets_df.head()"
   ]
  },
  {
   "cell_type": "code",
   "execution_count": 41,
   "metadata": {
    "ExecuteTime": {
     "end_time": "2019-07-08T03:07:30.970205Z",
     "start_time": "2019-07-08T03:07:30.962387Z"
    }
   },
   "outputs": [
    {
     "data": {
      "text/plain": [
       "0.6839378238341969"
      ]
     },
     "execution_count": 41,
     "metadata": {},
     "output_type": "execute_result"
    }
   ],
   "source": [
    "# Percentage of Correct bets based on Strategy 2\n",
    "bets_df[\"s2_win\"].sum()/np.sum(bets_df.s2_bet.notna())"
   ]
  },
  {
   "cell_type": "markdown",
   "metadata": {},
   "source": [
    "# Test on all Data"
   ]
  },
  {
   "cell_type": "code",
   "execution_count": 42,
   "metadata": {
    "ExecuteTime": {
     "end_time": "2019-07-08T03:07:31.057940Z",
     "start_time": "2019-07-08T03:07:30.971694Z"
    }
   },
   "outputs": [],
   "source": [
    "y_pred_all = pd.DataFrame(forest_r.fit(X_train, y_train).predict(X))"
   ]
  },
  {
   "cell_type": "code",
   "execution_count": 43,
   "metadata": {
    "ExecuteTime": {
     "end_time": "2019-07-08T03:07:31.066987Z",
     "start_time": "2019-07-08T03:07:31.059774Z"
    }
   },
   "outputs": [],
   "source": [
    "y_pred_all[\"real\"] = y.iloc[:,0]"
   ]
  },
  {
   "cell_type": "code",
   "execution_count": 44,
   "metadata": {
    "ExecuteTime": {
     "end_time": "2019-07-08T03:07:31.129178Z",
     "start_time": "2019-07-08T03:07:31.070439Z"
    }
   },
   "outputs": [],
   "source": [
    "y_pred_all[\"close_call\"] = y_pred_all.apply(lambda x: (x[0] > .4) and (x[0] < .6) , axis=1)"
   ]
  },
  {
   "cell_type": "code",
   "execution_count": 45,
   "metadata": {
    "ExecuteTime": {
     "end_time": "2019-07-08T03:07:31.229712Z",
     "start_time": "2019-07-08T03:07:31.132314Z"
    }
   },
   "outputs": [],
   "source": [
    "def strategy(row):\n",
    "    if row.close_call:\n",
    "        return row[\"real\"]\n",
    "    else:\n",
    "        return row[\"real\"] == round(row[0])\n",
    "\n",
    "y_pred_all[\"pred\"] = y_pred_all.apply(strategy, axis=1)"
   ]
  },
  {
   "cell_type": "code",
   "execution_count": 46,
   "metadata": {
    "ExecuteTime": {
     "end_time": "2019-07-08T03:07:31.238856Z",
     "start_time": "2019-07-08T03:07:31.231375Z"
    }
   },
   "outputs": [
    {
     "data": {
      "text/plain": [
       "0.6713483146067416"
      ]
     },
     "execution_count": 46,
     "metadata": {},
     "output_type": "execute_result"
    }
   ],
   "source": [
    "y_pred_all[\"pred\"].sum()/len(y_pred_all)"
   ]
  },
  {
   "cell_type": "markdown",
   "metadata": {},
   "source": [
    "# Test on Each Season"
   ]
  },
  {
   "cell_type": "code",
   "execution_count": 47,
   "metadata": {
    "ExecuteTime": {
     "end_time": "2019-07-08T03:07:31.259816Z",
     "start_time": "2019-07-08T03:07:31.243752Z"
    }
   },
   "outputs": [],
   "source": [
    "def model_nfl_predictions(df, season, training_window=4, threshold=0.10):\n",
    "    \"\"\"Random Forest Regressor Model to Predict winner of NFL games in a selected season\"\"\"\n",
    "    \n",
    "    # Define X features and y target\n",
    "    y, X = dmatrices('home_win ~ schedule_season + a_season_pct + h_season_pct \\\n",
    "                 + C(team_home_id) + a_avg_season_score \\\n",
    "                 + h_avg_season_score + C(team_away_id) + schedule_week \\\n",
    "                 + ELEVATION + weather_detail + h_travel_distance \\\n",
    "                 + a_travel_distance + h_days_last_game + a_days_last_game \\\n",
    "                 + elo_prob_home', \n",
    "                 df, return_type = \"dataframe\" )\n",
    "    \n",
    "    # Keep vegas actual spread for comparison, but not in model\n",
    "    vegas_actual = df['actual_spread']\n",
    "    \n",
    "    # Define training seasons and test season\n",
    "    X_train = X[(X[\"schedule_season\"] < season) & (\n",
    "        X[\"schedule_season\"] >= season - training_window)]\n",
    "    y_train = y[(X[\"schedule_season\"] < season) & (\n",
    "        X[\"schedule_season\"] >= season - training_window)].squeeze()\n",
    "    \n",
    "    X_test = X[(X[\"schedule_season\"] == season)]\n",
    "    y_test = y[(X[\"schedule_season\"] == season)].squeeze()\n",
    "    vegas_test_spread = vegas_actual[(X[\"schedule_season\"] == season)]\n",
    "    \n",
    "    print('-'*40)\n",
    "    print('Predictions for {} Season'.format(season))\n",
    "    min_train = int(X_train.schedule_season.min())\n",
    "    max_train = int(X_train.schedule_season.max())\n",
    "    print('Model Based on {}-{} Seasons\\n'.format(min_train, max_train))\n",
    "    \n",
    "    # Naive baseline accuracy (always pick home)\n",
    "    naive_acc = y_test.sum()/len(y_test)\n",
    "    print('Always Pick Home Accuracy: {:.2%}'.format(naive_acc))\n",
    "    \n",
    "    # Target Vegas Favorite accuracy\n",
    "    vegas_acc = (y_test == (vegas_test_spread < 0)).sum()/len(y_test)\n",
    "    print('Target Vegas Accuracy: {:.2%}'.format(vegas_acc))\n",
    "    print('\\t')\n",
    "    \n",
    "    # Define Random Forest Regressor Model\n",
    "    forest_r = RandomForestRegressor(bootstrap=True, max_depth = 10, max_features=\"sqrt\",\n",
    "                                     min_samples_leaf=4, min_samples_split=2, n_estimators=50, random_state=42)\n",
    "    # Make predictions from Random Forest Regressor model\n",
    "    y_pred = forest_r.fit(X_train, y_train).predict(X_test)\n",
    "    \n",
    "    # Print model Accuracy for 0.5 cutoff\n",
    "    model_acc = accuracy_score(y_test, (y_pred > 0.5))\n",
    "    print('Random Forest Accuracy: {:.2%}'.format(model_acc))\n",
    "    \n",
    "    # Start with Actual Results and Predicted Probabilities\n",
    "    bets_df = pd.DataFrame(list(zip(y_test, y_pred)), columns=['home_win_actual', 'home_win_predicted_prob'])\n",
    "    \n",
    "    bets_df['close_call'] = np.abs(bets_df.home_win_predicted_prob - 0.5) < threshold\n",
    "    \n",
    "    # Strategy 1 - Bet on home if close\n",
    "    bets_df[\"s1_bet\"] = bets_df.apply(strategy_close_home, axis=1)\n",
    "    bets_df['s1_win'] = 1 * (bets_df.home_win_actual == bets_df.s1_bet)\n",
    "    strat1_acc = bets_df[\"s1_win\"].sum()/len(bets_df)\n",
    "    \n",
    "    # Strategy 2 - Abstain from bet if close\n",
    "    bets_df[\"s2_bet\"] = bets_df.apply(strategy_close_abstain, axis=1)\n",
    "    bets_df['s2_win'] = 1 * (bets_df.home_win_actual == bets_df.s2_bet)\n",
    "    strat2_acc = bets_df[\"s2_win\"].sum()/np.sum(bets_df.s2_bet.notna())\n",
    "    \n",
    "    print('Strategy 1 Accuracy: {:.2%}'.format(strat1_acc))\n",
    "    print('Strategy 2 Accuracy: {:.2%}'.format(strat2_acc))\n",
    "    print('-'*40)\n",
    "    print('\\t')"
   ]
  },
  {
   "cell_type": "code",
   "execution_count": 48,
   "metadata": {
    "ExecuteTime": {
     "end_time": "2019-07-08T03:07:32.318072Z",
     "start_time": "2019-07-08T03:07:31.262627Z"
    }
   },
   "outputs": [
    {
     "name": "stdout",
     "output_type": "stream",
     "text": [
      "----------------------------------------\n",
      "Predictions for 2012 Season\n",
      "Model Based on 2011-2011 Seasons\n",
      "\n",
      "Always Pick Home Accuracy: 56.55%\n",
      "Target Vegas Accuracy: 63.67%\n",
      "\t\n",
      "Random Forest Accuracy: 62.17%\n",
      "Strategy 1 Accuracy: 61.42%\n",
      "Strategy 2 Accuracy: 69.43%\n",
      "----------------------------------------\n",
      "\t\n",
      "----------------------------------------\n",
      "Predictions for 2013 Season\n",
      "Model Based on 2011-2012 Seasons\n",
      "\n",
      "Always Pick Home Accuracy: 59.18%\n",
      "Target Vegas Accuracy: 64.42%\n",
      "\t\n",
      "Random Forest Accuracy: 60.30%\n",
      "Strategy 1 Accuracy: 58.43%\n",
      "Strategy 2 Accuracy: 69.60%\n",
      "----------------------------------------\n",
      "\t\n",
      "----------------------------------------\n",
      "Predictions for 2014 Season\n",
      "Model Based on 2011-2013 Seasons\n",
      "\n",
      "Always Pick Home Accuracy: 57.30%\n",
      "Target Vegas Accuracy: 68.54%\n",
      "\t\n",
      "Random Forest Accuracy: 66.29%\n",
      "Strategy 1 Accuracy: 62.55%\n",
      "Strategy 2 Accuracy: 70.00%\n",
      "----------------------------------------\n",
      "\t\n",
      "----------------------------------------\n",
      "Predictions for 2015 Season\n",
      "Model Based on 2011-2014 Seasons\n",
      "\n",
      "Always Pick Home Accuracy: 54.31%\n",
      "Target Vegas Accuracy: 64.04%\n",
      "\t\n",
      "Random Forest Accuracy: 63.30%\n",
      "Strategy 1 Accuracy: 59.18%\n",
      "Strategy 2 Accuracy: 70.27%\n",
      "----------------------------------------\n",
      "\t\n",
      "----------------------------------------\n",
      "Predictions for 2016 Season\n",
      "Model Based on 2012-2015 Seasons\n",
      "\n",
      "Always Pick Home Accuracy: 57.68%\n",
      "Target Vegas Accuracy: 67.04%\n",
      "\t\n",
      "Random Forest Accuracy: 64.04%\n",
      "Strategy 1 Accuracy: 58.80%\n",
      "Strategy 2 Accuracy: 66.87%\n",
      "----------------------------------------\n",
      "\t\n",
      "----------------------------------------\n",
      "Predictions for 2017 Season\n",
      "Model Based on 2013-2016 Seasons\n",
      "\n",
      "Always Pick Home Accuracy: 56.93%\n",
      "Target Vegas Accuracy: 60.30%\n",
      "\t\n",
      "Random Forest Accuracy: 64.04%\n",
      "Strategy 1 Accuracy: 62.17%\n",
      "Strategy 2 Accuracy: 68.39%\n",
      "----------------------------------------\n",
      "\t\n",
      "----------------------------------------\n",
      "Predictions for 2018 Season\n",
      "Model Based on 2014-2017 Seasons\n",
      "\n",
      "Always Pick Home Accuracy: 58.80%\n",
      "Target Vegas Accuracy: 67.42%\n",
      "\t\n",
      "Random Forest Accuracy: 62.17%\n",
      "Strategy 1 Accuracy: 63.67%\n",
      "Strategy 2 Accuracy: 64.33%\n",
      "----------------------------------------\n",
      "\t\n"
     ]
    }
   ],
   "source": [
    "for season in range(2012, 2019):\n",
    "    model_nfl_predictions(df, season)"
   ]
  },
  {
   "cell_type": "code",
   "execution_count": null,
   "metadata": {},
   "outputs": [],
   "source": []
  }
 ],
 "metadata": {
  "kernelspec": {
   "display_name": "Python 3",
   "language": "python",
   "name": "python3"
  },
  "language_info": {
   "codemirror_mode": {
    "name": "ipython",
    "version": 3
   },
   "file_extension": ".py",
   "mimetype": "text/x-python",
   "name": "python",
   "nbconvert_exporter": "python",
   "pygments_lexer": "ipython3",
   "version": "3.6.6"
  },
  "toc": {
   "base_numbering": 1,
   "nav_menu": {},
   "number_sections": true,
   "sideBar": true,
   "skip_h1_title": false,
   "title_cell": "Table of Contents",
   "title_sidebar": "Contents",
   "toc_cell": false,
   "toc_position": {},
   "toc_section_display": true,
   "toc_window_display": false
  },
  "varInspector": {
   "cols": {
    "lenName": 16,
    "lenType": 16,
    "lenVar": 40
   },
   "kernels_config": {
    "python": {
     "delete_cmd_postfix": "",
     "delete_cmd_prefix": "del ",
     "library": "var_list.py",
     "varRefreshCmd": "print(var_dic_list())"
    },
    "r": {
     "delete_cmd_postfix": ") ",
     "delete_cmd_prefix": "rm(",
     "library": "var_list.r",
     "varRefreshCmd": "cat(var_dic_list()) "
    }
   },
   "types_to_exclude": [
    "module",
    "function",
    "builtin_function_or_method",
    "instance",
    "_Feature"
   ],
   "window_display": false
  }
 },
 "nbformat": 4,
 "nbformat_minor": 2
}
