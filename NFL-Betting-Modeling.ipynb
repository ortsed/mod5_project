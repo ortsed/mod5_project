{
 "cells": [
  {
   "cell_type": "code",
   "execution_count": 1,
   "metadata": {
    "ExecuteTime": {
     "end_time": "2019-07-03T17:09:05.583809Z",
     "start_time": "2019-07-03T17:09:04.783821Z"
    }
   },
   "outputs": [],
   "source": [
    "import pandas as pd\n",
    "import numpy as np"
   ]
  },
  {
   "cell_type": "code",
   "execution_count": 3,
   "metadata": {
    "ExecuteTime": {
     "end_time": "2019-07-03T17:09:36.020444Z",
     "start_time": "2019-07-03T17:09:35.939127Z"
    }
   },
   "outputs": [],
   "source": [
    "df = pd.read_csv(\"data/data_cumulative_enc.csv\")"
   ]
  },
  {
   "cell_type": "code",
   "execution_count": 5,
   "metadata": {
    "ExecuteTime": {
     "end_time": "2019-07-03T17:10:08.710626Z",
     "start_time": "2019-07-03T17:10:08.702197Z"
    }
   },
   "outputs": [],
   "source": [
    "df = df.drop(columns=\"Unnamed: 0\")"
   ]
  },
  {
   "cell_type": "code",
   "execution_count": 6,
   "metadata": {
    "ExecuteTime": {
     "end_time": "2019-07-03T17:10:10.297346Z",
     "start_time": "2019-07-03T17:10:10.263954Z"
    }
   },
   "outputs": [
    {
     "data": {
      "text/html": [
       "<div>\n",
       "<style scoped>\n",
       "    .dataframe tbody tr th:only-of-type {\n",
       "        vertical-align: middle;\n",
       "    }\n",
       "\n",
       "    .dataframe tbody tr th {\n",
       "        vertical-align: top;\n",
       "    }\n",
       "\n",
       "    .dataframe thead th {\n",
       "        text-align: right;\n",
       "    }\n",
       "</style>\n",
       "<table border=\"1\" class=\"dataframe\">\n",
       "  <thead>\n",
       "    <tr style=\"text-align: right;\">\n",
       "      <th></th>\n",
       "      <th>Intercept</th>\n",
       "      <th>C(team_home_id)[T.ATL]</th>\n",
       "      <th>C(team_home_id)[T.BAL]</th>\n",
       "      <th>C(team_home_id)[T.BUF]</th>\n",
       "      <th>C(team_home_id)[T.CAR]</th>\n",
       "      <th>C(team_home_id)[T.CHI]</th>\n",
       "      <th>C(team_home_id)[T.CIN]</th>\n",
       "      <th>C(team_home_id)[T.CLE]</th>\n",
       "      <th>C(team_home_id)[T.DAL]</th>\n",
       "      <th>C(team_home_id)[T.DEN]</th>\n",
       "      <th>...</th>\n",
       "      <th>C(team_away_id)[T.WAS]</th>\n",
       "      <th>over_under_line</th>\n",
       "      <th>spread_home</th>\n",
       "      <th>schedule_week</th>\n",
       "      <th>ELEVATION</th>\n",
       "      <th>h_travel_distance</th>\n",
       "      <th>a_travel_distance</th>\n",
       "      <th>h_days_last_game</th>\n",
       "      <th>a_days_last_game</th>\n",
       "      <th>home_win</th>\n",
       "    </tr>\n",
       "  </thead>\n",
       "  <tbody>\n",
       "    <tr>\n",
       "      <th>0</th>\n",
       "      <td>1.0</td>\n",
       "      <td>0.0</td>\n",
       "      <td>0.0</td>\n",
       "      <td>0.0</td>\n",
       "      <td>0.0</td>\n",
       "      <td>0.0</td>\n",
       "      <td>0.0</td>\n",
       "      <td>0.0</td>\n",
       "      <td>0.0</td>\n",
       "      <td>0.0</td>\n",
       "      <td>...</td>\n",
       "      <td>0.0</td>\n",
       "      <td>48.0</td>\n",
       "      <td>-5.0</td>\n",
       "      <td>1.0</td>\n",
       "      <td>209.4</td>\n",
       "      <td>0.0</td>\n",
       "      <td>0.0</td>\n",
       "      <td>250.0</td>\n",
       "      <td>250.0</td>\n",
       "      <td>1.0</td>\n",
       "    </tr>\n",
       "    <tr>\n",
       "      <th>1</th>\n",
       "      <td>1.0</td>\n",
       "      <td>0.0</td>\n",
       "      <td>0.0</td>\n",
       "      <td>0.0</td>\n",
       "      <td>0.0</td>\n",
       "      <td>0.0</td>\n",
       "      <td>0.0</td>\n",
       "      <td>0.0</td>\n",
       "      <td>0.0</td>\n",
       "      <td>0.0</td>\n",
       "      <td>...</td>\n",
       "      <td>0.0</td>\n",
       "      <td>37.5</td>\n",
       "      <td>-7.0</td>\n",
       "      <td>1.0</td>\n",
       "      <td>375.2</td>\n",
       "      <td>0.0</td>\n",
       "      <td>0.0</td>\n",
       "      <td>250.0</td>\n",
       "      <td>250.0</td>\n",
       "      <td>1.0</td>\n",
       "    </tr>\n",
       "  </tbody>\n",
       "</table>\n",
       "<p>2 rows × 72 columns</p>\n",
       "</div>"
      ],
      "text/plain": [
       "   Intercept  C(team_home_id)[T.ATL]  C(team_home_id)[T.BAL]  \\\n",
       "0        1.0                     0.0                     0.0   \n",
       "1        1.0                     0.0                     0.0   \n",
       "\n",
       "   C(team_home_id)[T.BUF]  C(team_home_id)[T.CAR]  C(team_home_id)[T.CHI]  \\\n",
       "0                     0.0                     0.0                     0.0   \n",
       "1                     0.0                     0.0                     0.0   \n",
       "\n",
       "   C(team_home_id)[T.CIN]  C(team_home_id)[T.CLE]  C(team_home_id)[T.DAL]  \\\n",
       "0                     0.0                     0.0                     0.0   \n",
       "1                     0.0                     0.0                     0.0   \n",
       "\n",
       "   C(team_home_id)[T.DEN]  ...  C(team_away_id)[T.WAS]  over_under_line  \\\n",
       "0                     0.0  ...                     0.0             48.0   \n",
       "1                     0.0  ...                     0.0             37.5   \n",
       "\n",
       "   spread_home  schedule_week  ELEVATION  h_travel_distance  \\\n",
       "0         -5.0            1.0      209.4                0.0   \n",
       "1         -7.0            1.0      375.2                0.0   \n",
       "\n",
       "   a_travel_distance  h_days_last_game  a_days_last_game  home_win  \n",
       "0                0.0             250.0             250.0       1.0  \n",
       "1                0.0             250.0             250.0       1.0  \n",
       "\n",
       "[2 rows x 72 columns]"
      ]
     },
     "execution_count": 6,
     "metadata": {},
     "output_type": "execute_result"
    }
   ],
   "source": [
    "df.head(2)"
   ]
  },
  {
   "cell_type": "code",
   "execution_count": 16,
   "metadata": {
    "ExecuteTime": {
     "end_time": "2019-07-03T17:24:07.989181Z",
     "start_time": "2019-07-03T17:24:07.866919Z"
    }
   },
   "outputs": [],
   "source": [
    "df[\"acc_pred\"] = df.apply(lambda x: (x[\"spread_home\"] <0)*1 == x[\"home_win\"] , axis=1 )"
   ]
  },
  {
   "cell_type": "code",
   "execution_count": 10,
   "metadata": {
    "ExecuteTime": {
     "end_time": "2019-07-03T17:13:41.521970Z",
     "start_time": "2019-07-03T17:13:41.474315Z"
    }
   },
   "outputs": [
    {
     "data": {
      "text/html": [
       "<div>\n",
       "<style scoped>\n",
       "    .dataframe tbody tr th:only-of-type {\n",
       "        vertical-align: middle;\n",
       "    }\n",
       "\n",
       "    .dataframe tbody tr th {\n",
       "        vertical-align: top;\n",
       "    }\n",
       "\n",
       "    .dataframe thead th {\n",
       "        text-align: right;\n",
       "    }\n",
       "</style>\n",
       "<table border=\"1\" class=\"dataframe\">\n",
       "  <thead>\n",
       "    <tr style=\"text-align: right;\">\n",
       "      <th></th>\n",
       "      <th>Intercept</th>\n",
       "      <th>C(team_home_id)[T.ATL]</th>\n",
       "      <th>C(team_home_id)[T.BAL]</th>\n",
       "      <th>C(team_home_id)[T.BUF]</th>\n",
       "      <th>C(team_home_id)[T.CAR]</th>\n",
       "      <th>C(team_home_id)[T.CHI]</th>\n",
       "      <th>C(team_home_id)[T.CIN]</th>\n",
       "      <th>C(team_home_id)[T.CLE]</th>\n",
       "      <th>C(team_home_id)[T.DAL]</th>\n",
       "      <th>C(team_home_id)[T.DEN]</th>\n",
       "      <th>...</th>\n",
       "      <th>over_under_line</th>\n",
       "      <th>spread_home</th>\n",
       "      <th>schedule_week</th>\n",
       "      <th>ELEVATION</th>\n",
       "      <th>h_travel_distance</th>\n",
       "      <th>a_travel_distance</th>\n",
       "      <th>h_days_last_game</th>\n",
       "      <th>a_days_last_game</th>\n",
       "      <th>home_win</th>\n",
       "      <th>acc_pred</th>\n",
       "    </tr>\n",
       "  </thead>\n",
       "  <tbody>\n",
       "    <tr>\n",
       "      <th>0</th>\n",
       "      <td>1.0</td>\n",
       "      <td>0.0</td>\n",
       "      <td>0.0</td>\n",
       "      <td>0.0</td>\n",
       "      <td>0.0</td>\n",
       "      <td>0.0</td>\n",
       "      <td>0.0</td>\n",
       "      <td>0.0</td>\n",
       "      <td>0.0</td>\n",
       "      <td>0.0</td>\n",
       "      <td>...</td>\n",
       "      <td>48.0</td>\n",
       "      <td>-5.0</td>\n",
       "      <td>1.0</td>\n",
       "      <td>209.4</td>\n",
       "      <td>0.0</td>\n",
       "      <td>0.0</td>\n",
       "      <td>250.0</td>\n",
       "      <td>250.0</td>\n",
       "      <td>1.0</td>\n",
       "      <td>True</td>\n",
       "    </tr>\n",
       "    <tr>\n",
       "      <th>1</th>\n",
       "      <td>1.0</td>\n",
       "      <td>0.0</td>\n",
       "      <td>0.0</td>\n",
       "      <td>0.0</td>\n",
       "      <td>0.0</td>\n",
       "      <td>0.0</td>\n",
       "      <td>0.0</td>\n",
       "      <td>0.0</td>\n",
       "      <td>0.0</td>\n",
       "      <td>0.0</td>\n",
       "      <td>...</td>\n",
       "      <td>37.5</td>\n",
       "      <td>-7.0</td>\n",
       "      <td>1.0</td>\n",
       "      <td>375.2</td>\n",
       "      <td>0.0</td>\n",
       "      <td>0.0</td>\n",
       "      <td>250.0</td>\n",
       "      <td>250.0</td>\n",
       "      <td>1.0</td>\n",
       "      <td>True</td>\n",
       "    </tr>\n",
       "  </tbody>\n",
       "</table>\n",
       "<p>2 rows × 73 columns</p>\n",
       "</div>"
      ],
      "text/plain": [
       "   Intercept  C(team_home_id)[T.ATL]  C(team_home_id)[T.BAL]  \\\n",
       "0        1.0                     0.0                     0.0   \n",
       "1        1.0                     0.0                     0.0   \n",
       "\n",
       "   C(team_home_id)[T.BUF]  C(team_home_id)[T.CAR]  C(team_home_id)[T.CHI]  \\\n",
       "0                     0.0                     0.0                     0.0   \n",
       "1                     0.0                     0.0                     0.0   \n",
       "\n",
       "   C(team_home_id)[T.CIN]  C(team_home_id)[T.CLE]  C(team_home_id)[T.DAL]  \\\n",
       "0                     0.0                     0.0                     0.0   \n",
       "1                     0.0                     0.0                     0.0   \n",
       "\n",
       "   C(team_home_id)[T.DEN]  ...  over_under_line  spread_home  schedule_week  \\\n",
       "0                     0.0  ...             48.0         -5.0            1.0   \n",
       "1                     0.0  ...             37.5         -7.0            1.0   \n",
       "\n",
       "   ELEVATION  h_travel_distance  a_travel_distance  h_days_last_game  \\\n",
       "0      209.4                0.0                0.0             250.0   \n",
       "1      375.2                0.0                0.0             250.0   \n",
       "\n",
       "   a_days_last_game  home_win  acc_pred  \n",
       "0             250.0       1.0      True  \n",
       "1             250.0       1.0      True  \n",
       "\n",
       "[2 rows x 73 columns]"
      ]
     },
     "execution_count": 10,
     "metadata": {},
     "output_type": "execute_result"
    }
   ],
   "source": [
    "df.head(2)"
   ]
  },
  {
   "cell_type": "code",
   "execution_count": 53,
   "metadata": {
    "ExecuteTime": {
     "end_time": "2019-07-03T17:41:37.035816Z",
     "start_time": "2019-07-03T17:41:37.025735Z"
    }
   },
   "outputs": [
    {
     "data": {
      "text/plain": [
       "0.6601525262154433"
      ]
     },
     "execution_count": 53,
     "metadata": {},
     "output_type": "execute_result"
    }
   ],
   "source": [
    "df[\"acc_pred\"].sum()/len(df)"
   ]
  },
  {
   "cell_type": "code",
   "execution_count": 54,
   "metadata": {
    "ExecuteTime": {
     "end_time": "2019-07-03T17:41:40.430845Z",
     "start_time": "2019-07-03T17:41:40.416882Z"
    }
   },
   "outputs": [],
   "source": [
    "from sklearn.model_selection import train_test_split\n",
    "X = df.drop(columns=[\"acc_pred\", \"home_win\"])\n",
    "y = df[\"home_win\"]\n",
    "X_train, X_test, y_train, y_test = train_test_split(X, y, test_size = 0.2)"
   ]
  },
  {
   "cell_type": "code",
   "execution_count": 55,
   "metadata": {
    "ExecuteTime": {
     "end_time": "2019-07-03T17:41:41.116073Z",
     "start_time": "2019-07-03T17:41:41.111385Z"
    }
   },
   "outputs": [],
   "source": [
    "from sklearn.ensemble import RandomForestClassifier"
   ]
  },
  {
   "cell_type": "code",
   "execution_count": 77,
   "metadata": {
    "ExecuteTime": {
     "end_time": "2019-07-03T17:49:04.876282Z",
     "start_time": "2019-07-03T17:49:04.747070Z"
    }
   },
   "outputs": [],
   "source": [
    "forest = RandomForestClassifier(n_estimators=30, random_state=33)\n",
    "y_pred = forest.fit(X_train, y_train).predict(X_test)"
   ]
  },
  {
   "cell_type": "code",
   "execution_count": 78,
   "metadata": {
    "ExecuteTime": {
     "end_time": "2019-07-03T17:49:05.404083Z",
     "start_time": "2019-07-03T17:49:05.400661Z"
    }
   },
   "outputs": [],
   "source": [
    "from sklearn.metrics import accuracy_score"
   ]
  },
  {
   "cell_type": "code",
   "execution_count": 79,
   "metadata": {
    "ExecuteTime": {
     "end_time": "2019-07-03T17:49:06.005006Z",
     "start_time": "2019-07-03T17:49:05.994066Z"
    }
   },
   "outputs": [
    {
     "data": {
      "text/plain": [
       "0.5976190476190476"
      ]
     },
     "execution_count": 79,
     "metadata": {},
     "output_type": "execute_result"
    }
   ],
   "source": [
    "accuracy_score(y_test, y_pred)"
   ]
  },
  {
   "cell_type": "code",
   "execution_count": 25,
   "metadata": {
    "ExecuteTime": {
     "end_time": "2019-07-03T17:30:53.103356Z",
     "start_time": "2019-07-03T17:30:53.045870Z"
    }
   },
   "outputs": [
    {
     "data": {
      "text/html": [
       "<div>\n",
       "<style scoped>\n",
       "    .dataframe tbody tr th:only-of-type {\n",
       "        vertical-align: middle;\n",
       "    }\n",
       "\n",
       "    .dataframe tbody tr th {\n",
       "        vertical-align: top;\n",
       "    }\n",
       "\n",
       "    .dataframe thead th {\n",
       "        text-align: right;\n",
       "    }\n",
       "</style>\n",
       "<table border=\"1\" class=\"dataframe\">\n",
       "  <thead>\n",
       "    <tr style=\"text-align: right;\">\n",
       "      <th></th>\n",
       "      <th>Intercept</th>\n",
       "      <th>C(team_home_id)[T.ATL]</th>\n",
       "      <th>C(team_home_id)[T.BAL]</th>\n",
       "      <th>C(team_home_id)[T.BUF]</th>\n",
       "      <th>C(team_home_id)[T.CAR]</th>\n",
       "      <th>C(team_home_id)[T.CHI]</th>\n",
       "      <th>C(team_home_id)[T.CIN]</th>\n",
       "      <th>C(team_home_id)[T.CLE]</th>\n",
       "      <th>C(team_home_id)[T.DAL]</th>\n",
       "      <th>C(team_home_id)[T.DEN]</th>\n",
       "      <th>...</th>\n",
       "      <th>C(team_away_id)[T.WAS]</th>\n",
       "      <th>over_under_line</th>\n",
       "      <th>spread_home</th>\n",
       "      <th>schedule_week</th>\n",
       "      <th>ELEVATION</th>\n",
       "      <th>h_travel_distance</th>\n",
       "      <th>a_travel_distance</th>\n",
       "      <th>h_days_last_game</th>\n",
       "      <th>a_days_last_game</th>\n",
       "      <th>home_win</th>\n",
       "    </tr>\n",
       "  </thead>\n",
       "  <tbody>\n",
       "    <tr>\n",
       "      <th>0</th>\n",
       "      <td>1.0</td>\n",
       "      <td>0.0</td>\n",
       "      <td>0.0</td>\n",
       "      <td>0.0</td>\n",
       "      <td>0.0</td>\n",
       "      <td>0.0</td>\n",
       "      <td>0.0</td>\n",
       "      <td>0.0</td>\n",
       "      <td>0.0</td>\n",
       "      <td>0.0</td>\n",
       "      <td>...</td>\n",
       "      <td>0.0</td>\n",
       "      <td>48.0</td>\n",
       "      <td>-5.0</td>\n",
       "      <td>1.0</td>\n",
       "      <td>209.4</td>\n",
       "      <td>0.0</td>\n",
       "      <td>0.0</td>\n",
       "      <td>250.0</td>\n",
       "      <td>250.0</td>\n",
       "      <td>1.0</td>\n",
       "    </tr>\n",
       "    <tr>\n",
       "      <th>1</th>\n",
       "      <td>1.0</td>\n",
       "      <td>0.0</td>\n",
       "      <td>0.0</td>\n",
       "      <td>0.0</td>\n",
       "      <td>0.0</td>\n",
       "      <td>0.0</td>\n",
       "      <td>0.0</td>\n",
       "      <td>0.0</td>\n",
       "      <td>0.0</td>\n",
       "      <td>0.0</td>\n",
       "      <td>...</td>\n",
       "      <td>0.0</td>\n",
       "      <td>37.5</td>\n",
       "      <td>-7.0</td>\n",
       "      <td>1.0</td>\n",
       "      <td>375.2</td>\n",
       "      <td>0.0</td>\n",
       "      <td>0.0</td>\n",
       "      <td>250.0</td>\n",
       "      <td>250.0</td>\n",
       "      <td>1.0</td>\n",
       "    </tr>\n",
       "    <tr>\n",
       "      <th>2</th>\n",
       "      <td>1.0</td>\n",
       "      <td>0.0</td>\n",
       "      <td>1.0</td>\n",
       "      <td>0.0</td>\n",
       "      <td>0.0</td>\n",
       "      <td>0.0</td>\n",
       "      <td>0.0</td>\n",
       "      <td>0.0</td>\n",
       "      <td>0.0</td>\n",
       "      <td>0.0</td>\n",
       "      <td>...</td>\n",
       "      <td>0.0</td>\n",
       "      <td>37.0</td>\n",
       "      <td>-1.5</td>\n",
       "      <td>1.0</td>\n",
       "      <td>47.5</td>\n",
       "      <td>0.0</td>\n",
       "      <td>0.0</td>\n",
       "      <td>250.0</td>\n",
       "      <td>250.0</td>\n",
       "      <td>1.0</td>\n",
       "    </tr>\n",
       "    <tr>\n",
       "      <th>3</th>\n",
       "      <td>1.0</td>\n",
       "      <td>0.0</td>\n",
       "      <td>0.0</td>\n",
       "      <td>0.0</td>\n",
       "      <td>0.0</td>\n",
       "      <td>1.0</td>\n",
       "      <td>0.0</td>\n",
       "      <td>0.0</td>\n",
       "      <td>0.0</td>\n",
       "      <td>0.0</td>\n",
       "      <td>...</td>\n",
       "      <td>0.0</td>\n",
       "      <td>41.0</td>\n",
       "      <td>1.5</td>\n",
       "      <td>1.0</td>\n",
       "      <td>177.7</td>\n",
       "      <td>0.0</td>\n",
       "      <td>0.0</td>\n",
       "      <td>250.0</td>\n",
       "      <td>250.0</td>\n",
       "      <td>1.0</td>\n",
       "    </tr>\n",
       "    <tr>\n",
       "      <th>4</th>\n",
       "      <td>1.0</td>\n",
       "      <td>0.0</td>\n",
       "      <td>0.0</td>\n",
       "      <td>0.0</td>\n",
       "      <td>0.0</td>\n",
       "      <td>0.0</td>\n",
       "      <td>0.0</td>\n",
       "      <td>1.0</td>\n",
       "      <td>0.0</td>\n",
       "      <td>0.0</td>\n",
       "      <td>...</td>\n",
       "      <td>0.0</td>\n",
       "      <td>36.5</td>\n",
       "      <td>-7.0</td>\n",
       "      <td>1.0</td>\n",
       "      <td>238.0</td>\n",
       "      <td>0.0</td>\n",
       "      <td>0.0</td>\n",
       "      <td>250.0</td>\n",
       "      <td>250.0</td>\n",
       "      <td>0.0</td>\n",
       "    </tr>\n",
       "  </tbody>\n",
       "</table>\n",
       "<p>5 rows × 72 columns</p>\n",
       "</div>"
      ],
      "text/plain": [
       "   Intercept  C(team_home_id)[T.ATL]  C(team_home_id)[T.BAL]  \\\n",
       "0        1.0                     0.0                     0.0   \n",
       "1        1.0                     0.0                     0.0   \n",
       "2        1.0                     0.0                     1.0   \n",
       "3        1.0                     0.0                     0.0   \n",
       "4        1.0                     0.0                     0.0   \n",
       "\n",
       "   C(team_home_id)[T.BUF]  C(team_home_id)[T.CAR]  C(team_home_id)[T.CHI]  \\\n",
       "0                     0.0                     0.0                     0.0   \n",
       "1                     0.0                     0.0                     0.0   \n",
       "2                     0.0                     0.0                     0.0   \n",
       "3                     0.0                     0.0                     1.0   \n",
       "4                     0.0                     0.0                     0.0   \n",
       "\n",
       "   C(team_home_id)[T.CIN]  C(team_home_id)[T.CLE]  C(team_home_id)[T.DAL]  \\\n",
       "0                     0.0                     0.0                     0.0   \n",
       "1                     0.0                     0.0                     0.0   \n",
       "2                     0.0                     0.0                     0.0   \n",
       "3                     0.0                     0.0                     0.0   \n",
       "4                     0.0                     1.0                     0.0   \n",
       "\n",
       "   C(team_home_id)[T.DEN]  ...  C(team_away_id)[T.WAS]  over_under_line  \\\n",
       "0                     0.0  ...                     0.0             48.0   \n",
       "1                     0.0  ...                     0.0             37.5   \n",
       "2                     0.0  ...                     0.0             37.0   \n",
       "3                     0.0  ...                     0.0             41.0   \n",
       "4                     0.0  ...                     0.0             36.5   \n",
       "\n",
       "   spread_home  schedule_week  ELEVATION  h_travel_distance  \\\n",
       "0         -5.0            1.0      209.4                0.0   \n",
       "1         -7.0            1.0      375.2                0.0   \n",
       "2         -1.5            1.0       47.5                0.0   \n",
       "3          1.5            1.0      177.7                0.0   \n",
       "4         -7.0            1.0      238.0                0.0   \n",
       "\n",
       "   a_travel_distance  h_days_last_game  a_days_last_game  home_win  \n",
       "0                0.0             250.0             250.0       1.0  \n",
       "1                0.0             250.0             250.0       1.0  \n",
       "2                0.0             250.0             250.0       1.0  \n",
       "3                0.0             250.0             250.0       1.0  \n",
       "4                0.0             250.0             250.0       0.0  \n",
       "\n",
       "[5 rows x 72 columns]"
      ]
     },
     "execution_count": 25,
     "metadata": {},
     "output_type": "execute_result"
    }
   ],
   "source": [
    "X.head()"
   ]
  },
  {
   "cell_type": "code",
   "execution_count": 70,
   "metadata": {
    "ExecuteTime": {
     "end_time": "2019-07-03T17:45:13.988951Z",
     "start_time": "2019-07-03T17:45:13.981607Z"
    }
   },
   "outputs": [],
   "source": [
    "from sklearn.decomposition import PCA\n",
    "from sklearn.preprocessing import MinMaxScaler"
   ]
  },
  {
   "cell_type": "code",
   "execution_count": 69,
   "metadata": {
    "ExecuteTime": {
     "end_time": "2019-07-03T17:44:40.845018Z",
     "start_time": "2019-07-03T17:44:40.804016Z"
    }
   },
   "outputs": [
    {
     "data": {
      "text/html": [
       "<div>\n",
       "<style scoped>\n",
       "    .dataframe tbody tr th:only-of-type {\n",
       "        vertical-align: middle;\n",
       "    }\n",
       "\n",
       "    .dataframe tbody tr th {\n",
       "        vertical-align: top;\n",
       "    }\n",
       "\n",
       "    .dataframe thead th {\n",
       "        text-align: right;\n",
       "    }\n",
       "</style>\n",
       "<table border=\"1\" class=\"dataframe\">\n",
       "  <thead>\n",
       "    <tr style=\"text-align: right;\">\n",
       "      <th></th>\n",
       "      <th>Intercept</th>\n",
       "      <th>C(team_home_id)[T.ATL]</th>\n",
       "      <th>C(team_home_id)[T.BAL]</th>\n",
       "      <th>C(team_home_id)[T.BUF]</th>\n",
       "      <th>C(team_home_id)[T.CAR]</th>\n",
       "      <th>C(team_home_id)[T.CHI]</th>\n",
       "      <th>C(team_home_id)[T.CIN]</th>\n",
       "      <th>C(team_home_id)[T.CLE]</th>\n",
       "      <th>C(team_home_id)[T.DAL]</th>\n",
       "      <th>C(team_home_id)[T.DEN]</th>\n",
       "      <th>...</th>\n",
       "      <th>C(team_away_id)[T.TEN]</th>\n",
       "      <th>C(team_away_id)[T.WAS]</th>\n",
       "      <th>over_under_line</th>\n",
       "      <th>spread_home</th>\n",
       "      <th>schedule_week</th>\n",
       "      <th>ELEVATION</th>\n",
       "      <th>h_travel_distance</th>\n",
       "      <th>a_travel_distance</th>\n",
       "      <th>h_days_last_game</th>\n",
       "      <th>a_days_last_game</th>\n",
       "    </tr>\n",
       "  </thead>\n",
       "  <tbody>\n",
       "    <tr>\n",
       "      <th>1200</th>\n",
       "      <td>1.0</td>\n",
       "      <td>0.0</td>\n",
       "      <td>0.0</td>\n",
       "      <td>0.0</td>\n",
       "      <td>0.0</td>\n",
       "      <td>0.0</td>\n",
       "      <td>0.0</td>\n",
       "      <td>0.0</td>\n",
       "      <td>0.0</td>\n",
       "      <td>0.0</td>\n",
       "      <td>...</td>\n",
       "      <td>0.0</td>\n",
       "      <td>0.0</td>\n",
       "      <td>51.0</td>\n",
       "      <td>-3.5</td>\n",
       "      <td>12.0</td>\n",
       "      <td>13.4</td>\n",
       "      <td>0.0</td>\n",
       "      <td>0.0</td>\n",
       "      <td>7.0</td>\n",
       "      <td>14.0</td>\n",
       "    </tr>\n",
       "  </tbody>\n",
       "</table>\n",
       "<p>1 rows × 71 columns</p>\n",
       "</div>"
      ],
      "text/plain": [
       "      Intercept  C(team_home_id)[T.ATL]  C(team_home_id)[T.BAL]  \\\n",
       "1200        1.0                     0.0                     0.0   \n",
       "\n",
       "      C(team_home_id)[T.BUF]  C(team_home_id)[T.CAR]  C(team_home_id)[T.CHI]  \\\n",
       "1200                     0.0                     0.0                     0.0   \n",
       "\n",
       "      C(team_home_id)[T.CIN]  C(team_home_id)[T.CLE]  C(team_home_id)[T.DAL]  \\\n",
       "1200                     0.0                     0.0                     0.0   \n",
       "\n",
       "      C(team_home_id)[T.DEN]  ...  C(team_away_id)[T.TEN]  \\\n",
       "1200                     0.0  ...                     0.0   \n",
       "\n",
       "      C(team_away_id)[T.WAS]  over_under_line  spread_home  schedule_week  \\\n",
       "1200                     0.0             51.0         -3.5           12.0   \n",
       "\n",
       "      ELEVATION  h_travel_distance  a_travel_distance  h_days_last_game  \\\n",
       "1200       13.4                0.0                0.0               7.0   \n",
       "\n",
       "      a_days_last_game  \n",
       "1200              14.0  \n",
       "\n",
       "[1 rows x 71 columns]"
      ]
     },
     "execution_count": 69,
     "metadata": {},
     "output_type": "execute_result"
    }
   ],
   "source": [
    "X_train.head(1)"
   ]
  },
  {
   "cell_type": "code",
   "execution_count": 71,
   "metadata": {
    "ExecuteTime": {
     "end_time": "2019-07-03T17:47:01.877383Z",
     "start_time": "2019-07-03T17:47:01.837856Z"
    }
   },
   "outputs": [],
   "source": [
    "scaler = MinMaxScaler()\n",
    "scaler.fit(X_train)\n",
    "X_train_sc = scaler.transform(X_train)\n",
    "X_test_sc = scaler.transform(X_test)\n",
    "\n",
    "pca = PCA(n_components=20, random_state=33)\n",
    "pca.fit(X_train_sc)\n",
    "X_pca_train = pca.transform(X_train_sc)\n",
    "X_pca_test = pca.transform(X_test_sc)"
   ]
  },
  {
   "cell_type": "code",
   "execution_count": 72,
   "metadata": {
    "ExecuteTime": {
     "end_time": "2019-07-03T17:47:02.838224Z",
     "start_time": "2019-07-03T17:47:02.632768Z"
    }
   },
   "outputs": [],
   "source": [
    "y_pred = forest.fit(X_pca_train, y_train).predict(X_pca_test)"
   ]
  },
  {
   "cell_type": "code",
   "execution_count": 73,
   "metadata": {
    "ExecuteTime": {
     "end_time": "2019-07-03T17:47:03.616471Z",
     "start_time": "2019-07-03T17:47:03.606176Z"
    }
   },
   "outputs": [
    {
     "data": {
      "text/plain": [
       "0.5880952380952381"
      ]
     },
     "execution_count": 73,
     "metadata": {},
     "output_type": "execute_result"
    }
   ],
   "source": [
    "accuracy_score(y_test, y_pred)"
   ]
  },
  {
   "cell_type": "code",
   "execution_count": 76,
   "metadata": {
    "ExecuteTime": {
     "end_time": "2019-07-03T17:48:14.538464Z",
     "start_time": "2019-07-03T17:48:04.507359Z"
    }
   },
   "outputs": [
    {
     "name": "stdout",
     "output_type": "stream",
     "text": [
      "30 0.5761904761904761\n",
      "31 0.5904761904761905\n",
      "32 0.580952380952381\n",
      "33 0.6\n",
      "34 0.5976190476190476\n",
      "35 0.6071428571428571\n",
      "36 0.5976190476190476\n",
      "37 0.5976190476190476\n",
      "38 0.5952380952380952\n",
      "39 0.6214285714285714\n",
      "40 0.5952380952380952\n",
      "41 0.5833333333333334\n",
      "42 0.6047619047619047\n",
      "43 0.6023809523809524\n",
      "44 0.6023809523809524\n",
      "45 0.5833333333333334\n",
      "46 0.6238095238095238\n",
      "47 0.5833333333333334\n",
      "48 0.6\n",
      "49 0.611904761904762\n",
      "50 0.5857142857142857\n",
      "51 0.5928571428571429\n",
      "52 0.6047619047619047\n",
      "53 0.5928571428571429\n",
      "54 0.5928571428571429\n",
      "55 0.6\n",
      "56 0.5714285714285714\n",
      "57 0.5904761904761905\n",
      "58 0.5857142857142857\n",
      "59 0.6261904761904762\n"
     ]
    }
   ],
   "source": [
    "for k in range(30,60):\n",
    "    pca = PCA(n_components=k, random_state=33)\n",
    "    pca.fit(X_train_sc)\n",
    "    X_pca_train = pca.transform(X_train_sc)\n",
    "    X_pca_test = pca.transform(X_test_sc)\n",
    "    y_pred = forest.fit(X_pca_train, y_train).predict(X_pca_test)\n",
    "    print(k, accuracy_score(y_test, y_pred))"
   ]
  },
  {
   "cell_type": "code",
   "execution_count": 68,
   "metadata": {
    "ExecuteTime": {
     "end_time": "2019-07-03T17:43:25.398995Z",
     "start_time": "2019-07-03T17:43:25.391046Z"
    }
   },
   "outputs": [
    {
     "data": {
      "text/plain": [
       "(1678, 71)"
      ]
     },
     "execution_count": 68,
     "metadata": {},
     "output_type": "execute_result"
    }
   ],
   "source": [
    "X_train.shape"
   ]
  },
  {
   "cell_type": "code",
   "execution_count": null,
   "metadata": {},
   "outputs": [],
   "source": [
    "X_train_yr = X_train[X_train[]]\n",
    "forest = RandomForestClassifier(n_estimators=30, random_state=33)\n",
    "y_pred = forest.fit(X_train, y_train).predict(X_test)"
   ]
  }
 ],
 "metadata": {
  "kernelspec": {
   "display_name": "Python 3",
   "language": "python",
   "name": "python3"
  },
  "language_info": {
   "codemirror_mode": {
    "name": "ipython",
    "version": 3
   },
   "file_extension": ".py",
   "mimetype": "text/x-python",
   "name": "python",
   "nbconvert_exporter": "python",
   "pygments_lexer": "ipython3",
   "version": "3.7.3"
  },
  "toc": {
   "base_numbering": 1,
   "nav_menu": {},
   "number_sections": true,
   "sideBar": true,
   "skip_h1_title": false,
   "title_cell": "Table of Contents",
   "title_sidebar": "Contents",
   "toc_cell": false,
   "toc_position": {},
   "toc_section_display": true,
   "toc_window_display": false
  },
  "varInspector": {
   "cols": {
    "lenName": 16,
    "lenType": 16,
    "lenVar": 40
   },
   "kernels_config": {
    "python": {
     "delete_cmd_postfix": "",
     "delete_cmd_prefix": "del ",
     "library": "var_list.py",
     "varRefreshCmd": "print(var_dic_list())"
    },
    "r": {
     "delete_cmd_postfix": ") ",
     "delete_cmd_prefix": "rm(",
     "library": "var_list.r",
     "varRefreshCmd": "cat(var_dic_list()) "
    }
   },
   "types_to_exclude": [
    "module",
    "function",
    "builtin_function_or_method",
    "instance",
    "_Feature"
   ],
   "window_display": false
  }
 },
 "nbformat": 4,
 "nbformat_minor": 2
}
